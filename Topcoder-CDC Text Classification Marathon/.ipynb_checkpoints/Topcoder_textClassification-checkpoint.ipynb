{
 "cells": [
  {
   "cell_type": "code",
   "execution_count": 16,
   "metadata": {
    "colab": {
     "base_uri": "https://localhost:8080/",
     "height": 312
    },
    "colab_type": "code",
    "id": "Kclh6v6jZhW5",
    "outputId": "eb6c70d8-6bed-4c1f-b4db-7766451fa7e0"
   },
   "outputs": [
    {
     "name": "stdout",
     "output_type": "stream",
     "text": [
      "Tue Nov 19 08:26:01 2019       \n",
      "+-----------------------------------------------------------------------------+\n",
      "| NVIDIA-SMI 430.50       Driver Version: 418.67       CUDA Version: 10.1     |\n",
      "|-------------------------------+----------------------+----------------------+\n",
      "| GPU  Name        Persistence-M| Bus-Id        Disp.A | Volatile Uncorr. ECC |\n",
      "| Fan  Temp  Perf  Pwr:Usage/Cap|         Memory-Usage | GPU-Util  Compute M. |\n",
      "|===============================+======================+======================|\n",
      "|   0  Tesla P100-PCIE...  Off  | 00000000:00:04.0 Off |                    0 |\n",
      "| N/A   36C    P0    26W / 250W |     10MiB / 16280MiB |      0%      Default |\n",
      "+-------------------------------+----------------------+----------------------+\n",
      "                                                                               \n",
      "+-----------------------------------------------------------------------------+\n",
      "| Processes:                                                       GPU Memory |\n",
      "|  GPU       PID   Type   Process name                             Usage      |\n",
      "|=============================================================================|\n",
      "|  No running processes found                                                 |\n",
      "+-----------------------------------------------------------------------------+\n"
     ]
    }
   ],
   "source": [
    "! nvidia-smi"
   ]
  },
  {
   "cell_type": "code",
   "execution_count": 0,
   "metadata": {
    "colab": {},
    "colab_type": "code",
    "id": "c9wnjQ-SZQKA"
   },
   "outputs": [],
   "source": [
    "from fastai import *\n",
    "from fastai.text import *"
   ]
  },
  {
   "cell_type": "code",
   "execution_count": 0,
   "metadata": {
    "colab": {},
    "colab_type": "code",
    "id": "3MGDLTznZeHe"
   },
   "outputs": [],
   "source": [
    "train_df = pd.read_csv('./train.csv')\n",
    "test_df = pd.read_csv('./test.csv')\n",
    "pd.set_option('display.max_colwidth', -1)"
   ]
  },
  {
   "cell_type": "code",
   "execution_count": 64,
   "metadata": {
    "colab": {
     "base_uri": "https://localhost:8080/",
     "height": 206
    },
    "colab_type": "code",
    "id": "Az2fg8tJb9Kp",
    "outputId": "be48bd1c-8f5b-441a-d292-926078b9f190"
   },
   "outputs": [
    {
     "data": {
      "text/html": [
       "<div>\n",
       "<style scoped>\n",
       "    .dataframe tbody tr th:only-of-type {\n",
       "        vertical-align: middle;\n",
       "    }\n",
       "\n",
       "    .dataframe tbody tr th {\n",
       "        vertical-align: top;\n",
       "    }\n",
       "\n",
       "    .dataframe thead th {\n",
       "        text-align: right;\n",
       "    }\n",
       "</style>\n",
       "<table border=\"1\" class=\"dataframe\">\n",
       "  <thead>\n",
       "    <tr style=\"text-align: right;\">\n",
       "      <th></th>\n",
       "      <th>text</th>\n",
       "      <th>sex</th>\n",
       "      <th>age</th>\n",
       "      <th>event</th>\n",
       "    </tr>\n",
       "  </thead>\n",
       "  <tbody>\n",
       "    <tr>\n",
       "      <th>153927</th>\n",
       "      <td>23 YO F C O 1 DAY OF THROAT PAIN ALSO LOWER BACK PAIN 1 DAY LIFTS HEAVYOBJECTS AT WORK ALL THE TIME DX PHARHYNGITIS LUMBAR STRAIN</td>\n",
       "      <td>2</td>\n",
       "      <td>23</td>\n",
       "      <td>71</td>\n",
       "    </tr>\n",
       "    <tr>\n",
       "      <th>153928</th>\n",
       "      <td>48 YM TECH AT WORK LIFTING PTS AND PULLED A MUSCLE IN BACK DX LOW BACKSPRAIN</td>\n",
       "      <td>1</td>\n",
       "      <td>48</td>\n",
       "      <td>71</td>\n",
       "    </tr>\n",
       "    <tr>\n",
       "      <th>153945</th>\n",
       "      <td>57YOM WITH LOW BACK PAIN AFTER LIFTING A HEAVY BOX AT WORK   DX PAIN</td>\n",
       "      <td>1</td>\n",
       "      <td>57</td>\n",
       "      <td>71</td>\n",
       "    </tr>\n",
       "    <tr>\n",
       "      <th>153949</th>\n",
       "      <td>55YOF WITH ABDOMINAL PAIN STS AT WORK DOING HEAVY LIFTING  FELT A RIPPING TEARING SENSATION TO R LOWER ABDOMEN DX R ABDOMINAL WALL STRAIN</td>\n",
       "      <td>2</td>\n",
       "      <td>55</td>\n",
       "      <td>71</td>\n",
       "    </tr>\n",
       "    <tr>\n",
       "      <th>153951</th>\n",
       "      <td>19YOF DOING UNSPECIFIED LIFTING AT WORK AND DEVELOPED PAIN ACROSS CHES T CHEST PAIN</td>\n",
       "      <td>2</td>\n",
       "      <td>19</td>\n",
       "      <td>71</td>\n",
       "    </tr>\n",
       "  </tbody>\n",
       "</table>\n",
       "</div>"
      ],
      "text/plain": [
       "                                                                                                                                             text  ...  event\n",
       "153927  23 YO F C O 1 DAY OF THROAT PAIN ALSO LOWER BACK PAIN 1 DAY LIFTS HEAVYOBJECTS AT WORK ALL THE TIME DX PHARHYNGITIS LUMBAR STRAIN          ...  71   \n",
       "153928  48 YM TECH AT WORK LIFTING PTS AND PULLED A MUSCLE IN BACK DX LOW BACKSPRAIN                                                               ...  71   \n",
       "153945  57YOM WITH LOW BACK PAIN AFTER LIFTING A HEAVY BOX AT WORK   DX PAIN                                                                       ...  71   \n",
       "153949  55YOF WITH ABDOMINAL PAIN STS AT WORK DOING HEAVY LIFTING  FELT A RIPPING TEARING SENSATION TO R LOWER ABDOMEN DX R ABDOMINAL WALL STRAIN  ...  71   \n",
       "153951  19YOF DOING UNSPECIFIED LIFTING AT WORK AND DEVELOPED PAIN ACROSS CHES T CHEST PAIN                                                        ...  71   \n",
       "\n",
       "[5 rows x 4 columns]"
      ]
     },
     "execution_count": 64,
     "metadata": {
      "tags": []
     },
     "output_type": "execute_result"
    }
   ],
   "source": [
    "train_df[train_df['event']==71].tail(5)"
   ]
  },
  {
   "cell_type": "code",
   "execution_count": 0,
   "metadata": {
    "colab": {},
    "colab_type": "code",
    "id": "fx3Ab3uUb-e6"
   },
   "outputs": [],
   "source": [
    "(train_df['event'].value_counts())"
   ]
  },
  {
   "cell_type": "code",
   "execution_count": 21,
   "metadata": {
    "colab": {
     "base_uri": "https://localhost:8080/",
     "height": 206
    },
    "colab_type": "code",
    "id": "oFqoPyjqcCpv",
    "outputId": "0f020813-5ce1-4223-fb04-27490be9a1fe"
   },
   "outputs": [
    {
     "data": {
      "text/html": [
       "<div>\n",
       "<style scoped>\n",
       "    .dataframe tbody tr th:only-of-type {\n",
       "        vertical-align: middle;\n",
       "    }\n",
       "\n",
       "    .dataframe tbody tr th {\n",
       "        vertical-align: top;\n",
       "    }\n",
       "\n",
       "    .dataframe thead th {\n",
       "        text-align: right;\n",
       "    }\n",
       "</style>\n",
       "<table border=\"1\" class=\"dataframe\">\n",
       "  <thead>\n",
       "    <tr style=\"text-align: right;\">\n",
       "      <th></th>\n",
       "      <th>text</th>\n",
       "      <th>sex</th>\n",
       "      <th>age</th>\n",
       "    </tr>\n",
       "  </thead>\n",
       "  <tbody>\n",
       "    <tr>\n",
       "      <th>0</th>\n",
       "      <td>54 Y O F PUNCTURE WOUND OF FIINGER RE ATTACHING A CAP ON AN INSULIN SYRING SHE HAD JUST USED ON HER HOME CARE PATIENT</td>\n",
       "      <td>2</td>\n",
       "      <td>54</td>\n",
       "    </tr>\n",
       "    <tr>\n",
       "      <th>1</th>\n",
       "      <td>22 YOM CONTUSION TO LT LOWER LEG S P MVC HIT BY CAR GUIDING IN A CAR GAS PEDAL GOT STUCK PUSHING HIM AGAINST DOOR  WORK YESTERDAY AM</td>\n",
       "      <td>1</td>\n",
       "      <td>22</td>\n",
       "    </tr>\n",
       "    <tr>\n",
       "      <th>2</th>\n",
       "      <td>20 YOM PT WORKS IN A QUARRY  WAS ATTEMPTING TO DISLODGE A LARGE ROCK AND DEVELOPED CHEST PAINS  DX CHEST WALL PAIN</td>\n",
       "      <td>1</td>\n",
       "      <td>20</td>\n",
       "    </tr>\n",
       "    <tr>\n",
       "      <th>3</th>\n",
       "      <td>38 YOF WAS WALKING AT WORK TWISTED HER LT ANKLE  LATER HER RIGHT KNEE DX LEFT ANKLE AND KNEE SPRAIN</td>\n",
       "      <td>2</td>\n",
       "      <td>38</td>\n",
       "    </tr>\n",
       "    <tr>\n",
       "      <th>4</th>\n",
       "      <td>44 YOM C O LOW BACK PAIN AFTER LIFTING A BOX AT WORK TODAY DX LEFT SIDED LOW BACK PAIN</td>\n",
       "      <td>1</td>\n",
       "      <td>44</td>\n",
       "    </tr>\n",
       "  </tbody>\n",
       "</table>\n",
       "</div>"
      ],
      "text/plain": [
       "                                                                                                                                   text  ...  age\n",
       "0  54 Y O F PUNCTURE WOUND OF FIINGER RE ATTACHING A CAP ON AN INSULIN SYRING SHE HAD JUST USED ON HER HOME CARE PATIENT                 ...  54 \n",
       "1  22 YOM CONTUSION TO LT LOWER LEG S P MVC HIT BY CAR GUIDING IN A CAR GAS PEDAL GOT STUCK PUSHING HIM AGAINST DOOR  WORK YESTERDAY AM  ...  22 \n",
       "2  20 YOM PT WORKS IN A QUARRY  WAS ATTEMPTING TO DISLODGE A LARGE ROCK AND DEVELOPED CHEST PAINS  DX CHEST WALL PAIN                    ...  20 \n",
       "3  38 YOF WAS WALKING AT WORK TWISTED HER LT ANKLE  LATER HER RIGHT KNEE DX LEFT ANKLE AND KNEE SPRAIN                                   ...  38 \n",
       "4  44 YOM C O LOW BACK PAIN AFTER LIFTING A BOX AT WORK TODAY DX LEFT SIDED LOW BACK PAIN                                                ...  44 \n",
       "\n",
       "[5 rows x 3 columns]"
      ]
     },
     "execution_count": 21,
     "metadata": {
      "tags": []
     },
     "output_type": "execute_result"
    }
   ],
   "source": [
    "test_df.head()"
   ]
  },
  {
   "cell_type": "code",
   "execution_count": 0,
   "metadata": {
    "colab": {},
    "colab_type": "code",
    "id": "SIkslyuOcwt4"
   },
   "outputs": [],
   "source": [
    "lm_df = pd.DataFrame(pd.concat([train_df['text'], test_df['text']]))\n",
    "lm_df.reset_index(drop=True, inplace=True)"
   ]
  },
  {
   "cell_type": "code",
   "execution_count": 37,
   "metadata": {
    "colab": {
     "base_uri": "https://localhost:8080/",
     "height": 424
    },
    "colab_type": "code",
    "id": "jOxdEd4dgZpx",
    "outputId": "f6416f37-c92e-4d15-99db-484097192dbb"
   },
   "outputs": [
    {
     "data": {
      "text/html": [
       "<div>\n",
       "<style scoped>\n",
       "    .dataframe tbody tr th:only-of-type {\n",
       "        vertical-align: middle;\n",
       "    }\n",
       "\n",
       "    .dataframe tbody tr th {\n",
       "        vertical-align: top;\n",
       "    }\n",
       "\n",
       "    .dataframe thead th {\n",
       "        text-align: right;\n",
       "    }\n",
       "</style>\n",
       "<table border=\"1\" class=\"dataframe\">\n",
       "  <thead>\n",
       "    <tr style=\"text-align: right;\">\n",
       "      <th></th>\n",
       "      <th>text</th>\n",
       "    </tr>\n",
       "  </thead>\n",
       "  <tbody>\n",
       "    <tr>\n",
       "      <th>0</th>\n",
       "      <td>57YOM WITH CONTUSION TO FACE AFTER STRIKING IT WITH A POST POUNDER WHILE SETTING A FENCE POST</td>\n",
       "    </tr>\n",
       "    <tr>\n",
       "      <th>1</th>\n",
       "      <td>A 45YOM FELL ON ARM WHILE WORKING HAD SLIPPED ON WATER FX WRIST</td>\n",
       "    </tr>\n",
       "    <tr>\n",
       "      <th>2</th>\n",
       "      <td>58YOM WITH CERVICAL STRAIN  BACK PAIN S P RESTRAINED TAXI DRIVER IN LOW SPEED REAR END MVC NO LOC NO AB DEPLOYED</td>\n",
       "    </tr>\n",
       "    <tr>\n",
       "      <th>3</th>\n",
       "      <td>33 YOM LAC TO HAND FROM A RAZOR KNIFE</td>\n",
       "    </tr>\n",
       "    <tr>\n",
       "      <th>4</th>\n",
       "      <td>53YOM AT WORK IN A WAREHOUSE DOING UNSPECIFIED LIFTING AND STRAINED LO WER BACK</td>\n",
       "    </tr>\n",
       "    <tr>\n",
       "      <th>...</th>\n",
       "      <td>...</td>\n",
       "    </tr>\n",
       "    <tr>\n",
       "      <th>229815</th>\n",
       "      <td>49YOM COACHING FOOTBALL WHEN COLLIDED WITH PLAYER PAIN RT LEG DIFF BREATHING DX FX 1 RIB LEFT SIDE CLD FX SPRAIN RT ANKLE</td>\n",
       "    </tr>\n",
       "    <tr>\n",
       "      <th>229816</th>\n",
       "      <td>33 YO MALE WAS USING WIRE BRUSH AT WORK WHEN PIECE OF IT GOT IN HIS EYE DX FOREIGN BODY IN EYE</td>\n",
       "    </tr>\n",
       "    <tr>\n",
       "      <th>229817</th>\n",
       "      <td>36YOM LIFTING AT WORK BACK PX DX THORACIC STRAIN</td>\n",
       "    </tr>\n",
       "    <tr>\n",
       "      <th>229818</th>\n",
       "      <td>24 YO F PT WAS AT WORK WHEN SHE POKED LT THUMB WTH A NEEDLE AFTER DRAWING BLOOD ON A PATIENT DX PUNCTURE WOUND LT THUMB</td>\n",
       "    </tr>\n",
       "    <tr>\n",
       "      <th>229819</th>\n",
       "      <td>42 YO M PICKING UP A CAR HURT BACK AT WORK DX LOW BACK PAIN</td>\n",
       "    </tr>\n",
       "  </tbody>\n",
       "</table>\n",
       "<p>229820 rows × 1 columns</p>\n",
       "</div>"
      ],
      "text/plain": [
       "                                                                                                                             text\n",
       "0       57YOM WITH CONTUSION TO FACE AFTER STRIKING IT WITH A POST POUNDER WHILE SETTING A FENCE POST                            \n",
       "1       A 45YOM FELL ON ARM WHILE WORKING HAD SLIPPED ON WATER FX WRIST                                                          \n",
       "2       58YOM WITH CERVICAL STRAIN  BACK PAIN S P RESTRAINED TAXI DRIVER IN LOW SPEED REAR END MVC NO LOC NO AB DEPLOYED         \n",
       "3       33 YOM LAC TO HAND FROM A RAZOR KNIFE                                                                                    \n",
       "4       53YOM AT WORK IN A WAREHOUSE DOING UNSPECIFIED LIFTING AND STRAINED LO WER BACK                                          \n",
       "...                                                                                 ...                                          \n",
       "229815  49YOM COACHING FOOTBALL WHEN COLLIDED WITH PLAYER PAIN RT LEG DIFF BREATHING DX FX 1 RIB LEFT SIDE CLD FX SPRAIN RT ANKLE\n",
       "229816  33 YO MALE WAS USING WIRE BRUSH AT WORK WHEN PIECE OF IT GOT IN HIS EYE DX FOREIGN BODY IN EYE                           \n",
       "229817  36YOM LIFTING AT WORK BACK PX DX THORACIC STRAIN                                                                         \n",
       "229818  24 YO F PT WAS AT WORK WHEN SHE POKED LT THUMB WTH A NEEDLE AFTER DRAWING BLOOD ON A PATIENT DX PUNCTURE WOUND LT THUMB  \n",
       "229819  42 YO M PICKING UP A CAR HURT BACK AT WORK DX LOW BACK PAIN                                                              \n",
       "\n",
       "[229820 rows x 1 columns]"
      ]
     },
     "execution_count": 37,
     "metadata": {
      "tags": []
     },
     "output_type": "execute_result"
    }
   ],
   "source": [
    "lm_df"
   ]
  },
  {
   "cell_type": "code",
   "execution_count": 0,
   "metadata": {
    "colab": {},
    "colab_type": "code",
    "id": "1tce0gpKfVy1"
   },
   "outputs": [],
   "source": [
    "lm_df.to_csv('./lm_csv.csv')"
   ]
  },
  {
   "cell_type": "code",
   "execution_count": 0,
   "metadata": {
    "colab": {},
    "colab_type": "code",
    "id": "etCZ0TxBhpAh"
   },
   "outputs": [],
   "source": [
    "path = Path('./')"
   ]
  },
  {
   "cell_type": "code",
   "execution_count": 0,
   "metadata": {
    "colab": {},
    "colab_type": "code",
    "id": "8A6Q__3VJKFu"
   },
   "outputs": [],
   "source": [
    "data_lm_fwd = TextList.from_df(lm_df, path=path).split_by_rand_pct(0.1, seed=42).label_for_lm().databunch(bs=48)"
   ]
  },
  {
   "cell_type": "code",
   "execution_count": 0,
   "metadata": {
    "colab": {},
    "colab_type": "code",
    "id": "bC1jc6W3hcgJ"
   },
   "outputs": [],
   "source": [
    "learn_fwd = language_model_learner(data_lm_fwd, AWD_LSTM, drop_mult=0.3)"
   ]
  },
  {
   "cell_type": "code",
   "execution_count": 0,
   "metadata": {
    "colab": {},
    "colab_type": "code",
    "id": "AcUUB_dqiWFN"
   },
   "outputs": [],
   "source": [
    "! mkdir models"
   ]
  },
  {
   "cell_type": "code",
   "execution_count": 0,
   "metadata": {
    "colab": {},
    "colab_type": "code",
    "id": "1ONDaY9khjUr"
   },
   "outputs": [],
   "source": [
    "learn_fwd.model_dir='./models/'"
   ]
  },
  {
   "cell_type": "code",
   "execution_count": 46,
   "metadata": {
    "colab": {
     "base_uri": "https://localhost:8080/",
     "height": 331
    },
    "colab_type": "code",
    "id": "vD-V3oJpiaTR",
    "outputId": "cd1984da-a24f-44d5-e14b-62a10a6dfb20"
   },
   "outputs": [
    {
     "data": {
      "text/html": [],
      "text/plain": [
       "<IPython.core.display.HTML object>"
      ]
     },
     "metadata": {
      "tags": []
     },
     "output_type": "display_data"
    },
    {
     "name": "stdout",
     "output_type": "stream",
     "text": [
      "LR Finder is complete, type {learner_name}.recorder.plot() to see the graph.\n",
      "Min numerical gradient: 1.58E-02\n",
      "Min loss divided by 10: 1.32E-01\n"
     ]
    },
    {
     "data": {
      "image/png": "[encoded data removed]",
      "text/plain": [
       "<Figure size 432x288 with 1 Axes>"
      ]
     },
     "metadata": {
      "tags": []
     },
     "output_type": "display_data"
    }
   ],
   "source": [
    "learn_fwd.lr_find()\n",
    "learn_fwd.recorder.plot(suggestion=True)"
   ]
  },
  {
   "cell_type": "code",
   "execution_count": 47,
   "metadata": {
    "colab": {
     "base_uri": "https://localhost:8080/",
     "height": 363
    },
    "colab_type": "code",
    "id": "Qe8gCIXdigzG",
    "outputId": "17f91c9f-4e9b-4431-bf17-d4b3601b691b"
   },
   "outputs": [
    {
     "data": {
      "text/html": [
       "<table border=\"1\" class=\"dataframe\">\n",
       "  <thead>\n",
       "    <tr style=\"text-align: left;\">\n",
       "      <th>epoch</th>\n",
       "      <th>train_loss</th>\n",
       "      <th>valid_loss</th>\n",
       "      <th>accuracy</th>\n",
       "      <th>time</th>\n",
       "    </tr>\n",
       "  </thead>\n",
       "  <tbody>\n",
       "    <tr>\n",
       "      <td>0</td>\n",
       "      <td>2.054095</td>\n",
       "      <td>1.927972</td>\n",
       "      <td>0.624384</td>\n",
       "      <td>03:25</td>\n",
       "    </tr>\n",
       "    <tr>\n",
       "      <td>1</td>\n",
       "      <td>2.177345</td>\n",
       "      <td>2.020508</td>\n",
       "      <td>0.617179</td>\n",
       "      <td>03:25</td>\n",
       "    </tr>\n",
       "    <tr>\n",
       "      <td>2</td>\n",
       "      <td>2.251911</td>\n",
       "      <td>2.064980</td>\n",
       "      <td>0.614271</td>\n",
       "      <td>03:25</td>\n",
       "    </tr>\n",
       "    <tr>\n",
       "      <td>3</td>\n",
       "      <td>2.254903</td>\n",
       "      <td>2.079537</td>\n",
       "      <td>0.612652</td>\n",
       "      <td>03:25</td>\n",
       "    </tr>\n",
       "    <tr>\n",
       "      <td>4</td>\n",
       "      <td>2.137695</td>\n",
       "      <td>1.998901</td>\n",
       "      <td>0.617367</td>\n",
       "      <td>03:24</td>\n",
       "    </tr>\n",
       "    <tr>\n",
       "      <td>5</td>\n",
       "      <td>2.069654</td>\n",
       "      <td>1.941718</td>\n",
       "      <td>0.625461</td>\n",
       "      <td>03:25</td>\n",
       "    </tr>\n",
       "    <tr>\n",
       "      <td>6</td>\n",
       "      <td>1.995756</td>\n",
       "      <td>1.876721</td>\n",
       "      <td>0.632025</td>\n",
       "      <td>03:25</td>\n",
       "    </tr>\n",
       "    <tr>\n",
       "      <td>7</td>\n",
       "      <td>1.908141</td>\n",
       "      <td>1.811289</td>\n",
       "      <td>0.638714</td>\n",
       "      <td>03:25</td>\n",
       "    </tr>\n",
       "    <tr>\n",
       "      <td>8</td>\n",
       "      <td>1.845953</td>\n",
       "      <td>1.765650</td>\n",
       "      <td>0.644141</td>\n",
       "      <td>03:25</td>\n",
       "    </tr>\n",
       "    <tr>\n",
       "      <td>9</td>\n",
       "      <td>1.796884</td>\n",
       "      <td>1.753616</td>\n",
       "      <td>0.646200</td>\n",
       "      <td>03:25</td>\n",
       "    </tr>\n",
       "  </tbody>\n",
       "</table>"
      ],
      "text/plain": [
       "<IPython.core.display.HTML object>"
      ]
     },
     "metadata": {
      "tags": []
     },
     "output_type": "display_data"
    }
   ],
   "source": [
    "learn_fwd.fit_one_cycle(10, 9e-2, moms=(0.8,0.7))"
   ]
  },
  {
   "cell_type": "code",
   "execution_count": 48,
   "metadata": {
    "colab": {
     "base_uri": "https://localhost:8080/",
     "height": 279
    },
    "colab_type": "code",
    "id": "QhTpJ7xJinnd",
    "outputId": "1063f9f6-77e7-4fbf-ff8f-08a11796cfbd"
   },
   "outputs": [
    {
     "data": {
      "image/png": "[encoded data removed]",
      "text/plain": [
       "<Figure size 432x288 with 1 Axes>"
      ]
     },
     "metadata": {
      "tags": []
     },
     "output_type": "display_data"
    }
   ],
   "source": [
    "learn_fwd.recorder.plot_losses()"
   ]
  },
  {
   "cell_type": "code",
   "execution_count": 49,
   "metadata": {
    "colab": {
     "base_uri": "https://localhost:8080/",
     "height": 279
    },
    "colab_type": "code",
    "id": "zFzfnRwHinlN",
    "outputId": "1d79f55c-d1ce-40b6-ad16-1e4d7679b881"
   },
   "outputs": [
    {
     "data": {
      "image/png": "[encoded data removed]",
      "text/plain": [
       "<Figure size 432x288 with 1 Axes>"
      ]
     },
     "metadata": {
      "tags": []
     },
     "output_type": "display_data"
    }
   ],
   "source": [
    "learn_fwd.recorder.plot_lr()"
   ]
  },
  {
   "cell_type": "code",
   "execution_count": 0,
   "metadata": {
    "colab": {},
    "colab_type": "code",
    "id": "BymJuSxpi75S"
   },
   "outputs": [],
   "source": [
    "learn_fwd.save('lm-head-fwd')"
   ]
  },
  {
   "cell_type": "code",
   "execution_count": 0,
   "metadata": {
    "colab": {},
    "colab_type": "code",
    "id": "Iu-Ii2whini4"
   },
   "outputs": [],
   "source": [
    "learn_fwd.unfreeze()"
   ]
  },
  {
   "cell_type": "code",
   "execution_count": 52,
   "metadata": {
    "colab": {
     "base_uri": "https://localhost:8080/",
     "height": 331
    },
    "colab_type": "code",
    "id": "0KEDmBXpingA",
    "outputId": "234b2edf-7379-44b7-f250-2d078c219535"
   },
   "outputs": [
    {
     "data": {
      "text/html": [],
      "text/plain": [
       "<IPython.core.display.HTML object>"
      ]
     },
     "metadata": {
      "tags": []
     },
     "output_type": "display_data"
    },
    {
     "name": "stdout",
     "output_type": "stream",
     "text": [
      "LR Finder is complete, type {learner_name}.recorder.plot() to see the graph.\n",
      "Min numerical gradient: 8.32E-06\n",
      "Min loss divided by 10: 9.12E-08\n"
     ]
    },
    {
     "data": {
      "image/png": "[encoded data removed]",
      "text/plain": [
       "<Figure size 432x288 with 1 Axes>"
      ]
     },
     "metadata": {
      "tags": []
     },
     "output_type": "display_data"
    }
   ],
   "source": [
    "learn_fwd.lr_find()\n",
    "learn_fwd.recorder.plot(suggestion=True)"
   ]
  },
  {
   "cell_type": "code",
   "execution_count": 53,
   "metadata": {
    "colab": {
     "base_uri": "https://localhost:8080/",
     "height": 206
    },
    "colab_type": "code",
    "id": "0l-f5t1MindS",
    "outputId": "4348b763-992f-4d44-e522-637864762651"
   },
   "outputs": [
    {
     "data": {
      "text/html": [
       "<table border=\"1\" class=\"dataframe\">\n",
       "  <thead>\n",
       "    <tr style=\"text-align: left;\">\n",
       "      <th>epoch</th>\n",
       "      <th>train_loss</th>\n",
       "      <th>valid_loss</th>\n",
       "      <th>accuracy</th>\n",
       "      <th>time</th>\n",
       "    </tr>\n",
       "  </thead>\n",
       "  <tbody>\n",
       "    <tr>\n",
       "      <td>0</td>\n",
       "      <td>1.891863</td>\n",
       "      <td>1.830363</td>\n",
       "      <td>0.636643</td>\n",
       "      <td>04:15</td>\n",
       "    </tr>\n",
       "    <tr>\n",
       "      <td>1</td>\n",
       "      <td>1.819774</td>\n",
       "      <td>1.759083</td>\n",
       "      <td>0.648853</td>\n",
       "      <td>04:16</td>\n",
       "    </tr>\n",
       "    <tr>\n",
       "      <td>2</td>\n",
       "      <td>1.720254</td>\n",
       "      <td>1.685408</td>\n",
       "      <td>0.656861</td>\n",
       "      <td>04:15</td>\n",
       "    </tr>\n",
       "    <tr>\n",
       "      <td>3</td>\n",
       "      <td>1.628193</td>\n",
       "      <td>1.601649</td>\n",
       "      <td>0.667565</td>\n",
       "      <td>04:15</td>\n",
       "    </tr>\n",
       "    <tr>\n",
       "      <td>4</td>\n",
       "      <td>1.543529</td>\n",
       "      <td>1.571886</td>\n",
       "      <td>0.671679</td>\n",
       "      <td>04:16</td>\n",
       "    </tr>\n",
       "  </tbody>\n",
       "</table>"
      ],
      "text/plain": [
       "<IPython.core.display.HTML object>"
      ]
     },
     "metadata": {
      "tags": []
     },
     "output_type": "display_data"
    }
   ],
   "source": [
    "learn_fwd.fit_one_cycle(5, slice(1e-06, 9e-2), moms=(0.8,0.7))"
   ]
  },
  {
   "cell_type": "code",
   "execution_count": 0,
   "metadata": {
    "colab": {},
    "colab_type": "code",
    "id": "Xpsmp5wTinYQ"
   },
   "outputs": [],
   "source": [
    "learn_fwd.save('lm-unfr-pwd')"
   ]
  },
  {
   "cell_type": "code",
   "execution_count": 59,
   "metadata": {
    "colab": {
     "base_uri": "https://localhost:8080/",
     "height": 1000
    },
    "colab_type": "code",
    "id": "zYdxKrWzyQMH",
    "outputId": "fcc72e42-b03f-4585-83cc-856157bd072b"
   },
   "outputs": [
    {
     "data": {
      "text/plain": [
       "LanguageLearner(data=TextLMDataBunch;\n",
       "\n",
       "Train: LabelList (206838 items)\n",
       "x: LMTextList\n",
       "xxbos xxup 57yom xxup with xxup contusion xxup to xxup face xxup after xxup striking xxup it xxup with a xxup post xxup pounder xxup while xxup setting a xxup fence xxup post,xxbos a xxup 45yom xxup fell xxup on xxup arm xxup while xxup working xxup had xxup slipped xxup on xxup water xxup fx xxup wrist,xxbos xxup 58yom xxup with xxup cervical xxup strain xxup back xxup pain s p xxup restrained xxup taxi xxup driver xxup in xxup low xxup speed xxup rear xxup end xxup mvc xxup no xxup loc xxup no xxup ab xxup deployed,xxbos 33 xxup yom xxup lac xxup to xxup hand xxup from a xxup razor xxup knife,xxbos xxup 53yom xxup at xxup work xxup in a xxup warehouse xxup doing xxup unspecified xxup lifting xxup and xxup strained xxup lo xxup wer xxup back\n",
       "y: LMLabelList\n",
       ",,,,\n",
       "Path: .;\n",
       "\n",
       "Valid: LabelList (22982 items)\n",
       "x: LMTextList\n",
       "xxbos xxup 29yf xxup works xxup subject xxup was xxup spit xxup in xxup her xxup face xxup eye xxup mouth xxup by a xxup patient xxup occ xxup expo,xxbos xxup 15yom xxup laceration xxup to xxup thigh xxup cut xxup with xxup electric xxup hedge xxup trimmers xxup at xxup work,xxbos a xxup 39yof xxup was xxup withdrawing xxup needle xxup from xxup dialysis xxup patient xxup accidentally xxup stuck xxup self xxup in xxup finger xxup puncture xxup to xxup finger xxup needlestick,xxbos xxup 52yof xxup to xxup er xxup for xxup low xxup back xxup pain xxup after xxup standing xxup long xxup hours xxup working xxup as a xxup cook xxup dx xxup low xxup back xxup pain xxup sciatica,xxbos xxup 53yom xxup hospital xxup employee w xxup chronic xxup low xxup back xxup pain xxup thinks xxup he xxup aggravated xxup pain xxup while xxup moving xxup patient xxup from xxup or xxup bed xxup dx xxup back xxup pain\n",
       "y: LMLabelList\n",
       ",,,,\n",
       "Path: .;\n",
       "\n",
       "Test: None, model=SequentialRNN(\n",
       "  (0): AWD_LSTM(\n",
       "    (encoder): Embedding(13032, 400, padding_idx=1)\n",
       "    (encoder_dp): EmbeddingDropout(\n",
       "      (emb): Embedding(13032, 400, padding_idx=1)\n",
       "    )\n",
       "    (rnns): ModuleList(\n",
       "      (0): WeightDropout(\n",
       "        (module): LSTM(400, 1152, batch_first=True)\n",
       "      )\n",
       "      (1): WeightDropout(\n",
       "        (module): LSTM(1152, 1152, batch_first=True)\n",
       "      )\n",
       "      (2): WeightDropout(\n",
       "        (module): LSTM(1152, 400, batch_first=True)\n",
       "      )\n",
       "    )\n",
       "    (input_dp): RNNDropout()\n",
       "    (hidden_dps): ModuleList(\n",
       "      (0): RNNDropout()\n",
       "      (1): RNNDropout()\n",
       "      (2): RNNDropout()\n",
       "    )\n",
       "  )\n",
       "  (1): LinearDecoder(\n",
       "    (decoder): Linear(in_features=400, out_features=13032, bias=True)\n",
       "    (output_dp): RNNDropout()\n",
       "  )\n",
       "), opt_func=functools.partial(<class 'torch.optim.adam.Adam'>, betas=(0.9, 0.99)), loss_func=FlattenedLoss of CrossEntropyLoss(), metrics=[<function accuracy at 0x7f45e4b74f28>], true_wd=True, bn_wd=True, wd=0.01, train_bn=True, path=PosixPath('.'), model_dir='./models/', callback_fns=[functools.partial(<class 'fastai.basic_train.Recorder'>, add_time=True, silent=False)], callbacks=[RNNTrainer\n",
       "learn: LanguageLearner(data=TextLMDataBunch;\n",
       "\n",
       "Train: LabelList (206838 items)\n",
       "x: LMTextList\n",
       "xxbos xxup 57yom xxup with xxup contusion xxup to xxup face xxup after xxup striking xxup it xxup with a xxup post xxup pounder xxup while xxup setting a xxup fence xxup post,xxbos a xxup 45yom xxup fell xxup on xxup arm xxup while xxup working xxup had xxup slipped xxup on xxup water xxup fx xxup wrist,xxbos xxup 58yom xxup with xxup cervical xxup strain xxup back xxup pain s p xxup restrained xxup taxi xxup driver xxup in xxup low xxup speed xxup rear xxup end xxup mvc xxup no xxup loc xxup no xxup ab xxup deployed,xxbos 33 xxup yom xxup lac xxup to xxup hand xxup from a xxup razor xxup knife,xxbos xxup 53yom xxup at xxup work xxup in a xxup warehouse xxup doing xxup unspecified xxup lifting xxup and xxup strained xxup lo xxup wer xxup back\n",
       "y: LMLabelList\n",
       ",,,,\n",
       "Path: .;\n",
       "\n",
       "Valid: LabelList (22982 items)\n",
       "x: LMTextList\n",
       "xxbos xxup 29yf xxup works xxup subject xxup was xxup spit xxup in xxup her xxup face xxup eye xxup mouth xxup by a xxup patient xxup occ xxup expo,xxbos xxup 15yom xxup laceration xxup to xxup thigh xxup cut xxup with xxup electric xxup hedge xxup trimmers xxup at xxup work,xxbos a xxup 39yof xxup was xxup withdrawing xxup needle xxup from xxup dialysis xxup patient xxup accidentally xxup stuck xxup self xxup in xxup finger xxup puncture xxup to xxup finger xxup needlestick,xxbos xxup 52yof xxup to xxup er xxup for xxup low xxup back xxup pain xxup after xxup standing xxup long xxup hours xxup working xxup as a xxup cook xxup dx xxup low xxup back xxup pain xxup sciatica,xxbos xxup 53yom xxup hospital xxup employee w xxup chronic xxup low xxup back xxup pain xxup thinks xxup he xxup aggravated xxup pain xxup while xxup moving xxup patient xxup from xxup or xxup bed xxup dx xxup back xxup pain\n",
       "y: LMLabelList\n",
       ",,,,\n",
       "Path: .;\n",
       "\n",
       "Test: None, model=SequentialRNN(\n",
       "  (0): AWD_LSTM(\n",
       "    (encoder): Embedding(13032, 400, padding_idx=1)\n",
       "    (encoder_dp): EmbeddingDropout(\n",
       "      (emb): Embedding(13032, 400, padding_idx=1)\n",
       "    )\n",
       "    (rnns): ModuleList(\n",
       "      (0): WeightDropout(\n",
       "        (module): LSTM(400, 1152, batch_first=True)\n",
       "      )\n",
       "      (1): WeightDropout(\n",
       "        (module): LSTM(1152, 1152, batch_first=True)\n",
       "      )\n",
       "      (2): WeightDropout(\n",
       "        (module): LSTM(1152, 400, batch_first=True)\n",
       "      )\n",
       "    )\n",
       "    (input_dp): RNNDropout()\n",
       "    (hidden_dps): ModuleList(\n",
       "      (0): RNNDropout()\n",
       "      (1): RNNDropout()\n",
       "      (2): RNNDropout()\n",
       "    )\n",
       "  )\n",
       "  (1): LinearDecoder(\n",
       "    (decoder): Linear(in_features=400, out_features=13032, bias=True)\n",
       "    (output_dp): RNNDropout()\n",
       "  )\n",
       "), opt_func=functools.partial(<class 'torch.optim.adam.Adam'>, betas=(0.9, 0.99)), loss_func=FlattenedLoss of CrossEntropyLoss(), metrics=[<function accuracy at 0x7f45e4b74f28>], true_wd=True, bn_wd=True, wd=0.01, train_bn=True, path=PosixPath('.'), model_dir='./models/', callback_fns=[functools.partial(<class 'fastai.basic_train.Recorder'>, add_time=True, silent=False)], callbacks=[...], layer_groups=[Sequential(\n",
       "  (0): WeightDropout(\n",
       "    (module): LSTM(400, 1152, batch_first=True)\n",
       "  )\n",
       "  (1): RNNDropout()\n",
       "), Sequential(\n",
       "  (0): WeightDropout(\n",
       "    (module): LSTM(1152, 1152, batch_first=True)\n",
       "  )\n",
       "  (1): RNNDropout()\n",
       "), Sequential(\n",
       "  (0): WeightDropout(\n",
       "    (module): LSTM(1152, 400, batch_first=True)\n",
       "  )\n",
       "  (1): RNNDropout()\n",
       "), Sequential(\n",
       "  (0): Embedding(13032, 400, padding_idx=1)\n",
       "  (1): EmbeddingDropout(\n",
       "    (emb): Embedding(13032, 400, padding_idx=1)\n",
       "  )\n",
       "  (2): LinearDecoder(\n",
       "    (decoder): Linear(in_features=400, out_features=13032, bias=True)\n",
       "    (output_dp): RNNDropout()\n",
       "  )\n",
       ")], add_time=True, silent=False)\n",
       "alpha: 2.0\n",
       "beta: 1.0], layer_groups=[Sequential(\n",
       "  (0): WeightDropout(\n",
       "    (module): LSTM(400, 1152, batch_first=True)\n",
       "  )\n",
       "  (1): RNNDropout()\n",
       "), Sequential(\n",
       "  (0): WeightDropout(\n",
       "    (module): LSTM(1152, 1152, batch_first=True)\n",
       "  )\n",
       "  (1): RNNDropout()\n",
       "), Sequential(\n",
       "  (0): WeightDropout(\n",
       "    (module): LSTM(1152, 400, batch_first=True)\n",
       "  )\n",
       "  (1): RNNDropout()\n",
       "), Sequential(\n",
       "  (0): Embedding(13032, 400, padding_idx=1)\n",
       "  (1): EmbeddingDropout(\n",
       "    (emb): Embedding(13032, 400, padding_idx=1)\n",
       "  )\n",
       "  (2): LinearDecoder(\n",
       "    (decoder): Linear(in_features=400, out_features=13032, bias=True)\n",
       "    (output_dp): RNNDropout()\n",
       "  )\n",
       ")], add_time=True, silent=False)"
      ]
     },
     "execution_count": 59,
     "metadata": {
      "tags": []
     },
     "output_type": "execute_result"
    }
   ],
   "source": [
    "learn_fwd"
   ]
  },
  {
   "cell_type": "code",
   "execution_count": 0,
   "metadata": {
    "colab": {},
    "colab_type": "code",
    "id": "go5iuOyByehR"
   },
   "outputs": [],
   "source": [
    "learn_fwd.save_encoder('fine_tuned_fwd_enc')"
   ]
  },
  {
   "cell_type": "markdown",
   "metadata": {
    "colab_type": "text",
    "id": "R8snmJrBv7nv"
   },
   "source": [
    "# Text Classification"
   ]
  },
  {
   "cell_type": "code",
   "execution_count": 0,
   "metadata": {
    "colab": {},
    "colab_type": "code",
    "id": "AZ8OcKb2xwkQ"
   },
   "outputs": [],
   "source": [
    "bs=48"
   ]
  },
  {
   "cell_type": "code",
   "execution_count": 0,
   "metadata": {
    "colab": {},
    "colab_type": "code",
    "id": "_Nxbd0epinVe"
   },
   "outputs": [],
   "source": [
    "data_clas_fwd = (TextList.from_df(train_df, path, cols='text', vocab=data_lm_fwd.vocab)\n",
    "             #grab all the text files in path\n",
    "             .split_by_rand_pct(0.10, seed=42)\n",
    "             #split by train and valid folder (that only keeps 'train' and 'test' so no need to filter)\n",
    "             .label_from_df(cols='event')\n",
    "             #label them all with their folders\n",
    "             .databunch(bs=bs, num_workers=1))"
   ]
  },
  {
   "cell_type": "code",
   "execution_count": 0,
   "metadata": {
    "colab": {},
    "colab_type": "code",
    "id": "bZezi8GzinSx"
   },
   "outputs": [],
   "source": [
    "learn_c_fwd = text_classifier_learner(data_clas_fwd, AWD_LSTM, drop_mult=0.3) #.to_fp16()\n",
    "learn_c_fwd.load_encoder('fine_tuned_fwd_enc')\n",
    "learn_c_fwd.freeze()"
   ]
  },
  {
   "cell_type": "code",
   "execution_count": 62,
   "metadata": {
    "colab": {
     "base_uri": "https://localhost:8080/",
     "height": 331
    },
    "colab_type": "code",
    "id": "wHlb8s0jinQG",
    "outputId": "f2f52597-d65c-4161-92e4-926f567a9857"
   },
   "outputs": [
    {
     "data": {
      "text/html": [],
      "text/plain": [
       "<IPython.core.display.HTML object>"
      ]
     },
     "metadata": {
      "tags": []
     },
     "output_type": "display_data"
    },
    {
     "name": "stdout",
     "output_type": "stream",
     "text": [
      "LR Finder is complete, type {learner_name}.recorder.plot() to see the graph.\n",
      "Min numerical gradient: 1.58E-02\n",
      "Min loss divided by 10: 6.31E-02\n"
     ]
    },
    {
     "data": {
      "image/png": "[encoded data removed]",
      "text/plain": [
       "<Figure size 432x288 with 1 Axes>"
      ]
     },
     "metadata": {
      "tags": []
     },
     "output_type": "display_data"
    }
   ],
   "source": [
    "learn_c_fwd.lr_find()\n",
    "learn_c_fwd.recorder.plot(suggestion=True)"
   ]
  },
  {
   "cell_type": "code",
   "execution_count": 63,
   "metadata": {
    "colab": {
     "base_uri": "https://localhost:8080/",
     "height": 206
    },
    "colab_type": "code",
    "id": "gU5at6bnyx4g",
    "outputId": "a31e5e8d-8c6d-497c-b4d0-72a4e5777a35"
   },
   "outputs": [
    {
     "data": {
      "text/html": [
       "<table border=\"1\" class=\"dataframe\">\n",
       "  <thead>\n",
       "    <tr style=\"text-align: left;\">\n",
       "      <th>epoch</th>\n",
       "      <th>train_loss</th>\n",
       "      <th>valid_loss</th>\n",
       "      <th>accuracy</th>\n",
       "      <th>time</th>\n",
       "    </tr>\n",
       "  </thead>\n",
       "  <tbody>\n",
       "    <tr>\n",
       "      <td>0</td>\n",
       "      <td>0.839733</td>\n",
       "      <td>0.746214</td>\n",
       "      <td>0.763819</td>\n",
       "      <td>01:14</td>\n",
       "    </tr>\n",
       "    <tr>\n",
       "      <td>1</td>\n",
       "      <td>0.789004</td>\n",
       "      <td>0.701930</td>\n",
       "      <td>0.772913</td>\n",
       "      <td>01:15</td>\n",
       "    </tr>\n",
       "    <tr>\n",
       "      <td>2</td>\n",
       "      <td>0.774305</td>\n",
       "      <td>0.644266</td>\n",
       "      <td>0.791231</td>\n",
       "      <td>01:11</td>\n",
       "    </tr>\n",
       "    <tr>\n",
       "      <td>3</td>\n",
       "      <td>0.692442</td>\n",
       "      <td>0.581717</td>\n",
       "      <td>0.813771</td>\n",
       "      <td>01:11</td>\n",
       "    </tr>\n",
       "    <tr>\n",
       "      <td>4</td>\n",
       "      <td>0.665342</td>\n",
       "      <td>0.565727</td>\n",
       "      <td>0.820656</td>\n",
       "      <td>01:09</td>\n",
       "    </tr>\n",
       "  </tbody>\n",
       "</table>"
      ],
      "text/plain": [
       "<IPython.core.display.HTML object>"
      ]
     },
     "metadata": {
      "tags": []
     },
     "output_type": "display_data"
    }
   ],
   "source": [
    "learn_c_fwd.fit_one_cycle(5, 2e-2, moms=(0.8,0.7))"
   ]
  },
  {
   "cell_type": "code",
   "execution_count": 0,
   "metadata": {
    "colab": {},
    "colab_type": "code",
    "id": "M_1-jUvN0Zh_"
   },
   "outputs": [],
   "source": [
    "learn_c_fwd.save('learn_head_fwd-5ep')"
   ]
  },
  {
   "cell_type": "code",
   "execution_count": 65,
   "metadata": {
    "colab": {
     "base_uri": "https://localhost:8080/",
     "height": 331
    },
    "colab_type": "code",
    "id": "T1tO8pCry6bu",
    "outputId": "66f9771c-9c87-4e91-de9f-9faf0b15a546"
   },
   "outputs": [
    {
     "data": {
      "text/html": [],
      "text/plain": [
       "<IPython.core.display.HTML object>"
      ]
     },
     "metadata": {
      "tags": []
     },
     "output_type": "display_data"
    },
    {
     "name": "stdout",
     "output_type": "stream",
     "text": [
      "LR Finder is complete, type {learner_name}.recorder.plot() to see the graph.\n",
      "Min numerical gradient: 9.12E-07\n",
      "Min loss divided by 10: 3.02E-06\n"
     ]
    },
    {
     "data": {
      "image/png": "[encoded data removed]",
      "text/plain": [
       "<Figure size 432x288 with 1 Axes>"
      ]
     },
     "metadata": {
      "tags": []
     },
     "output_type": "display_data"
    }
   ],
   "source": [
    "learn_c_fwd.lr_find()\n",
    "learn_c_fwd.recorder.plot(suggestion=True)"
   ]
  },
  {
   "cell_type": "code",
   "execution_count": 67,
   "metadata": {
    "colab": {
     "base_uri": "https://localhost:8080/",
     "height": 206
    },
    "colab_type": "code",
    "id": "BsH-r_b_0HCs",
    "outputId": "21591012-4aca-419d-a8e3-19e3df69c56b"
   },
   "outputs": [
    {
     "data": {
      "text/html": [
       "<table border=\"1\" class=\"dataframe\">\n",
       "  <thead>\n",
       "    <tr style=\"text-align: left;\">\n",
       "      <th>epoch</th>\n",
       "      <th>train_loss</th>\n",
       "      <th>valid_loss</th>\n",
       "      <th>accuracy</th>\n",
       "      <th>time</th>\n",
       "    </tr>\n",
       "  </thead>\n",
       "  <tbody>\n",
       "    <tr>\n",
       "      <td>0</td>\n",
       "      <td>0.639547</td>\n",
       "      <td>0.566406</td>\n",
       "      <td>0.818707</td>\n",
       "      <td>01:15</td>\n",
       "    </tr>\n",
       "    <tr>\n",
       "      <td>1</td>\n",
       "      <td>0.660674</td>\n",
       "      <td>0.565520</td>\n",
       "      <td>0.820656</td>\n",
       "      <td>01:15</td>\n",
       "    </tr>\n",
       "    <tr>\n",
       "      <td>2</td>\n",
       "      <td>0.643698</td>\n",
       "      <td>0.565368</td>\n",
       "      <td>0.820721</td>\n",
       "      <td>01:14</td>\n",
       "    </tr>\n",
       "    <tr>\n",
       "      <td>3</td>\n",
       "      <td>0.688018</td>\n",
       "      <td>0.567493</td>\n",
       "      <td>0.820786</td>\n",
       "      <td>01:11</td>\n",
       "    </tr>\n",
       "    <tr>\n",
       "      <td>4</td>\n",
       "      <td>0.662301</td>\n",
       "      <td>0.566996</td>\n",
       "      <td>0.819552</td>\n",
       "      <td>01:14</td>\n",
       "    </tr>\n",
       "  </tbody>\n",
       "</table>"
      ],
      "text/plain": [
       "<IPython.core.display.HTML object>"
      ]
     },
     "metadata": {
      "tags": []
     },
     "output_type": "display_data"
    }
   ],
   "source": [
    "learn_c_fwd.fit_one_cycle(5, 1e-6, moms=(0.8,0.7))"
   ]
  },
  {
   "cell_type": "code",
   "execution_count": 0,
   "metadata": {
    "colab": {},
    "colab_type": "code",
    "id": "d6KsWyHY3Dw8"
   },
   "outputs": [],
   "source": [
    "learn_c_fwd.save('learn_head_fwd-10ep')"
   ]
  },
  {
   "cell_type": "code",
   "execution_count": 0,
   "metadata": {
    "colab": {},
    "colab_type": "code",
    "id": "RMQ3eSzF0lbm"
   },
   "outputs": [],
   "source": [
    "learn_c_fwd.unfreeze()"
   ]
  },
  {
   "cell_type": "code",
   "execution_count": 69,
   "metadata": {
    "colab": {
     "base_uri": "https://localhost:8080/",
     "height": 331
    },
    "colab_type": "code",
    "id": "jZVn5SPj1lF9",
    "outputId": "53bccf46-f611-45bb-9509-ae3c364f7601"
   },
   "outputs": [
    {
     "data": {
      "text/html": [],
      "text/plain": [
       "<IPython.core.display.HTML object>"
      ]
     },
     "metadata": {
      "tags": []
     },
     "output_type": "display_data"
    },
    {
     "name": "stdout",
     "output_type": "stream",
     "text": [
      "LR Finder is complete, type {learner_name}.recorder.plot() to see the graph.\n",
      "Min numerical gradient: 6.31E-07\n",
      "Min loss divided by 10: 2.75E-07\n"
     ]
    },
    {
     "data": {
      "image/png": "[encoded data removed]",
      "text/plain": [
       "<Figure size 432x288 with 1 Axes>"
      ]
     },
     "metadata": {
      "tags": []
     },
     "output_type": "display_data"
    }
   ],
   "source": [
    "learn_c_fwd.lr_find()\n",
    "learn_c_fwd.recorder.plot(suggestion=True)"
   ]
  },
  {
   "cell_type": "code",
   "execution_count": 70,
   "metadata": {
    "colab": {
     "base_uri": "https://localhost:8080/",
     "height": 206
    },
    "colab_type": "code",
    "id": "o0a-c_D_2Bec",
    "outputId": "1dbc13d4-689d-4ad4-c1c8-2cbea1e50188"
   },
   "outputs": [
    {
     "data": {
      "text/html": [
       "<table border=\"1\" class=\"dataframe\">\n",
       "  <thead>\n",
       "    <tr style=\"text-align: left;\">\n",
       "      <th>epoch</th>\n",
       "      <th>train_loss</th>\n",
       "      <th>valid_loss</th>\n",
       "      <th>accuracy</th>\n",
       "      <th>time</th>\n",
       "    </tr>\n",
       "  </thead>\n",
       "  <tbody>\n",
       "    <tr>\n",
       "      <td>0</td>\n",
       "      <td>0.564223</td>\n",
       "      <td>0.529383</td>\n",
       "      <td>0.838974</td>\n",
       "      <td>02:52</td>\n",
       "    </tr>\n",
       "    <tr>\n",
       "      <td>1</td>\n",
       "      <td>0.569530</td>\n",
       "      <td>0.482779</td>\n",
       "      <td>0.851315</td>\n",
       "      <td>02:57</td>\n",
       "    </tr>\n",
       "    <tr>\n",
       "      <td>2</td>\n",
       "      <td>0.473962</td>\n",
       "      <td>0.445950</td>\n",
       "      <td>0.863332</td>\n",
       "      <td>02:53</td>\n",
       "    </tr>\n",
       "    <tr>\n",
       "      <td>3</td>\n",
       "      <td>0.385161</td>\n",
       "      <td>0.414905</td>\n",
       "      <td>0.870607</td>\n",
       "      <td>02:51</td>\n",
       "    </tr>\n",
       "    <tr>\n",
       "      <td>4</td>\n",
       "      <td>0.339420</td>\n",
       "      <td>0.410577</td>\n",
       "      <td>0.873855</td>\n",
       "      <td>02:50</td>\n",
       "    </tr>\n",
       "  </tbody>\n",
       "</table>"
      ],
      "text/plain": [
       "<IPython.core.display.HTML object>"
      ]
     },
     "metadata": {
      "tags": []
     },
     "output_type": "display_data"
    }
   ],
   "source": [
    "learn_c_fwd.fit_one_cycle(5, slice(9e-7, 2e-02), moms=(0.8,0.7))"
   ]
  },
  {
   "cell_type": "code",
   "execution_count": 0,
   "metadata": {
    "colab": {},
    "colab_type": "code",
    "id": "zmljmIKd2Nup"
   },
   "outputs": [],
   "source": [
    "learn_c_fwd.save('learn_unfr_fwd-5ep')"
   ]
  },
  {
   "cell_type": "code",
   "execution_count": 73,
   "metadata": {
    "colab": {
     "base_uri": "https://localhost:8080/",
     "height": 331
    },
    "colab_type": "code",
    "id": "S8O1h83J5oJ7",
    "outputId": "eb93f353-a02f-4b85-9ab2-d2d6ce0c838b"
   },
   "outputs": [
    {
     "data": {
      "text/html": [],
      "text/plain": [
       "<IPython.core.display.HTML object>"
      ]
     },
     "metadata": {
      "tags": []
     },
     "output_type": "display_data"
    },
    {
     "name": "stdout",
     "output_type": "stream",
     "text": [
      "LR Finder is complete, type {learner_name}.recorder.plot() to see the graph.\n",
      "Min numerical gradient: 1.58E-06\n",
      "Min loss divided by 10: 2.51E-04\n"
     ]
    },
    {
     "data": {
      "image/png": "[encoded data removed]",
      "text/plain": [
       "<Figure size 432x288 with 1 Axes>"
      ]
     },
     "metadata": {
      "tags": []
     },
     "output_type": "display_data"
    }
   ],
   "source": [
    "learn_c_fwd.lr_find()\n",
    "learn_c_fwd.recorder.plot(suggestion=True)"
   ]
  },
  {
   "cell_type": "code",
   "execution_count": 74,
   "metadata": {
    "colab": {
     "base_uri": "https://localhost:8080/",
     "height": 206
    },
    "colab_type": "code",
    "id": "hvvarfWS5poR",
    "outputId": "1deaad04-7850-4174-c8fc-c7470a1b30ea"
   },
   "outputs": [
    {
     "data": {
      "text/html": [
       "<table border=\"1\" class=\"dataframe\">\n",
       "  <thead>\n",
       "    <tr style=\"text-align: left;\">\n",
       "      <th>epoch</th>\n",
       "      <th>train_loss</th>\n",
       "      <th>valid_loss</th>\n",
       "      <th>accuracy</th>\n",
       "      <th>time</th>\n",
       "    </tr>\n",
       "  </thead>\n",
       "  <tbody>\n",
       "    <tr>\n",
       "      <td>0</td>\n",
       "      <td>0.428837</td>\n",
       "      <td>0.462288</td>\n",
       "      <td>0.859890</td>\n",
       "      <td>03:01</td>\n",
       "    </tr>\n",
       "    <tr>\n",
       "      <td>1</td>\n",
       "      <td>0.426949</td>\n",
       "      <td>0.464285</td>\n",
       "      <td>0.861838</td>\n",
       "      <td>02:49</td>\n",
       "    </tr>\n",
       "    <tr>\n",
       "      <td>2</td>\n",
       "      <td>0.398746</td>\n",
       "      <td>0.450045</td>\n",
       "      <td>0.862683</td>\n",
       "      <td>03:02</td>\n",
       "    </tr>\n",
       "    <tr>\n",
       "      <td>3</td>\n",
       "      <td>0.279826</td>\n",
       "      <td>0.445797</td>\n",
       "      <td>0.872491</td>\n",
       "      <td>03:03</td>\n",
       "    </tr>\n",
       "    <tr>\n",
       "      <td>4</td>\n",
       "      <td>0.253518</td>\n",
       "      <td>0.454282</td>\n",
       "      <td>0.871517</td>\n",
       "      <td>02:54</td>\n",
       "    </tr>\n",
       "  </tbody>\n",
       "</table>"
      ],
      "text/plain": [
       "<IPython.core.display.HTML object>"
      ]
     },
     "metadata": {
      "tags": []
     },
     "output_type": "display_data"
    }
   ],
   "source": [
    "learn_c_fwd.fit_one_cycle(5, slice(9e-7, 2e-02), moms=(0.8,0.7))"
   ]
  },
  {
   "cell_type": "code",
   "execution_count": 0,
   "metadata": {
    "colab": {},
    "colab_type": "code",
    "id": "T7kNqxD0578p"
   },
   "outputs": [],
   "source": [
    "learn_c_fwd.save('learn_unfr_fwd-10ep')"
   ]
  },
  {
   "cell_type": "markdown",
   "metadata": {
    "colab_type": "text",
    "id": "FSNuTe9wB2Fb"
   },
   "source": [
    "# Testing"
   ]
  },
  {
   "cell_type": "code",
   "execution_count": 0,
   "metadata": {
    "colab": {},
    "colab_type": "code",
    "id": "-daYnre7-Y01"
   },
   "outputs": [],
   "source": [
    "data_clas_fwd.add_test(test_df['text'])"
   ]
  },
  {
   "cell_type": "code",
   "execution_count": 78,
   "metadata": {
    "colab": {
     "base_uri": "https://localhost:8080/",
     "height": 34
    },
    "colab_type": "code",
    "id": "ECeDmKc5CkdL",
    "outputId": "e71a9901-a637-41c1-82cb-b0f03f6c429d"
   },
   "outputs": [
    {
     "data": {
      "text/plain": [
       "1"
      ]
     },
     "execution_count": 78,
     "metadata": {
      "tags": []
     },
     "output_type": "execute_result"
    }
   ],
   "source": [
    "DatasetType.Train.value"
   ]
  },
  {
   "cell_type": "code",
   "execution_count": 0,
   "metadata": {
    "colab": {},
    "colab_type": "code",
    "id": "VnLYGxZcCLvr"
   },
   "outputs": [],
   "source": [
    "preds = learn_c_fwd.get_preds(DatasetType.Test)"
   ]
  },
  {
   "cell_type": "code",
   "execution_count": 0,
   "metadata": {
    "colab": {},
    "colab_type": "code",
    "id": "qXZzgJ2VDNC2"
   },
   "outputs": [],
   "source": [
    "class_labels = np.argmax(preds[0], 1)"
   ]
  },
  {
   "cell_type": "code",
   "execution_count": 0,
   "metadata": {
    "colab": {},
    "colab_type": "code",
    "id": "HglUg8XKDXh0"
   },
   "outputs": [],
   "source": [
    "predictions = [learn_c_fwd.data.classes[i] for i in class_labels]"
   ]
  },
  {
   "cell_type": "code",
   "execution_count": 90,
   "metadata": {
    "colab": {
     "base_uri": "https://localhost:8080/",
     "height": 34
    },
    "colab_type": "code",
    "id": "CSOFe2s5Df-G",
    "outputId": "426653a1-b5ed-4c6c-ac7d-7ec39cf710ad"
   },
   "outputs": [
    {
     "data": {
      "text/plain": [
       "75864"
      ]
     },
     "execution_count": 90,
     "metadata": {
      "tags": []
     },
     "output_type": "execute_result"
    }
   ],
   "source": [
    "len(predictions)"
   ]
  },
  {
   "cell_type": "code",
   "execution_count": 92,
   "metadata": {
    "colab": {
     "base_uri": "https://localhost:8080/",
     "height": 424
    },
    "colab_type": "code",
    "id": "kqqFmShVC7Um",
    "outputId": "5f3c505b-e7ef-4a91-d1b3-e07f00a6fd65"
   },
   "outputs": [
    {
     "data": {
      "text/html": [
       "<div>\n",
       "<style scoped>\n",
       "    .dataframe tbody tr th:only-of-type {\n",
       "        vertical-align: middle;\n",
       "    }\n",
       "\n",
       "    .dataframe tbody tr th {\n",
       "        vertical-align: top;\n",
       "    }\n",
       "\n",
       "    .dataframe thead th {\n",
       "        text-align: right;\n",
       "    }\n",
       "</style>\n",
       "<table border=\"1\" class=\"dataframe\">\n",
       "  <thead>\n",
       "    <tr style=\"text-align: right;\">\n",
       "      <th></th>\n",
       "      <th>event</th>\n",
       "    </tr>\n",
       "  </thead>\n",
       "  <tbody>\n",
       "    <tr>\n",
       "      <th>0</th>\n",
       "      <td>55</td>\n",
       "    </tr>\n",
       "    <tr>\n",
       "      <th>1</th>\n",
       "      <td>24</td>\n",
       "    </tr>\n",
       "    <tr>\n",
       "      <th>2</th>\n",
       "      <td>71</td>\n",
       "    </tr>\n",
       "    <tr>\n",
       "      <th>3</th>\n",
       "      <td>73</td>\n",
       "    </tr>\n",
       "    <tr>\n",
       "      <th>4</th>\n",
       "      <td>71</td>\n",
       "    </tr>\n",
       "    <tr>\n",
       "      <th>...</th>\n",
       "      <td>...</td>\n",
       "    </tr>\n",
       "    <tr>\n",
       "      <th>75859</th>\n",
       "      <td>12</td>\n",
       "    </tr>\n",
       "    <tr>\n",
       "      <th>75860</th>\n",
       "      <td>66</td>\n",
       "    </tr>\n",
       "    <tr>\n",
       "      <th>75861</th>\n",
       "      <td>71</td>\n",
       "    </tr>\n",
       "    <tr>\n",
       "      <th>75862</th>\n",
       "      <td>55</td>\n",
       "    </tr>\n",
       "    <tr>\n",
       "      <th>75863</th>\n",
       "      <td>71</td>\n",
       "    </tr>\n",
       "  </tbody>\n",
       "</table>\n",
       "<p>75864 rows × 1 columns</p>\n",
       "</div>"
      ],
      "text/plain": [
       "       event\n",
       "0      55   \n",
       "1      24   \n",
       "2      71   \n",
       "3      73   \n",
       "4      71   \n",
       "...    ..   \n",
       "75859  12   \n",
       "75860  66   \n",
       "75861  71   \n",
       "75862  55   \n",
       "75863  71   \n",
       "\n",
       "[75864 rows x 1 columns]"
      ]
     },
     "execution_count": 92,
     "metadata": {
      "tags": []
     },
     "output_type": "execute_result"
    }
   ],
   "source": [
    "# pred_df = pd.DataFrame({'event':predictions})\n",
    "pred_df"
   ]
  },
  {
   "cell_type": "code",
   "execution_count": 94,
   "metadata": {
    "colab": {
     "base_uri": "https://localhost:8080/",
     "height": 424
    },
    "colab_type": "code",
    "id": "kH0tUMa1D_Sm",
    "outputId": "c7da0c33-0074-4f11-9821-56a2452baa0b"
   },
   "outputs": [
    {
     "data": {
      "text/html": [
       "<div>\n",
       "<style scoped>\n",
       "    .dataframe tbody tr th:only-of-type {\n",
       "        vertical-align: middle;\n",
       "    }\n",
       "\n",
       "    .dataframe tbody tr th {\n",
       "        vertical-align: top;\n",
       "    }\n",
       "\n",
       "    .dataframe thead th {\n",
       "        text-align: right;\n",
       "    }\n",
       "</style>\n",
       "<table border=\"1\" class=\"dataframe\">\n",
       "  <thead>\n",
       "    <tr style=\"text-align: right;\">\n",
       "      <th></th>\n",
       "      <th>text</th>\n",
       "      <th>sex</th>\n",
       "      <th>age</th>\n",
       "      <th>event</th>\n",
       "    </tr>\n",
       "  </thead>\n",
       "  <tbody>\n",
       "    <tr>\n",
       "      <th>0</th>\n",
       "      <td>54 Y O F PUNCTURE WOUND OF FIINGER RE ATTACHING A CAP ON AN INSULIN SYRING SHE HAD JUST USED ON HER HOME CARE PATIENT</td>\n",
       "      <td>2</td>\n",
       "      <td>54</td>\n",
       "      <td>55</td>\n",
       "    </tr>\n",
       "    <tr>\n",
       "      <th>1</th>\n",
       "      <td>22 YOM CONTUSION TO LT LOWER LEG S P MVC HIT BY CAR GUIDING IN A CAR GAS PEDAL GOT STUCK PUSHING HIM AGAINST DOOR  WORK YESTERDAY AM</td>\n",
       "      <td>1</td>\n",
       "      <td>22</td>\n",
       "      <td>24</td>\n",
       "    </tr>\n",
       "    <tr>\n",
       "      <th>2</th>\n",
       "      <td>20 YOM PT WORKS IN A QUARRY  WAS ATTEMPTING TO DISLODGE A LARGE ROCK AND DEVELOPED CHEST PAINS  DX CHEST WALL PAIN</td>\n",
       "      <td>1</td>\n",
       "      <td>20</td>\n",
       "      <td>71</td>\n",
       "    </tr>\n",
       "    <tr>\n",
       "      <th>3</th>\n",
       "      <td>38 YOF WAS WALKING AT WORK TWISTED HER LT ANKLE  LATER HER RIGHT KNEE DX LEFT ANKLE AND KNEE SPRAIN</td>\n",
       "      <td>2</td>\n",
       "      <td>38</td>\n",
       "      <td>73</td>\n",
       "    </tr>\n",
       "    <tr>\n",
       "      <th>4</th>\n",
       "      <td>44 YOM C O LOW BACK PAIN AFTER LIFTING A BOX AT WORK TODAY DX LEFT SIDED LOW BACK PAIN</td>\n",
       "      <td>1</td>\n",
       "      <td>44</td>\n",
       "      <td>71</td>\n",
       "    </tr>\n",
       "    <tr>\n",
       "      <th>...</th>\n",
       "      <td>...</td>\n",
       "      <td>...</td>\n",
       "      <td>...</td>\n",
       "      <td>...</td>\n",
       "    </tr>\n",
       "    <tr>\n",
       "      <th>75859</th>\n",
       "      <td>49YOM COACHING FOOTBALL WHEN COLLIDED WITH PLAYER PAIN RT LEG DIFF BREATHING DX FX 1 RIB LEFT SIDE CLD FX SPRAIN RT ANKLE</td>\n",
       "      <td>1</td>\n",
       "      <td>49</td>\n",
       "      <td>12</td>\n",
       "    </tr>\n",
       "    <tr>\n",
       "      <th>75860</th>\n",
       "      <td>33 YO MALE WAS USING WIRE BRUSH AT WORK WHEN PIECE OF IT GOT IN HIS EYE DX FOREIGN BODY IN EYE</td>\n",
       "      <td>1</td>\n",
       "      <td>33</td>\n",
       "      <td>66</td>\n",
       "    </tr>\n",
       "    <tr>\n",
       "      <th>75861</th>\n",
       "      <td>36YOM LIFTING AT WORK BACK PX DX THORACIC STRAIN</td>\n",
       "      <td>1</td>\n",
       "      <td>36</td>\n",
       "      <td>71</td>\n",
       "    </tr>\n",
       "    <tr>\n",
       "      <th>75862</th>\n",
       "      <td>24 YO F PT WAS AT WORK WHEN SHE POKED LT THUMB WTH A NEEDLE AFTER DRAWING BLOOD ON A PATIENT DX PUNCTURE WOUND LT THUMB</td>\n",
       "      <td>2</td>\n",
       "      <td>24</td>\n",
       "      <td>55</td>\n",
       "    </tr>\n",
       "    <tr>\n",
       "      <th>75863</th>\n",
       "      <td>42 YO M PICKING UP A CAR HURT BACK AT WORK DX LOW BACK PAIN</td>\n",
       "      <td>1</td>\n",
       "      <td>42</td>\n",
       "      <td>71</td>\n",
       "    </tr>\n",
       "  </tbody>\n",
       "</table>\n",
       "<p>75864 rows × 4 columns</p>\n",
       "</div>"
      ],
      "text/plain": [
       "                                                                                                                                       text  ...  event\n",
       "0      54 Y O F PUNCTURE WOUND OF FIINGER RE ATTACHING A CAP ON AN INSULIN SYRING SHE HAD JUST USED ON HER HOME CARE PATIENT                 ...  55   \n",
       "1      22 YOM CONTUSION TO LT LOWER LEG S P MVC HIT BY CAR GUIDING IN A CAR GAS PEDAL GOT STUCK PUSHING HIM AGAINST DOOR  WORK YESTERDAY AM  ...  24   \n",
       "2      20 YOM PT WORKS IN A QUARRY  WAS ATTEMPTING TO DISLODGE A LARGE ROCK AND DEVELOPED CHEST PAINS  DX CHEST WALL PAIN                    ...  71   \n",
       "3      38 YOF WAS WALKING AT WORK TWISTED HER LT ANKLE  LATER HER RIGHT KNEE DX LEFT ANKLE AND KNEE SPRAIN                                   ...  73   \n",
       "4      44 YOM C O LOW BACK PAIN AFTER LIFTING A BOX AT WORK TODAY DX LEFT SIDED LOW BACK PAIN                                                ...  71   \n",
       "...                                                                                       ...                                                ...  ..   \n",
       "75859  49YOM COACHING FOOTBALL WHEN COLLIDED WITH PLAYER PAIN RT LEG DIFF BREATHING DX FX 1 RIB LEFT SIDE CLD FX SPRAIN RT ANKLE             ...  12   \n",
       "75860  33 YO MALE WAS USING WIRE BRUSH AT WORK WHEN PIECE OF IT GOT IN HIS EYE DX FOREIGN BODY IN EYE                                        ...  66   \n",
       "75861  36YOM LIFTING AT WORK BACK PX DX THORACIC STRAIN                                                                                      ...  71   \n",
       "75862  24 YO F PT WAS AT WORK WHEN SHE POKED LT THUMB WTH A NEEDLE AFTER DRAWING BLOOD ON A PATIENT DX PUNCTURE WOUND LT THUMB               ...  55   \n",
       "75863  42 YO M PICKING UP A CAR HURT BACK AT WORK DX LOW BACK PAIN                                                                           ...  71   \n",
       "\n",
       "[75864 rows x 4 columns]"
      ]
     },
     "execution_count": 94,
     "metadata": {
      "tags": []
     },
     "output_type": "execute_result"
    }
   ],
   "source": [
    "sub_df = pd.concat([test_df, pred_df], axis=1)\n",
    "sub_df"
   ]
  },
  {
   "cell_type": "code",
   "execution_count": 0,
   "metadata": {
    "colab": {},
    "colab_type": "code",
    "id": "hDyzAwjrEOtJ"
   },
   "outputs": [],
   "source": [
    "sub_df.to_csv('./models/submission.csv')"
   ]
  },
  {
   "cell_type": "code",
   "execution_count": 0,
   "metadata": {
    "colab": {},
    "colab_type": "code",
    "id": "1j4k-1hIEef5"
   },
   "outputs": [],
   "source": []
  }
 ],
 "metadata": {
  "accelerator": "GPU",
  "colab": {
   "name": "Topcoder_textClassification.ipynb",
   "provenance": []
  },
  "kernelspec": {
   "display_name": "Python 3",
   "language": "python",
   "name": "python3"
  },
  "language_info": {
   "codemirror_mode": {
    "name": "ipython",
    "version": 3
   },
   "file_extension": ".py",
   "mimetype": "text/x-python",
   "name": "python",
   "nbconvert_exporter": "python",
   "pygments_lexer": "ipython3",
   "version": "3.7.1"
  }
 },
 "nbformat": 4,
 "nbformat_minor": 1
}
