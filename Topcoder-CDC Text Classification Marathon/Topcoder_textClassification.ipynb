{
  "nbformat": 4,
  "nbformat_minor": 0,
  "metadata": {
    "colab": {
      "name": "Topcoder_textClassification.ipynb",
      "provenance": []
    },
    "kernelspec": {
      "name": "python3",
      "display_name": "Python 3"
    },
    "accelerator": "GPU"
  },
  "cells": [
    {
      "cell_type": "code",
      "metadata": {
        "id": "Kclh6v6jZhW5",
        "colab_type": "code",
        "colab": {
          "base_uri": "https://localhost:8080/",
          "height": 295
        },
        "outputId": "135be5c3-3027-430d-9cea-511c6c7c5267"
      },
      "source": [
        "! nvidia-smi"
      ],
      "execution_count": 68,
      "outputs": [
        {
          "output_type": "stream",
          "text": [
            "Wed Nov 20 11:50:48 2019       \n",
            "+-----------------------------------------------------------------------------+\n",
            "| NVIDIA-SMI 430.50       Driver Version: 418.67       CUDA Version: 10.1     |\n",
            "|-------------------------------+----------------------+----------------------+\n",
            "| GPU  Name        Persistence-M| Bus-Id        Disp.A | Volatile Uncorr. ECC |\n",
            "| Fan  Temp  Perf  Pwr:Usage/Cap|         Memory-Usage | GPU-Util  Compute M. |\n",
            "|===============================+======================+======================|\n",
            "|   0  Tesla P100-PCIE...  Off  | 00000000:00:04.0 Off |                    0 |\n",
            "| N/A   32C    P0    31W / 250W |   2701MiB / 16280MiB |      0%      Default |\n",
            "+-------------------------------+----------------------+----------------------+\n",
            "                                                                               \n",
            "+-----------------------------------------------------------------------------+\n",
            "| Processes:                                                       GPU Memory |\n",
            "|  GPU       PID   Type   Process name                             Usage      |\n",
            "|=============================================================================|\n",
            "+-----------------------------------------------------------------------------+\n"
          ],
          "name": "stdout"
        }
      ]
    },
    {
      "cell_type": "code",
      "metadata": {
        "id": "c9wnjQ-SZQKA",
        "colab_type": "code",
        "colab": {}
      },
      "source": [
        "from fastai import *\n",
        "from fastai.text import *"
      ],
      "execution_count": 0,
      "outputs": []
    },
    {
      "cell_type": "code",
      "metadata": {
        "id": "3MGDLTznZeHe",
        "colab_type": "code",
        "colab": {}
      },
      "source": [
        "train_df = pd.read_csv('./train.csv')\n",
        "test_df = pd.read_csv('./test.csv')\n",
        "pd.set_option('display.max_colwidth', -1)"
      ],
      "execution_count": 0,
      "outputs": []
    },
    {
      "cell_type": "code",
      "metadata": {
        "id": "Az2fg8tJb9Kp",
        "colab_type": "code",
        "colab": {
          "base_uri": "https://localhost:8080/",
          "height": 206
        },
        "outputId": "989fdc41-89cf-4fe5-f0cd-0c93771e0d89"
      },
      "source": [
        "train_df[train_df['event']==71].tail(5)"
      ],
      "execution_count": 4,
      "outputs": [
        {
          "output_type": "execute_result",
          "data": {
            "text/html": [
              "<div>\n",
              "<style scoped>\n",
              "    .dataframe tbody tr th:only-of-type {\n",
              "        vertical-align: middle;\n",
              "    }\n",
              "\n",
              "    .dataframe tbody tr th {\n",
              "        vertical-align: top;\n",
              "    }\n",
              "\n",
              "    .dataframe thead th {\n",
              "        text-align: right;\n",
              "    }\n",
              "</style>\n",
              "<table border=\"1\" class=\"dataframe\">\n",
              "  <thead>\n",
              "    <tr style=\"text-align: right;\">\n",
              "      <th></th>\n",
              "      <th>text</th>\n",
              "      <th>sex</th>\n",
              "      <th>age</th>\n",
              "      <th>event</th>\n",
              "    </tr>\n",
              "  </thead>\n",
              "  <tbody>\n",
              "    <tr>\n",
              "      <th>153927</th>\n",
              "      <td>23 YO F C O 1 DAY OF THROAT PAIN ALSO LOWER BACK PAIN 1 DAY LIFTS HEAVYOBJECTS AT WORK ALL THE TIME DX PHARHYNGITIS LUMBAR STRAIN</td>\n",
              "      <td>2</td>\n",
              "      <td>23</td>\n",
              "      <td>71</td>\n",
              "    </tr>\n",
              "    <tr>\n",
              "      <th>153928</th>\n",
              "      <td>48 YM TECH AT WORK LIFTING PTS AND PULLED A MUSCLE IN BACK DX LOW BACKSPRAIN</td>\n",
              "      <td>1</td>\n",
              "      <td>48</td>\n",
              "      <td>71</td>\n",
              "    </tr>\n",
              "    <tr>\n",
              "      <th>153945</th>\n",
              "      <td>57YOM WITH LOW BACK PAIN AFTER LIFTING A HEAVY BOX AT WORK   DX PAIN</td>\n",
              "      <td>1</td>\n",
              "      <td>57</td>\n",
              "      <td>71</td>\n",
              "    </tr>\n",
              "    <tr>\n",
              "      <th>153949</th>\n",
              "      <td>55YOF WITH ABDOMINAL PAIN STS AT WORK DOING HEAVY LIFTING  FELT A RIPPING TEARING SENSATION TO R LOWER ABDOMEN DX R ABDOMINAL WALL STRAIN</td>\n",
              "      <td>2</td>\n",
              "      <td>55</td>\n",
              "      <td>71</td>\n",
              "    </tr>\n",
              "    <tr>\n",
              "      <th>153951</th>\n",
              "      <td>19YOF DOING UNSPECIFIED LIFTING AT WORK AND DEVELOPED PAIN ACROSS CHES T CHEST PAIN</td>\n",
              "      <td>2</td>\n",
              "      <td>19</td>\n",
              "      <td>71</td>\n",
              "    </tr>\n",
              "  </tbody>\n",
              "</table>\n",
              "</div>"
            ],
            "text/plain": [
              "                                                                                                                                             text  ...  event\n",
              "153927  23 YO F C O 1 DAY OF THROAT PAIN ALSO LOWER BACK PAIN 1 DAY LIFTS HEAVYOBJECTS AT WORK ALL THE TIME DX PHARHYNGITIS LUMBAR STRAIN          ...  71   \n",
              "153928  48 YM TECH AT WORK LIFTING PTS AND PULLED A MUSCLE IN BACK DX LOW BACKSPRAIN                                                               ...  71   \n",
              "153945  57YOM WITH LOW BACK PAIN AFTER LIFTING A HEAVY BOX AT WORK   DX PAIN                                                                       ...  71   \n",
              "153949  55YOF WITH ABDOMINAL PAIN STS AT WORK DOING HEAVY LIFTING  FELT A RIPPING TEARING SENSATION TO R LOWER ABDOMEN DX R ABDOMINAL WALL STRAIN  ...  71   \n",
              "153951  19YOF DOING UNSPECIFIED LIFTING AT WORK AND DEVELOPED PAIN ACROSS CHES T CHEST PAIN                                                        ...  71   \n",
              "\n",
              "[5 rows x 4 columns]"
            ]
          },
          "metadata": {
            "tags": []
          },
          "execution_count": 4
        }
      ]
    },
    {
      "cell_type": "code",
      "metadata": {
        "id": "fx3Ab3uUb-e6",
        "colab_type": "code",
        "colab": {}
      },
      "source": [
        "(train_df['event'].value_counts())"
      ],
      "execution_count": 0,
      "outputs": []
    },
    {
      "cell_type": "code",
      "metadata": {
        "id": "oFqoPyjqcCpv",
        "colab_type": "code",
        "colab": {
          "base_uri": "https://localhost:8080/",
          "height": 206
        },
        "outputId": "721ff393-e58a-4c51-9805-57cbef4136e9"
      },
      "source": [
        "test_df.head()"
      ],
      "execution_count": 6,
      "outputs": [
        {
          "output_type": "execute_result",
          "data": {
            "text/html": [
              "<div>\n",
              "<style scoped>\n",
              "    .dataframe tbody tr th:only-of-type {\n",
              "        vertical-align: middle;\n",
              "    }\n",
              "\n",
              "    .dataframe tbody tr th {\n",
              "        vertical-align: top;\n",
              "    }\n",
              "\n",
              "    .dataframe thead th {\n",
              "        text-align: right;\n",
              "    }\n",
              "</style>\n",
              "<table border=\"1\" class=\"dataframe\">\n",
              "  <thead>\n",
              "    <tr style=\"text-align: right;\">\n",
              "      <th></th>\n",
              "      <th>text</th>\n",
              "      <th>sex</th>\n",
              "      <th>age</th>\n",
              "    </tr>\n",
              "  </thead>\n",
              "  <tbody>\n",
              "    <tr>\n",
              "      <th>0</th>\n",
              "      <td>54 Y O F PUNCTURE WOUND OF FIINGER RE ATTACHING A CAP ON AN INSULIN SYRING SHE HAD JUST USED ON HER HOME CARE PATIENT</td>\n",
              "      <td>2</td>\n",
              "      <td>54</td>\n",
              "    </tr>\n",
              "    <tr>\n",
              "      <th>1</th>\n",
              "      <td>22 YOM CONTUSION TO LT LOWER LEG S P MVC HIT BY CAR GUIDING IN A CAR GAS PEDAL GOT STUCK PUSHING HIM AGAINST DOOR  WORK YESTERDAY AM</td>\n",
              "      <td>1</td>\n",
              "      <td>22</td>\n",
              "    </tr>\n",
              "    <tr>\n",
              "      <th>2</th>\n",
              "      <td>20 YOM PT WORKS IN A QUARRY  WAS ATTEMPTING TO DISLODGE A LARGE ROCK AND DEVELOPED CHEST PAINS  DX CHEST WALL PAIN</td>\n",
              "      <td>1</td>\n",
              "      <td>20</td>\n",
              "    </tr>\n",
              "    <tr>\n",
              "      <th>3</th>\n",
              "      <td>38 YOF WAS WALKING AT WORK TWISTED HER LT ANKLE  LATER HER RIGHT KNEE DX LEFT ANKLE AND KNEE SPRAIN</td>\n",
              "      <td>2</td>\n",
              "      <td>38</td>\n",
              "    </tr>\n",
              "    <tr>\n",
              "      <th>4</th>\n",
              "      <td>44 YOM C O LOW BACK PAIN AFTER LIFTING A BOX AT WORK TODAY DX LEFT SIDED LOW BACK PAIN</td>\n",
              "      <td>1</td>\n",
              "      <td>44</td>\n",
              "    </tr>\n",
              "  </tbody>\n",
              "</table>\n",
              "</div>"
            ],
            "text/plain": [
              "                                                                                                                                   text  ...  age\n",
              "0  54 Y O F PUNCTURE WOUND OF FIINGER RE ATTACHING A CAP ON AN INSULIN SYRING SHE HAD JUST USED ON HER HOME CARE PATIENT                 ...  54 \n",
              "1  22 YOM CONTUSION TO LT LOWER LEG S P MVC HIT BY CAR GUIDING IN A CAR GAS PEDAL GOT STUCK PUSHING HIM AGAINST DOOR  WORK YESTERDAY AM  ...  22 \n",
              "2  20 YOM PT WORKS IN A QUARRY  WAS ATTEMPTING TO DISLODGE A LARGE ROCK AND DEVELOPED CHEST PAINS  DX CHEST WALL PAIN                    ...  20 \n",
              "3  38 YOF WAS WALKING AT WORK TWISTED HER LT ANKLE  LATER HER RIGHT KNEE DX LEFT ANKLE AND KNEE SPRAIN                                   ...  38 \n",
              "4  44 YOM C O LOW BACK PAIN AFTER LIFTING A BOX AT WORK TODAY DX LEFT SIDED LOW BACK PAIN                                                ...  44 \n",
              "\n",
              "[5 rows x 3 columns]"
            ]
          },
          "metadata": {
            "tags": []
          },
          "execution_count": 6
        }
      ]
    },
    {
      "cell_type": "code",
      "metadata": {
        "id": "SIkslyuOcwt4",
        "colab_type": "code",
        "colab": {}
      },
      "source": [
        "lm_df = pd.DataFrame(pd.concat([train_df['text'], test_df['text']]))\n",
        "lm_df.reset_index(drop=True, inplace=True)"
      ],
      "execution_count": 0,
      "outputs": []
    },
    {
      "cell_type": "code",
      "metadata": {
        "id": "jOxdEd4dgZpx",
        "colab_type": "code",
        "colab": {
          "base_uri": "https://localhost:8080/",
          "height": 424
        },
        "outputId": "f6416f37-c92e-4d15-99db-484097192dbb"
      },
      "source": [
        "lm_df"
      ],
      "execution_count": 37,
      "outputs": [
        {
          "output_type": "execute_result",
          "data": {
            "text/html": [
              "<div>\n",
              "<style scoped>\n",
              "    .dataframe tbody tr th:only-of-type {\n",
              "        vertical-align: middle;\n",
              "    }\n",
              "\n",
              "    .dataframe tbody tr th {\n",
              "        vertical-align: top;\n",
              "    }\n",
              "\n",
              "    .dataframe thead th {\n",
              "        text-align: right;\n",
              "    }\n",
              "</style>\n",
              "<table border=\"1\" class=\"dataframe\">\n",
              "  <thead>\n",
              "    <tr style=\"text-align: right;\">\n",
              "      <th></th>\n",
              "      <th>text</th>\n",
              "    </tr>\n",
              "  </thead>\n",
              "  <tbody>\n",
              "    <tr>\n",
              "      <th>0</th>\n",
              "      <td>57YOM WITH CONTUSION TO FACE AFTER STRIKING IT WITH A POST POUNDER WHILE SETTING A FENCE POST</td>\n",
              "    </tr>\n",
              "    <tr>\n",
              "      <th>1</th>\n",
              "      <td>A 45YOM FELL ON ARM WHILE WORKING HAD SLIPPED ON WATER FX WRIST</td>\n",
              "    </tr>\n",
              "    <tr>\n",
              "      <th>2</th>\n",
              "      <td>58YOM WITH CERVICAL STRAIN  BACK PAIN S P RESTRAINED TAXI DRIVER IN LOW SPEED REAR END MVC NO LOC NO AB DEPLOYED</td>\n",
              "    </tr>\n",
              "    <tr>\n",
              "      <th>3</th>\n",
              "      <td>33 YOM LAC TO HAND FROM A RAZOR KNIFE</td>\n",
              "    </tr>\n",
              "    <tr>\n",
              "      <th>4</th>\n",
              "      <td>53YOM AT WORK IN A WAREHOUSE DOING UNSPECIFIED LIFTING AND STRAINED LO WER BACK</td>\n",
              "    </tr>\n",
              "    <tr>\n",
              "      <th>...</th>\n",
              "      <td>...</td>\n",
              "    </tr>\n",
              "    <tr>\n",
              "      <th>229815</th>\n",
              "      <td>49YOM COACHING FOOTBALL WHEN COLLIDED WITH PLAYER PAIN RT LEG DIFF BREATHING DX FX 1 RIB LEFT SIDE CLD FX SPRAIN RT ANKLE</td>\n",
              "    </tr>\n",
              "    <tr>\n",
              "      <th>229816</th>\n",
              "      <td>33 YO MALE WAS USING WIRE BRUSH AT WORK WHEN PIECE OF IT GOT IN HIS EYE DX FOREIGN BODY IN EYE</td>\n",
              "    </tr>\n",
              "    <tr>\n",
              "      <th>229817</th>\n",
              "      <td>36YOM LIFTING AT WORK BACK PX DX THORACIC STRAIN</td>\n",
              "    </tr>\n",
              "    <tr>\n",
              "      <th>229818</th>\n",
              "      <td>24 YO F PT WAS AT WORK WHEN SHE POKED LT THUMB WTH A NEEDLE AFTER DRAWING BLOOD ON A PATIENT DX PUNCTURE WOUND LT THUMB</td>\n",
              "    </tr>\n",
              "    <tr>\n",
              "      <th>229819</th>\n",
              "      <td>42 YO M PICKING UP A CAR HURT BACK AT WORK DX LOW BACK PAIN</td>\n",
              "    </tr>\n",
              "  </tbody>\n",
              "</table>\n",
              "<p>229820 rows × 1 columns</p>\n",
              "</div>"
            ],
            "text/plain": [
              "                                                                                                                             text\n",
              "0       57YOM WITH CONTUSION TO FACE AFTER STRIKING IT WITH A POST POUNDER WHILE SETTING A FENCE POST                            \n",
              "1       A 45YOM FELL ON ARM WHILE WORKING HAD SLIPPED ON WATER FX WRIST                                                          \n",
              "2       58YOM WITH CERVICAL STRAIN  BACK PAIN S P RESTRAINED TAXI DRIVER IN LOW SPEED REAR END MVC NO LOC NO AB DEPLOYED         \n",
              "3       33 YOM LAC TO HAND FROM A RAZOR KNIFE                                                                                    \n",
              "4       53YOM AT WORK IN A WAREHOUSE DOING UNSPECIFIED LIFTING AND STRAINED LO WER BACK                                          \n",
              "...                                                                                 ...                                          \n",
              "229815  49YOM COACHING FOOTBALL WHEN COLLIDED WITH PLAYER PAIN RT LEG DIFF BREATHING DX FX 1 RIB LEFT SIDE CLD FX SPRAIN RT ANKLE\n",
              "229816  33 YO MALE WAS USING WIRE BRUSH AT WORK WHEN PIECE OF IT GOT IN HIS EYE DX FOREIGN BODY IN EYE                           \n",
              "229817  36YOM LIFTING AT WORK BACK PX DX THORACIC STRAIN                                                                         \n",
              "229818  24 YO F PT WAS AT WORK WHEN SHE POKED LT THUMB WTH A NEEDLE AFTER DRAWING BLOOD ON A PATIENT DX PUNCTURE WOUND LT THUMB  \n",
              "229819  42 YO M PICKING UP A CAR HURT BACK AT WORK DX LOW BACK PAIN                                                              \n",
              "\n",
              "[229820 rows x 1 columns]"
            ]
          },
          "metadata": {
            "tags": []
          },
          "execution_count": 37
        }
      ]
    },
    {
      "cell_type": "code",
      "metadata": {
        "id": "1tce0gpKfVy1",
        "colab_type": "code",
        "colab": {}
      },
      "source": [
        "lm_df.to_csv('./lm_csv.csv')"
      ],
      "execution_count": 0,
      "outputs": []
    },
    {
      "cell_type": "code",
      "metadata": {
        "id": "LLqlCto0p464",
        "colab_type": "code",
        "colab": {}
      },
      "source": [
        "df_lm = pd.read_csv('./lm_csv.csv')\n",
        "df_lm.drop(['Unnamed: 0'], inplace=True, axis=1)"
      ],
      "execution_count": 0,
      "outputs": []
    },
    {
      "cell_type": "code",
      "metadata": {
        "id": "etCZ0TxBhpAh",
        "colab_type": "code",
        "colab": {}
      },
      "source": [
        "path = Path('./')"
      ],
      "execution_count": 0,
      "outputs": []
    },
    {
      "cell_type": "code",
      "metadata": {
        "id": "8A6Q__3VJKFu",
        "colab_type": "code",
        "colab": {}
      },
      "source": [
        "data_lm_fwd = TextList.from_df(df_lm, path=path).split_by_rand_pct(0.1, seed=42).label_for_lm().databunch(bs=48)"
      ],
      "execution_count": 0,
      "outputs": []
    },
    {
      "cell_type": "code",
      "metadata": {
        "id": "bC1jc6W3hcgJ",
        "colab_type": "code",
        "colab": {}
      },
      "source": [
        "learn_fwd = language_model_learner(data_lm_fwd, AWD_LSTM, drop_mult=0.3)"
      ],
      "execution_count": 0,
      "outputs": []
    },
    {
      "cell_type": "code",
      "metadata": {
        "id": "AcUUB_dqiWFN",
        "colab_type": "code",
        "colab": {}
      },
      "source": [
        "! mkdir models"
      ],
      "execution_count": 0,
      "outputs": []
    },
    {
      "cell_type": "code",
      "metadata": {
        "id": "1ONDaY9khjUr",
        "colab_type": "code",
        "colab": {}
      },
      "source": [
        "learn_fwd.model_dir='./models/'"
      ],
      "execution_count": 0,
      "outputs": []
    },
    {
      "cell_type": "code",
      "metadata": {
        "id": "vD-V3oJpiaTR",
        "colab_type": "code",
        "colab": {
          "base_uri": "https://localhost:8080/",
          "height": 331
        },
        "outputId": "1738ad57-699c-4b14-95b6-32e2ea4f3093"
      },
      "source": [
        "learn_fwd.lr_find()\n",
        "learn_fwd.recorder.plot(suggestion=True)"
      ],
      "execution_count": 75,
      "outputs": [
        {
          "output_type": "display_data",
          "data": {
            "text/html": [
              ""
            ],
            "text/plain": [
              "<IPython.core.display.HTML object>"
            ]
          },
          "metadata": {
            "tags": []
          }
        },
        {
          "output_type": "stream",
          "text": [
            "LR Finder is complete, type {learner_name}.recorder.plot() to see the graph.\n",
            "Min numerical gradient: 1.32E-02\n",
            "Min loss divided by 10: 1.32E-01\n"
          ],
          "name": "stdout"
        },
        {
          "output_type": "display_data",
          "data": {
            "image/png": "[encoded data removed]",
            "text/plain": [
              "<Figure size 432x288 with 1 Axes>"
            ]
          },
          "metadata": {
            "tags": []
          }
        }
      ]
    },
    {
      "cell_type": "code",
      "metadata": {
        "id": "Qe8gCIXdigzG",
        "colab_type": "code",
        "colab": {
          "base_uri": "https://localhost:8080/",
          "height": 363
        },
        "outputId": "350704c6-f9ab-4985-c75a-b50ec88132ee"
      },
      "source": [
        "learn_fwd.fit_one_cycle(10, 7e-2, moms=(0.8,0.7))"
      ],
      "execution_count": 76,
      "outputs": [
        {
          "output_type": "display_data",
          "data": {
            "text/html": [
              "<table border=\"1\" class=\"dataframe\">\n",
              "  <thead>\n",
              "    <tr style=\"text-align: left;\">\n",
              "      <th>epoch</th>\n",
              "      <th>train_loss</th>\n",
              "      <th>valid_loss</th>\n",
              "      <th>accuracy</th>\n",
              "      <th>time</th>\n",
              "    </tr>\n",
              "  </thead>\n",
              "  <tbody>\n",
              "    <tr>\n",
              "      <td>0</td>\n",
              "      <td>2.005582</td>\n",
              "      <td>1.900786</td>\n",
              "      <td>0.627057</td>\n",
              "      <td>03:26</td>\n",
              "    </tr>\n",
              "    <tr>\n",
              "      <td>1</td>\n",
              "      <td>2.104741</td>\n",
              "      <td>1.980135</td>\n",
              "      <td>0.620837</td>\n",
              "      <td>03:24</td>\n",
              "    </tr>\n",
              "    <tr>\n",
              "      <td>2</td>\n",
              "      <td>2.201936</td>\n",
              "      <td>2.068821</td>\n",
              "      <td>0.610563</td>\n",
              "      <td>03:24</td>\n",
              "    </tr>\n",
              "    <tr>\n",
              "      <td>3</td>\n",
              "      <td>2.157551</td>\n",
              "      <td>1.990729</td>\n",
              "      <td>0.620331</td>\n",
              "      <td>03:24</td>\n",
              "    </tr>\n",
              "    <tr>\n",
              "      <td>4</td>\n",
              "      <td>2.074945</td>\n",
              "      <td>1.950254</td>\n",
              "      <td>0.623916</td>\n",
              "      <td>03:25</td>\n",
              "    </tr>\n",
              "    <tr>\n",
              "      <td>5</td>\n",
              "      <td>2.025732</td>\n",
              "      <td>1.903022</td>\n",
              "      <td>0.628469</td>\n",
              "      <td>03:25</td>\n",
              "    </tr>\n",
              "    <tr>\n",
              "      <td>6</td>\n",
              "      <td>1.959563</td>\n",
              "      <td>1.848359</td>\n",
              "      <td>0.635170</td>\n",
              "      <td>03:25</td>\n",
              "    </tr>\n",
              "    <tr>\n",
              "      <td>7</td>\n",
              "      <td>1.902043</td>\n",
              "      <td>1.791701</td>\n",
              "      <td>0.641212</td>\n",
              "      <td>03:25</td>\n",
              "    </tr>\n",
              "    <tr>\n",
              "      <td>8</td>\n",
              "      <td>1.822499</td>\n",
              "      <td>1.754884</td>\n",
              "      <td>0.645705</td>\n",
              "      <td>03:25</td>\n",
              "    </tr>\n",
              "    <tr>\n",
              "      <td>9</td>\n",
              "      <td>1.789958</td>\n",
              "      <td>1.744916</td>\n",
              "      <td>0.647315</td>\n",
              "      <td>03:25</td>\n",
              "    </tr>\n",
              "  </tbody>\n",
              "</table>"
            ],
            "text/plain": [
              "<IPython.core.display.HTML object>"
            ]
          },
          "metadata": {
            "tags": []
          }
        }
      ]
    },
    {
      "cell_type": "code",
      "metadata": {
        "id": "QhTpJ7xJinnd",
        "colab_type": "code",
        "colab": {
          "base_uri": "https://localhost:8080/",
          "height": 279
        },
        "outputId": "04e52822-9c5a-479f-a30f-e5b38320b694"
      },
      "source": [
        "learn_fwd.recorder.plot_losses()"
      ],
      "execution_count": 77,
      "outputs": [
        {
          "output_type": "display_data",
          "data": {
            "image/png": "[encoded data removed]",
            "text/plain": [
              "<Figure size 432x288 with 1 Axes>"
            ]
          },
          "metadata": {
            "tags": []
          }
        }
      ]
    },
    {
      "cell_type": "code",
      "metadata": {
        "id": "zFzfnRwHinlN",
        "colab_type": "code",
        "colab": {
          "base_uri": "https://localhost:8080/",
          "height": 279
        },
        "outputId": "ed29d897-e729-4d0c-f3b1-5f52d564ce04"
      },
      "source": [
        "learn_fwd.recorder.plot_lr()"
      ],
      "execution_count": 78,
      "outputs": [
        {
          "output_type": "display_data",
          "data": {
            "image/png": "[encoded data removed]",
            "text/plain": [
              "<Figure size 432x288 with 1 Axes>"
            ]
          },
          "metadata": {
            "tags": []
          }
        }
      ]
    },
    {
      "cell_type": "code",
      "metadata": {
        "id": "BymJuSxpi75S",
        "colab_type": "code",
        "colab": {}
      },
      "source": [
        "learn_fwd.save('lm-head-fwd-2')"
      ],
      "execution_count": 0,
      "outputs": []
    },
    {
      "cell_type": "code",
      "metadata": {
        "id": "Iu-Ii2whini4",
        "colab_type": "code",
        "colab": {}
      },
      "source": [
        "learn_fwd.unfreeze()"
      ],
      "execution_count": 0,
      "outputs": []
    },
    {
      "cell_type": "code",
      "metadata": {
        "id": "0KEDmBXpingA",
        "colab_type": "code",
        "colab": {
          "base_uri": "https://localhost:8080/",
          "height": 331
        },
        "outputId": "fd08437b-8c5d-46b8-af1e-344c419382ec"
      },
      "source": [
        "learn_fwd.lr_find()\n",
        "learn_fwd.recorder.plot(suggestion=True)"
      ],
      "execution_count": 81,
      "outputs": [
        {
          "output_type": "display_data",
          "data": {
            "text/html": [
              ""
            ],
            "text/plain": [
              "<IPython.core.display.HTML object>"
            ]
          },
          "metadata": {
            "tags": []
          }
        },
        {
          "output_type": "stream",
          "text": [
            "LR Finder is complete, type {learner_name}.recorder.plot() to see the graph.\n",
            "Min numerical gradient: 8.32E-06\n",
            "Min loss divided by 10: 9.12E-08\n"
          ],
          "name": "stdout"
        },
        {
          "output_type": "display_data",
          "data": {
            "image/png": "[encoded data removed]",
            "text/plain": [
              "<Figure size 432x288 with 1 Axes>"
            ]
          },
          "metadata": {
            "tags": []
          }
        }
      ]
    },
    {
      "cell_type": "code",
      "metadata": {
        "id": "0l-f5t1MindS",
        "colab_type": "code",
        "colab": {
          "base_uri": "https://localhost:8080/",
          "height": 206
        },
        "outputId": "5c792e17-574a-450e-e4ca-649086a3795d"
      },
      "source": [
        "learn_fwd.fit_one_cycle(5, slice(8e-06, 7e-3), moms=(0.8,0.7))"
      ],
      "execution_count": 82,
      "outputs": [
        {
          "output_type": "display_data",
          "data": {
            "text/html": [
              "<table border=\"1\" class=\"dataframe\">\n",
              "  <thead>\n",
              "    <tr style=\"text-align: left;\">\n",
              "      <th>epoch</th>\n",
              "      <th>train_loss</th>\n",
              "      <th>valid_loss</th>\n",
              "      <th>accuracy</th>\n",
              "      <th>time</th>\n",
              "    </tr>\n",
              "  </thead>\n",
              "  <tbody>\n",
              "    <tr>\n",
              "      <td>0</td>\n",
              "      <td>1.714212</td>\n",
              "      <td>1.693523</td>\n",
              "      <td>0.653393</td>\n",
              "      <td>04:14</td>\n",
              "    </tr>\n",
              "    <tr>\n",
              "      <td>1</td>\n",
              "      <td>1.668740</td>\n",
              "      <td>1.643182</td>\n",
              "      <td>0.661053</td>\n",
              "      <td>04:13</td>\n",
              "    </tr>\n",
              "    <tr>\n",
              "      <td>2</td>\n",
              "      <td>1.613069</td>\n",
              "      <td>1.603994</td>\n",
              "      <td>0.666812</td>\n",
              "      <td>04:12</td>\n",
              "    </tr>\n",
              "    <tr>\n",
              "      <td>3</td>\n",
              "      <td>1.565202</td>\n",
              "      <td>1.581553</td>\n",
              "      <td>0.670603</td>\n",
              "      <td>04:14</td>\n",
              "    </tr>\n",
              "    <tr>\n",
              "      <td>4</td>\n",
              "      <td>1.520480</td>\n",
              "      <td>1.577712</td>\n",
              "      <td>0.671522</td>\n",
              "      <td>04:13</td>\n",
              "    </tr>\n",
              "  </tbody>\n",
              "</table>"
            ],
            "text/plain": [
              "<IPython.core.display.HTML object>"
            ]
          },
          "metadata": {
            "tags": []
          }
        }
      ]
    },
    {
      "cell_type": "code",
      "metadata": {
        "id": "Xpsmp5wTinYQ",
        "colab_type": "code",
        "colab": {}
      },
      "source": [
        "learn_fwd.save('lm-unfr-pwd-2')"
      ],
      "execution_count": 0,
      "outputs": []
    },
    {
      "cell_type": "code",
      "metadata": {
        "id": "zYdxKrWzyQMH",
        "colab_type": "code",
        "colab": {
          "base_uri": "https://localhost:8080/",
          "height": 1000
        },
        "outputId": "fcc72e42-b03f-4585-83cc-856157bd072b"
      },
      "source": [
        "learn_fwd"
      ],
      "execution_count": 59,
      "outputs": [
        {
          "output_type": "execute_result",
          "data": {
            "text/plain": [
              "LanguageLearner(data=TextLMDataBunch;\n",
              "\n",
              "Train: LabelList (206838 items)\n",
              "x: LMTextList\n",
              "xxbos xxup 57yom xxup with xxup contusion xxup to xxup face xxup after xxup striking xxup it xxup with a xxup post xxup pounder xxup while xxup setting a xxup fence xxup post,xxbos a xxup 45yom xxup fell xxup on xxup arm xxup while xxup working xxup had xxup slipped xxup on xxup water xxup fx xxup wrist,xxbos xxup 58yom xxup with xxup cervical xxup strain xxup back xxup pain s p xxup restrained xxup taxi xxup driver xxup in xxup low xxup speed xxup rear xxup end xxup mvc xxup no xxup loc xxup no xxup ab xxup deployed,xxbos 33 xxup yom xxup lac xxup to xxup hand xxup from a xxup razor xxup knife,xxbos xxup 53yom xxup at xxup work xxup in a xxup warehouse xxup doing xxup unspecified xxup lifting xxup and xxup strained xxup lo xxup wer xxup back\n",
              "y: LMLabelList\n",
              ",,,,\n",
              "Path: .;\n",
              "\n",
              "Valid: LabelList (22982 items)\n",
              "x: LMTextList\n",
              "xxbos xxup 29yf xxup works xxup subject xxup was xxup spit xxup in xxup her xxup face xxup eye xxup mouth xxup by a xxup patient xxup occ xxup expo,xxbos xxup 15yom xxup laceration xxup to xxup thigh xxup cut xxup with xxup electric xxup hedge xxup trimmers xxup at xxup work,xxbos a xxup 39yof xxup was xxup withdrawing xxup needle xxup from xxup dialysis xxup patient xxup accidentally xxup stuck xxup self xxup in xxup finger xxup puncture xxup to xxup finger xxup needlestick,xxbos xxup 52yof xxup to xxup er xxup for xxup low xxup back xxup pain xxup after xxup standing xxup long xxup hours xxup working xxup as a xxup cook xxup dx xxup low xxup back xxup pain xxup sciatica,xxbos xxup 53yom xxup hospital xxup employee w xxup chronic xxup low xxup back xxup pain xxup thinks xxup he xxup aggravated xxup pain xxup while xxup moving xxup patient xxup from xxup or xxup bed xxup dx xxup back xxup pain\n",
              "y: LMLabelList\n",
              ",,,,\n",
              "Path: .;\n",
              "\n",
              "Test: None, model=SequentialRNN(\n",
              "  (0): AWD_LSTM(\n",
              "    (encoder): Embedding(13032, 400, padding_idx=1)\n",
              "    (encoder_dp): EmbeddingDropout(\n",
              "      (emb): Embedding(13032, 400, padding_idx=1)\n",
              "    )\n",
              "    (rnns): ModuleList(\n",
              "      (0): WeightDropout(\n",
              "        (module): LSTM(400, 1152, batch_first=True)\n",
              "      )\n",
              "      (1): WeightDropout(\n",
              "        (module): LSTM(1152, 1152, batch_first=True)\n",
              "      )\n",
              "      (2): WeightDropout(\n",
              "        (module): LSTM(1152, 400, batch_first=True)\n",
              "      )\n",
              "    )\n",
              "    (input_dp): RNNDropout()\n",
              "    (hidden_dps): ModuleList(\n",
              "      (0): RNNDropout()\n",
              "      (1): RNNDropout()\n",
              "      (2): RNNDropout()\n",
              "    )\n",
              "  )\n",
              "  (1): LinearDecoder(\n",
              "    (decoder): Linear(in_features=400, out_features=13032, bias=True)\n",
              "    (output_dp): RNNDropout()\n",
              "  )\n",
              "), opt_func=functools.partial(<class 'torch.optim.adam.Adam'>, betas=(0.9, 0.99)), loss_func=FlattenedLoss of CrossEntropyLoss(), metrics=[<function accuracy at 0x7f45e4b74f28>], true_wd=True, bn_wd=True, wd=0.01, train_bn=True, path=PosixPath('.'), model_dir='./models/', callback_fns=[functools.partial(<class 'fastai.basic_train.Recorder'>, add_time=True, silent=False)], callbacks=[RNNTrainer\n",
              "learn: LanguageLearner(data=TextLMDataBunch;\n",
              "\n",
              "Train: LabelList (206838 items)\n",
              "x: LMTextList\n",
              "xxbos xxup 57yom xxup with xxup contusion xxup to xxup face xxup after xxup striking xxup it xxup with a xxup post xxup pounder xxup while xxup setting a xxup fence xxup post,xxbos a xxup 45yom xxup fell xxup on xxup arm xxup while xxup working xxup had xxup slipped xxup on xxup water xxup fx xxup wrist,xxbos xxup 58yom xxup with xxup cervical xxup strain xxup back xxup pain s p xxup restrained xxup taxi xxup driver xxup in xxup low xxup speed xxup rear xxup end xxup mvc xxup no xxup loc xxup no xxup ab xxup deployed,xxbos 33 xxup yom xxup lac xxup to xxup hand xxup from a xxup razor xxup knife,xxbos xxup 53yom xxup at xxup work xxup in a xxup warehouse xxup doing xxup unspecified xxup lifting xxup and xxup strained xxup lo xxup wer xxup back\n",
              "y: LMLabelList\n",
              ",,,,\n",
              "Path: .;\n",
              "\n",
              "Valid: LabelList (22982 items)\n",
              "x: LMTextList\n",
              "xxbos xxup 29yf xxup works xxup subject xxup was xxup spit xxup in xxup her xxup face xxup eye xxup mouth xxup by a xxup patient xxup occ xxup expo,xxbos xxup 15yom xxup laceration xxup to xxup thigh xxup cut xxup with xxup electric xxup hedge xxup trimmers xxup at xxup work,xxbos a xxup 39yof xxup was xxup withdrawing xxup needle xxup from xxup dialysis xxup patient xxup accidentally xxup stuck xxup self xxup in xxup finger xxup puncture xxup to xxup finger xxup needlestick,xxbos xxup 52yof xxup to xxup er xxup for xxup low xxup back xxup pain xxup after xxup standing xxup long xxup hours xxup working xxup as a xxup cook xxup dx xxup low xxup back xxup pain xxup sciatica,xxbos xxup 53yom xxup hospital xxup employee w xxup chronic xxup low xxup back xxup pain xxup thinks xxup he xxup aggravated xxup pain xxup while xxup moving xxup patient xxup from xxup or xxup bed xxup dx xxup back xxup pain\n",
              "y: LMLabelList\n",
              ",,,,\n",
              "Path: .;\n",
              "\n",
              "Test: None, model=SequentialRNN(\n",
              "  (0): AWD_LSTM(\n",
              "    (encoder): Embedding(13032, 400, padding_idx=1)\n",
              "    (encoder_dp): EmbeddingDropout(\n",
              "      (emb): Embedding(13032, 400, padding_idx=1)\n",
              "    )\n",
              "    (rnns): ModuleList(\n",
              "      (0): WeightDropout(\n",
              "        (module): LSTM(400, 1152, batch_first=True)\n",
              "      )\n",
              "      (1): WeightDropout(\n",
              "        (module): LSTM(1152, 1152, batch_first=True)\n",
              "      )\n",
              "      (2): WeightDropout(\n",
              "        (module): LSTM(1152, 400, batch_first=True)\n",
              "      )\n",
              "    )\n",
              "    (input_dp): RNNDropout()\n",
              "    (hidden_dps): ModuleList(\n",
              "      (0): RNNDropout()\n",
              "      (1): RNNDropout()\n",
              "      (2): RNNDropout()\n",
              "    )\n",
              "  )\n",
              "  (1): LinearDecoder(\n",
              "    (decoder): Linear(in_features=400, out_features=13032, bias=True)\n",
              "    (output_dp): RNNDropout()\n",
              "  )\n",
              "), opt_func=functools.partial(<class 'torch.optim.adam.Adam'>, betas=(0.9, 0.99)), loss_func=FlattenedLoss of CrossEntropyLoss(), metrics=[<function accuracy at 0x7f45e4b74f28>], true_wd=True, bn_wd=True, wd=0.01, train_bn=True, path=PosixPath('.'), model_dir='./models/', callback_fns=[functools.partial(<class 'fastai.basic_train.Recorder'>, add_time=True, silent=False)], callbacks=[...], layer_groups=[Sequential(\n",
              "  (0): WeightDropout(\n",
              "    (module): LSTM(400, 1152, batch_first=True)\n",
              "  )\n",
              "  (1): RNNDropout()\n",
              "), Sequential(\n",
              "  (0): WeightDropout(\n",
              "    (module): LSTM(1152, 1152, batch_first=True)\n",
              "  )\n",
              "  (1): RNNDropout()\n",
              "), Sequential(\n",
              "  (0): WeightDropout(\n",
              "    (module): LSTM(1152, 400, batch_first=True)\n",
              "  )\n",
              "  (1): RNNDropout()\n",
              "), Sequential(\n",
              "  (0): Embedding(13032, 400, padding_idx=1)\n",
              "  (1): EmbeddingDropout(\n",
              "    (emb): Embedding(13032, 400, padding_idx=1)\n",
              "  )\n",
              "  (2): LinearDecoder(\n",
              "    (decoder): Linear(in_features=400, out_features=13032, bias=True)\n",
              "    (output_dp): RNNDropout()\n",
              "  )\n",
              ")], add_time=True, silent=False)\n",
              "alpha: 2.0\n",
              "beta: 1.0], layer_groups=[Sequential(\n",
              "  (0): WeightDropout(\n",
              "    (module): LSTM(400, 1152, batch_first=True)\n",
              "  )\n",
              "  (1): RNNDropout()\n",
              "), Sequential(\n",
              "  (0): WeightDropout(\n",
              "    (module): LSTM(1152, 1152, batch_first=True)\n",
              "  )\n",
              "  (1): RNNDropout()\n",
              "), Sequential(\n",
              "  (0): WeightDropout(\n",
              "    (module): LSTM(1152, 400, batch_first=True)\n",
              "  )\n",
              "  (1): RNNDropout()\n",
              "), Sequential(\n",
              "  (0): Embedding(13032, 400, padding_idx=1)\n",
              "  (1): EmbeddingDropout(\n",
              "    (emb): Embedding(13032, 400, padding_idx=1)\n",
              "  )\n",
              "  (2): LinearDecoder(\n",
              "    (decoder): Linear(in_features=400, out_features=13032, bias=True)\n",
              "    (output_dp): RNNDropout()\n",
              "  )\n",
              ")], add_time=True, silent=False)"
            ]
          },
          "metadata": {
            "tags": []
          },
          "execution_count": 59
        }
      ]
    },
    {
      "cell_type": "code",
      "metadata": {
        "id": "go5iuOyByehR",
        "colab_type": "code",
        "colab": {}
      },
      "source": [
        "learn_fwd.save_encoder('fine_tuned_fwd_enc')"
      ],
      "execution_count": 0,
      "outputs": []
    },
    {
      "cell_type": "markdown",
      "metadata": {
        "id": "R8snmJrBv7nv",
        "colab_type": "text"
      },
      "source": [
        "# Text Classification"
      ]
    },
    {
      "cell_type": "code",
      "metadata": {
        "id": "AZ8OcKb2xwkQ",
        "colab_type": "code",
        "colab": {}
      },
      "source": [
        "bs=48"
      ],
      "execution_count": 0,
      "outputs": []
    },
    {
      "cell_type": "code",
      "metadata": {
        "id": "_Nxbd0epinVe",
        "colab_type": "code",
        "colab": {}
      },
      "source": [
        "data_clas_fwd = (TextList.from_df(train_df, path, cols='text', vocab=data_lm_fwd.vocab)\n",
        "             #grab all the text files in path\n",
        "             .split_by_rand_pct(0.10, seed=42)\n",
        "             #split by train and valid folder (that only keeps 'train' and 'test' so no need to filter)\n",
        "             .label_from_df(cols='event')\n",
        "             #label them all with their folders\n",
        "             .databunch(bs=bs, num_workers=1))"
      ],
      "execution_count": 0,
      "outputs": []
    },
    {
      "cell_type": "code",
      "metadata": {
        "id": "bZezi8GzinSx",
        "colab_type": "code",
        "colab": {}
      },
      "source": [
        "learn_c_fwd = text_classifier_learner(data_clas_fwd, AWD_LSTM, drop_mult=0.3) #.to_fp16()\n",
        "learn_c_fwd.load_encoder('fine_tuned_fwd_enc')\n",
        "learn_c_fwd.freeze()"
      ],
      "execution_count": 0,
      "outputs": []
    },
    {
      "cell_type": "code",
      "metadata": {
        "id": "wHlb8s0jinQG",
        "colab_type": "code",
        "colab": {
          "base_uri": "https://localhost:8080/",
          "height": 331
        },
        "outputId": "ac288d6c-8520-4eb7-f3cd-c01da136a860"
      },
      "source": [
        "learn_c_fwd.lr_find()\n",
        "learn_c_fwd.recorder.plot(suggestion=True)"
      ],
      "execution_count": 89,
      "outputs": [
        {
          "output_type": "display_data",
          "data": {
            "text/html": [
              ""
            ],
            "text/plain": [
              "<IPython.core.display.HTML object>"
            ]
          },
          "metadata": {
            "tags": []
          }
        },
        {
          "output_type": "stream",
          "text": [
            "LR Finder is complete, type {learner_name}.recorder.plot() to see the graph.\n",
            "Min numerical gradient: 1.58E-02\n",
            "Min loss divided by 10: 6.31E-02\n"
          ],
          "name": "stdout"
        },
        {
          "output_type": "display_data",
          "data": {
            "image/png": "[encoded data removed]",
            "text/plain": [
              "<Figure size 432x288 with 1 Axes>"
            ]
          },
          "metadata": {
            "tags": []
          }
        }
      ]
    },
    {
      "cell_type": "code",
      "metadata": {
        "id": "gU5at6bnyx4g",
        "colab_type": "code",
        "colab": {
          "base_uri": "https://localhost:8080/",
          "height": 363
        },
        "outputId": "5506fe05-a1f9-40c1-d8ee-2ad5cb49e2eb"
      },
      "source": [
        "learn_c_fwd.fit_one_cycle(10, 2e-2, moms=(0.8,0.7))"
      ],
      "execution_count": 90,
      "outputs": [
        {
          "output_type": "display_data",
          "data": {
            "text/html": [
              "<table border=\"1\" class=\"dataframe\">\n",
              "  <thead>\n",
              "    <tr style=\"text-align: left;\">\n",
              "      <th>epoch</th>\n",
              "      <th>train_loss</th>\n",
              "      <th>valid_loss</th>\n",
              "      <th>accuracy</th>\n",
              "      <th>time</th>\n",
              "    </tr>\n",
              "  </thead>\n",
              "  <tbody>\n",
              "    <tr>\n",
              "      <td>0</td>\n",
              "      <td>0.909438</td>\n",
              "      <td>0.726795</td>\n",
              "      <td>0.766937</td>\n",
              "      <td>01:12</td>\n",
              "    </tr>\n",
              "    <tr>\n",
              "      <td>1</td>\n",
              "      <td>0.874260</td>\n",
              "      <td>0.714658</td>\n",
              "      <td>0.770835</td>\n",
              "      <td>01:12</td>\n",
              "    </tr>\n",
              "    <tr>\n",
              "      <td>2</td>\n",
              "      <td>0.884494</td>\n",
              "      <td>0.725685</td>\n",
              "      <td>0.764599</td>\n",
              "      <td>01:10</td>\n",
              "    </tr>\n",
              "    <tr>\n",
              "      <td>3</td>\n",
              "      <td>0.860085</td>\n",
              "      <td>0.691065</td>\n",
              "      <td>0.776356</td>\n",
              "      <td>01:10</td>\n",
              "    </tr>\n",
              "    <tr>\n",
              "      <td>4</td>\n",
              "      <td>0.816157</td>\n",
              "      <td>0.670555</td>\n",
              "      <td>0.788893</td>\n",
              "      <td>01:07</td>\n",
              "    </tr>\n",
              "    <tr>\n",
              "      <td>5</td>\n",
              "      <td>0.809985</td>\n",
              "      <td>0.645804</td>\n",
              "      <td>0.794868</td>\n",
              "      <td>01:12</td>\n",
              "    </tr>\n",
              "    <tr>\n",
              "      <td>6</td>\n",
              "      <td>0.742627</td>\n",
              "      <td>0.622663</td>\n",
              "      <td>0.801104</td>\n",
              "      <td>01:12</td>\n",
              "    </tr>\n",
              "    <tr>\n",
              "      <td>7</td>\n",
              "      <td>0.778381</td>\n",
              "      <td>0.593729</td>\n",
              "      <td>0.810588</td>\n",
              "      <td>01:13</td>\n",
              "    </tr>\n",
              "    <tr>\n",
              "      <td>8</td>\n",
              "      <td>0.734510</td>\n",
              "      <td>0.577939</td>\n",
              "      <td>0.813251</td>\n",
              "      <td>01:12</td>\n",
              "    </tr>\n",
              "    <tr>\n",
              "      <td>9</td>\n",
              "      <td>0.721199</td>\n",
              "      <td>0.574789</td>\n",
              "      <td>0.819032</td>\n",
              "      <td>01:08</td>\n",
              "    </tr>\n",
              "  </tbody>\n",
              "</table>"
            ],
            "text/plain": [
              "<IPython.core.display.HTML object>"
            ]
          },
          "metadata": {
            "tags": []
          }
        }
      ]
    },
    {
      "cell_type": "code",
      "metadata": {
        "id": "M_1-jUvN0Zh_",
        "colab_type": "code",
        "colab": {}
      },
      "source": [
        "learn_c_fwd.save('learn_head_fwd-10ep-2')"
      ],
      "execution_count": 0,
      "outputs": []
    },
    {
      "cell_type": "code",
      "metadata": {
        "id": "T1tO8pCry6bu",
        "colab_type": "code",
        "colab": {
          "base_uri": "https://localhost:8080/",
          "height": 331
        },
        "outputId": "56ed0be5-5aa8-4128-dde8-9c42ccc10c33"
      },
      "source": [
        "learn_c_fwd.lr_find()\n",
        "learn_c_fwd.recorder.plot(suggestion=True)"
      ],
      "execution_count": 92,
      "outputs": [
        {
          "output_type": "display_data",
          "data": {
            "text/html": [
              ""
            ],
            "text/plain": [
              "<IPython.core.display.HTML object>"
            ]
          },
          "metadata": {
            "tags": []
          }
        },
        {
          "output_type": "stream",
          "text": [
            "LR Finder is complete, type {learner_name}.recorder.plot() to see the graph.\n",
            "Min numerical gradient: 7.59E-07\n",
            "Min loss divided by 10: 2.75E-05\n"
          ],
          "name": "stdout"
        },
        {
          "output_type": "display_data",
          "data": {
            "image/png": "[encoded data removed]",
            "text/plain": [
              "<Figure size 432x288 with 1 Axes>"
            ]
          },
          "metadata": {
            "tags": []
          }
        }
      ]
    },
    {
      "cell_type": "code",
      "metadata": {
        "id": "BsH-r_b_0HCs",
        "colab_type": "code",
        "colab": {
          "base_uri": "https://localhost:8080/",
          "height": 206
        },
        "outputId": "a9b8e78f-2990-4558-a1f7-4e57412aad46"
      },
      "source": [
        "learn_c_fwd.fit_one_cycle(5, 5e-5, moms=(0.8,0.7))"
      ],
      "execution_count": 93,
      "outputs": [
        {
          "output_type": "display_data",
          "data": {
            "text/html": [
              "<table border=\"1\" class=\"dataframe\">\n",
              "  <thead>\n",
              "    <tr style=\"text-align: left;\">\n",
              "      <th>epoch</th>\n",
              "      <th>train_loss</th>\n",
              "      <th>valid_loss</th>\n",
              "      <th>accuracy</th>\n",
              "      <th>time</th>\n",
              "    </tr>\n",
              "  </thead>\n",
              "  <tbody>\n",
              "    <tr>\n",
              "      <td>0</td>\n",
              "      <td>0.695326</td>\n",
              "      <td>0.574785</td>\n",
              "      <td>0.818902</td>\n",
              "      <td>01:07</td>\n",
              "    </tr>\n",
              "    <tr>\n",
              "      <td>1</td>\n",
              "      <td>0.695511</td>\n",
              "      <td>0.575495</td>\n",
              "      <td>0.818837</td>\n",
              "      <td>01:09</td>\n",
              "    </tr>\n",
              "    <tr>\n",
              "      <td>2</td>\n",
              "      <td>0.735509</td>\n",
              "      <td>0.574997</td>\n",
              "      <td>0.819682</td>\n",
              "      <td>01:10</td>\n",
              "    </tr>\n",
              "    <tr>\n",
              "      <td>3</td>\n",
              "      <td>0.711362</td>\n",
              "      <td>0.573137</td>\n",
              "      <td>0.817863</td>\n",
              "      <td>01:09</td>\n",
              "    </tr>\n",
              "    <tr>\n",
              "      <td>4</td>\n",
              "      <td>0.695241</td>\n",
              "      <td>0.573639</td>\n",
              "      <td>0.818772</td>\n",
              "      <td>01:08</td>\n",
              "    </tr>\n",
              "  </tbody>\n",
              "</table>"
            ],
            "text/plain": [
              "<IPython.core.display.HTML object>"
            ]
          },
          "metadata": {
            "tags": []
          }
        }
      ]
    },
    {
      "cell_type": "code",
      "metadata": {
        "id": "d6KsWyHY3Dw8",
        "colab_type": "code",
        "colab": {}
      },
      "source": [
        "learn_c_fwd.save('learn_head_fwd-15ep-2')"
      ],
      "execution_count": 0,
      "outputs": []
    },
    {
      "cell_type": "markdown",
      "metadata": {
        "id": "R_xF7MxtNfo5",
        "colab_type": "text"
      },
      "source": [
        "### Continuing with older 10ep head"
      ]
    },
    {
      "cell_type": "code",
      "metadata": {
        "id": "4EwpmrMAp3bt",
        "colab_type": "code",
        "colab": {
          "base_uri": "https://localhost:8080/",
          "height": 1000
        },
        "outputId": "a52564f2-d9a2-49b5-871a-c6f38a0b42a9"
      },
      "source": [
        "learn_c_fwd.load('learn_head_fwd-5ep-2')"
      ],
      "execution_count": 125,
      "outputs": [
        {
          "output_type": "execute_result",
          "data": {
            "text/plain": [
              "RNNLearner(data=TextClasDataBunch;\n",
              "\n",
              "Train: LabelList (138561 items)\n",
              "x: TextList\n",
              "xxbos a xxup 45yom xxup fell xxup on xxup arm xxup while xxup working xxup had xxup slipped xxup on xxup water xxup fx xxup wrist,xxbos xxup 58yom xxup with xxup cervical xxup strain xxup back xxup pain s p xxup restrained xxup taxi xxup driver xxup in xxup low xxup speed xxup rear xxup end xxup mvc xxup no xxup loc xxup no xxup ab xxup deployed,xxbos 33 xxup yom xxup lac xxup to xxup hand xxup from a xxup razor xxup knife,xxbos xxup 53yom xxup at xxup work xxup in a xxup warehouse xxup doing xxup unspecified xxup lifting xxup and xxup strained xxup lo xxup wer xxup back,xxbos xxup 31yom xxup at a xxup clients xxup home xxup trimming a xxup tree xxup with a xxup chain xxup saw xxup and xxup the xxup saw xxup kicked xxup back xxup hit xxup lower xxup arm xxup laceration xxup to xxup lower xxup arm\n",
              "y: CategoryList\n",
              "42,26,60,71,62\n",
              "Path: .;\n",
              "\n",
              "Valid: LabelList (15395 items)\n",
              "x: TextList\n",
              "xxbos xxup 58ym xxup doing xxup work xxup on a xxup car xxup when a xxup high xxup pressure xxup spring xxup opened xxup striking xxup knee xxup lac,xxbos 20 xxup yom xxup cut r xxup fa xxup on xxup sheet xxup metal xxup at xxup work xxup dx xxup fa xxup lac,xxbos 48 xxup yof xxup sus xxup head xxup trauma xxup after xxup an xxup elevator xxup door xxup hit xxup her xxup in xxup the xxup head xxup at xxup work,xxbos xxup 33yom xxup inj l 2 3 4 xxup fingers xxup at xxup work xxup when a xxup metal xxup wire xxup got xxup xxunk xxup xxunk xxup fingers xxup dx xxup lac xxup fingers x 3 1 5 xxup cm xxup each,xxbos xxup 19yom xxup with xxup concussion xxup skull xxup facial xxup fxs xxup multi xxup abras xxup to xxup face 2 2 xxup being xxup hit xxup with a xxup crow xxup bar xxup by xxup mistake xxup at xxup work xxup loc\n",
              "y: CategoryList\n",
              "62,60,64,64,62\n",
              "Path: .;\n",
              "\n",
              "Test: LabelList (75864 items)\n",
              "x: TextList\n",
              "xxbos 54 y o f xxup puncture xxup wound xxup of xxup fiinger xxup re xxup attaching a xxup cap xxup on xxup an xxup insulin xxup syring xxup she xxup had xxup just xxup used xxup on xxup her xxup home xxup care xxup patient,xxbos 22 xxup yom xxup contusion xxup to xxup lt xxup lower xxup leg s p xxup mvc xxup hit xxup by xxup car xxup guiding xxup in a xxup car xxup gas xxup pedal xxup got xxup stuck xxup pushing xxup him xxup against xxup door xxup work xxup yesterday xxup am,xxbos 20 xxup yom xxup pt xxup works xxup in a xxup quarry xxup was xxup attempting xxup to xxup dislodge a xxup large xxup rock xxup and xxup developed xxup chest xxup pains xxup dx xxup chest xxup wall xxup pain,xxbos 38 xxup yof xxup was xxup walking xxup at xxup work xxup twisted xxup her xxup lt xxup ankle xxup later xxup her xxup right xxup knee xxup dx xxup left xxup ankle xxup and xxup knee xxup sprain,xxbos 44 xxup yom c o xxup low xxup back xxup pain xxup after xxup lifting a xxup box xxup at xxup work xxup today xxup dx xxup left xxup sided xxup low xxup back xxup pain\n",
              "y: EmptyLabelList\n",
              ",,,,\n",
              "Path: ., model=SequentialRNN(\n",
              "  (0): MultiBatchEncoder(\n",
              "    (module): AWD_LSTM(\n",
              "      (encoder): Embedding(13032, 400, padding_idx=1)\n",
              "      (encoder_dp): EmbeddingDropout(\n",
              "        (emb): Embedding(13032, 400, padding_idx=1)\n",
              "      )\n",
              "      (rnns): ModuleList(\n",
              "        (0): WeightDropout(\n",
              "          (module): LSTM(400, 1152, batch_first=True)\n",
              "        )\n",
              "        (1): WeightDropout(\n",
              "          (module): LSTM(1152, 1152, batch_first=True)\n",
              "        )\n",
              "        (2): WeightDropout(\n",
              "          (module): LSTM(1152, 400, batch_first=True)\n",
              "        )\n",
              "      )\n",
              "      (input_dp): RNNDropout()\n",
              "      (hidden_dps): ModuleList(\n",
              "        (0): RNNDropout()\n",
              "        (1): RNNDropout()\n",
              "        (2): RNNDropout()\n",
              "      )\n",
              "    )\n",
              "  )\n",
              "  (1): PoolingLinearClassifier(\n",
              "    (layers): Sequential(\n",
              "      (0): BatchNorm1d(1200, eps=1e-05, momentum=0.1, affine=True, track_running_stats=True)\n",
              "      (1): Dropout(p=0.12, inplace=False)\n",
              "      (2): Linear(in_features=1200, out_features=50, bias=True)\n",
              "      (3): ReLU(inplace=True)\n",
              "      (4): BatchNorm1d(50, eps=1e-05, momentum=0.1, affine=True, track_running_stats=True)\n",
              "      (5): Dropout(p=0.1, inplace=False)\n",
              "      (6): Linear(in_features=50, out_features=48, bias=True)\n",
              "    )\n",
              "  )\n",
              "), opt_func=functools.partial(<class 'torch.optim.adam.Adam'>, betas=(0.9, 0.99)), loss_func=FlattenedLoss of CrossEntropyLoss(), metrics=[<function accuracy at 0x7efe98136f28>], true_wd=True, bn_wd=True, wd=0.01, train_bn=True, path=PosixPath('.'), model_dir='models', callback_fns=[functools.partial(<class 'fastai.basic_train.Recorder'>, add_time=True, silent=False)], callbacks=[RNNTrainer\n",
              "learn: RNNLearner(data=TextClasDataBunch;\n",
              "\n",
              "Train: LabelList (138561 items)\n",
              "x: TextList\n",
              "xxbos a xxup 45yom xxup fell xxup on xxup arm xxup while xxup working xxup had xxup slipped xxup on xxup water xxup fx xxup wrist,xxbos xxup 58yom xxup with xxup cervical xxup strain xxup back xxup pain s p xxup restrained xxup taxi xxup driver xxup in xxup low xxup speed xxup rear xxup end xxup mvc xxup no xxup loc xxup no xxup ab xxup deployed,xxbos 33 xxup yom xxup lac xxup to xxup hand xxup from a xxup razor xxup knife,xxbos xxup 53yom xxup at xxup work xxup in a xxup warehouse xxup doing xxup unspecified xxup lifting xxup and xxup strained xxup lo xxup wer xxup back,xxbos xxup 31yom xxup at a xxup clients xxup home xxup trimming a xxup tree xxup with a xxup chain xxup saw xxup and xxup the xxup saw xxup kicked xxup back xxup hit xxup lower xxup arm xxup laceration xxup to xxup lower xxup arm\n",
              "y: CategoryList\n",
              "42,26,60,71,62\n",
              "Path: .;\n",
              "\n",
              "Valid: LabelList (15395 items)\n",
              "x: TextList\n",
              "xxbos xxup 58ym xxup doing xxup work xxup on a xxup car xxup when a xxup high xxup pressure xxup spring xxup opened xxup striking xxup knee xxup lac,xxbos 20 xxup yom xxup cut r xxup fa xxup on xxup sheet xxup metal xxup at xxup work xxup dx xxup fa xxup lac,xxbos 48 xxup yof xxup sus xxup head xxup trauma xxup after xxup an xxup elevator xxup door xxup hit xxup her xxup in xxup the xxup head xxup at xxup work,xxbos xxup 33yom xxup inj l 2 3 4 xxup fingers xxup at xxup work xxup when a xxup metal xxup wire xxup got xxup xxunk xxup xxunk xxup fingers xxup dx xxup lac xxup fingers x 3 1 5 xxup cm xxup each,xxbos xxup 19yom xxup with xxup concussion xxup skull xxup facial xxup fxs xxup multi xxup abras xxup to xxup face 2 2 xxup being xxup hit xxup with a xxup crow xxup bar xxup by xxup mistake xxup at xxup work xxup loc\n",
              "y: CategoryList\n",
              "62,60,64,64,62\n",
              "Path: .;\n",
              "\n",
              "Test: LabelList (75864 items)\n",
              "x: TextList\n",
              "xxbos 54 y o f xxup puncture xxup wound xxup of xxup fiinger xxup re xxup attaching a xxup cap xxup on xxup an xxup insulin xxup syring xxup she xxup had xxup just xxup used xxup on xxup her xxup home xxup care xxup patient,xxbos 22 xxup yom xxup contusion xxup to xxup lt xxup lower xxup leg s p xxup mvc xxup hit xxup by xxup car xxup guiding xxup in a xxup car xxup gas xxup pedal xxup got xxup stuck xxup pushing xxup him xxup against xxup door xxup work xxup yesterday xxup am,xxbos 20 xxup yom xxup pt xxup works xxup in a xxup quarry xxup was xxup attempting xxup to xxup dislodge a xxup large xxup rock xxup and xxup developed xxup chest xxup pains xxup dx xxup chest xxup wall xxup pain,xxbos 38 xxup yof xxup was xxup walking xxup at xxup work xxup twisted xxup her xxup lt xxup ankle xxup later xxup her xxup right xxup knee xxup dx xxup left xxup ankle xxup and xxup knee xxup sprain,xxbos 44 xxup yom c o xxup low xxup back xxup pain xxup after xxup lifting a xxup box xxup at xxup work xxup today xxup dx xxup left xxup sided xxup low xxup back xxup pain\n",
              "y: EmptyLabelList\n",
              ",,,,\n",
              "Path: ., model=SequentialRNN(\n",
              "  (0): MultiBatchEncoder(\n",
              "    (module): AWD_LSTM(\n",
              "      (encoder): Embedding(13032, 400, padding_idx=1)\n",
              "      (encoder_dp): EmbeddingDropout(\n",
              "        (emb): Embedding(13032, 400, padding_idx=1)\n",
              "      )\n",
              "      (rnns): ModuleList(\n",
              "        (0): WeightDropout(\n",
              "          (module): LSTM(400, 1152, batch_first=True)\n",
              "        )\n",
              "        (1): WeightDropout(\n",
              "          (module): LSTM(1152, 1152, batch_first=True)\n",
              "        )\n",
              "        (2): WeightDropout(\n",
              "          (module): LSTM(1152, 400, batch_first=True)\n",
              "        )\n",
              "      )\n",
              "      (input_dp): RNNDropout()\n",
              "      (hidden_dps): ModuleList(\n",
              "        (0): RNNDropout()\n",
              "        (1): RNNDropout()\n",
              "        (2): RNNDropout()\n",
              "      )\n",
              "    )\n",
              "  )\n",
              "  (1): PoolingLinearClassifier(\n",
              "    (layers): Sequential(\n",
              "      (0): BatchNorm1d(1200, eps=1e-05, momentum=0.1, affine=True, track_running_stats=True)\n",
              "      (1): Dropout(p=0.12, inplace=False)\n",
              "      (2): Linear(in_features=1200, out_features=50, bias=True)\n",
              "      (3): ReLU(inplace=True)\n",
              "      (4): BatchNorm1d(50, eps=1e-05, momentum=0.1, affine=True, track_running_stats=True)\n",
              "      (5): Dropout(p=0.1, inplace=False)\n",
              "      (6): Linear(in_features=50, out_features=48, bias=True)\n",
              "    )\n",
              "  )\n",
              "), opt_func=functools.partial(<class 'torch.optim.adam.Adam'>, betas=(0.9, 0.99)), loss_func=FlattenedLoss of CrossEntropyLoss(), metrics=[<function accuracy at 0x7efe98136f28>], true_wd=True, bn_wd=True, wd=0.01, train_bn=True, path=PosixPath('.'), model_dir='models', callback_fns=[functools.partial(<class 'fastai.basic_train.Recorder'>, add_time=True, silent=False)], callbacks=[...], layer_groups=[Sequential(\n",
              "  (0): Embedding(13032, 400, padding_idx=1)\n",
              "  (1): EmbeddingDropout(\n",
              "    (emb): Embedding(13032, 400, padding_idx=1)\n",
              "  )\n",
              "), Sequential(\n",
              "  (0): WeightDropout(\n",
              "    (module): LSTM(400, 1152, batch_first=True)\n",
              "  )\n",
              "  (1): RNNDropout()\n",
              "), Sequential(\n",
              "  (0): WeightDropout(\n",
              "    (module): LSTM(1152, 1152, batch_first=True)\n",
              "  )\n",
              "  (1): RNNDropout()\n",
              "), Sequential(\n",
              "  (0): WeightDropout(\n",
              "    (module): LSTM(1152, 400, batch_first=True)\n",
              "  )\n",
              "  (1): RNNDropout()\n",
              "), Sequential(\n",
              "  (0): PoolingLinearClassifier(\n",
              "    (layers): Sequential(\n",
              "      (0): BatchNorm1d(1200, eps=1e-05, momentum=0.1, affine=True, track_running_stats=True)\n",
              "      (1): Dropout(p=0.12, inplace=False)\n",
              "      (2): Linear(in_features=1200, out_features=50, bias=True)\n",
              "      (3): ReLU(inplace=True)\n",
              "      (4): BatchNorm1d(50, eps=1e-05, momentum=0.1, affine=True, track_running_stats=True)\n",
              "      (5): Dropout(p=0.1, inplace=False)\n",
              "      (6): Linear(in_features=50, out_features=48, bias=True)\n",
              "    )\n",
              "  )\n",
              ")], add_time=True, silent=False)\n",
              "alpha: 2.0\n",
              "beta: 1.0], layer_groups=[Sequential(\n",
              "  (0): Embedding(13032, 400, padding_idx=1)\n",
              "  (1): EmbeddingDropout(\n",
              "    (emb): Embedding(13032, 400, padding_idx=1)\n",
              "  )\n",
              "), Sequential(\n",
              "  (0): WeightDropout(\n",
              "    (module): LSTM(400, 1152, batch_first=True)\n",
              "  )\n",
              "  (1): RNNDropout()\n",
              "), Sequential(\n",
              "  (0): WeightDropout(\n",
              "    (module): LSTM(1152, 1152, batch_first=True)\n",
              "  )\n",
              "  (1): RNNDropout()\n",
              "), Sequential(\n",
              "  (0): WeightDropout(\n",
              "    (module): LSTM(1152, 400, batch_first=True)\n",
              "  )\n",
              "  (1): RNNDropout()\n",
              "), Sequential(\n",
              "  (0): PoolingLinearClassifier(\n",
              "    (layers): Sequential(\n",
              "      (0): BatchNorm1d(1200, eps=1e-05, momentum=0.1, affine=True, track_running_stats=True)\n",
              "      (1): Dropout(p=0.12, inplace=False)\n",
              "      (2): Linear(in_features=1200, out_features=50, bias=True)\n",
              "      (3): ReLU(inplace=True)\n",
              "      (4): BatchNorm1d(50, eps=1e-05, momentum=0.1, affine=True, track_running_stats=True)\n",
              "      (5): Dropout(p=0.1, inplace=False)\n",
              "      (6): Linear(in_features=50, out_features=48, bias=True)\n",
              "    )\n",
              "  )\n",
              ")], add_time=True, silent=False)"
            ]
          },
          "metadata": {
            "tags": []
          },
          "execution_count": 125
        }
      ]
    },
    {
      "cell_type": "code",
      "metadata": {
        "id": "RMQ3eSzF0lbm",
        "colab_type": "code",
        "colab": {}
      },
      "source": [
        "learn_c_fwd.unfreeze()"
      ],
      "execution_count": 0,
      "outputs": []
    },
    {
      "cell_type": "code",
      "metadata": {
        "id": "jZVn5SPj1lF9",
        "colab_type": "code",
        "colab": {
          "base_uri": "https://localhost:8080/",
          "height": 331
        },
        "outputId": "284bd519-421c-4454-ff49-ba305d5a30f2"
      },
      "source": [
        "learn_c_fwd.lr_find()\n",
        "learn_c_fwd.recorder.plot(suggestion=True)"
      ],
      "execution_count": 127,
      "outputs": [
        {
          "output_type": "display_data",
          "data": {
            "text/html": [
              ""
            ],
            "text/plain": [
              "<IPython.core.display.HTML object>"
            ]
          },
          "metadata": {
            "tags": []
          }
        },
        {
          "output_type": "stream",
          "text": [
            "LR Finder is complete, type {learner_name}.recorder.plot() to see the graph.\n",
            "Min numerical gradient: 6.31E-07\n",
            "Min loss divided by 10: 3.63E-06\n"
          ],
          "name": "stdout"
        },
        {
          "output_type": "display_data",
          "data": {
            "image/png": "[encoded data removed]",
            "text/plain": [
              "<Figure size 432x288 with 1 Axes>"
            ]
          },
          "metadata": {
            "tags": []
          }
        }
      ]
    },
    {
      "cell_type": "code",
      "metadata": {
        "id": "o0a-c_D_2Bec",
        "colab_type": "code",
        "colab": {
          "base_uri": "https://localhost:8080/",
          "height": 300
        },
        "outputId": "982951e0-666b-4500-ee09-d905a6d80c23"
      },
      "source": [
        "learn_c_fwd.fit_one_cycle(8, slice(9e-7, 2e-02), moms=(0.8,0.7))"
      ],
      "execution_count": 128,
      "outputs": [
        {
          "output_type": "display_data",
          "data": {
            "text/html": [
              "<table border=\"1\" class=\"dataframe\">\n",
              "  <thead>\n",
              "    <tr style=\"text-align: left;\">\n",
              "      <th>epoch</th>\n",
              "      <th>train_loss</th>\n",
              "      <th>valid_loss</th>\n",
              "      <th>accuracy</th>\n",
              "      <th>time</th>\n",
              "    </tr>\n",
              "  </thead>\n",
              "  <tbody>\n",
              "    <tr>\n",
              "      <td>0</td>\n",
              "      <td>0.616818</td>\n",
              "      <td>0.531400</td>\n",
              "      <td>0.836635</td>\n",
              "      <td>03:02</td>\n",
              "    </tr>\n",
              "    <tr>\n",
              "      <td>1</td>\n",
              "      <td>0.631257</td>\n",
              "      <td>0.506391</td>\n",
              "      <td>0.846833</td>\n",
              "      <td>02:59</td>\n",
              "    </tr>\n",
              "    <tr>\n",
              "      <td>2</td>\n",
              "      <td>0.513936</td>\n",
              "      <td>0.495868</td>\n",
              "      <td>0.853264</td>\n",
              "      <td>02:55</td>\n",
              "    </tr>\n",
              "    <tr>\n",
              "      <td>3</td>\n",
              "      <td>0.458003</td>\n",
              "      <td>0.448469</td>\n",
              "      <td>0.863397</td>\n",
              "      <td>02:54</td>\n",
              "    </tr>\n",
              "    <tr>\n",
              "      <td>4</td>\n",
              "      <td>0.432446</td>\n",
              "      <td>0.418057</td>\n",
              "      <td>0.871647</td>\n",
              "      <td>02:55</td>\n",
              "    </tr>\n",
              "    <tr>\n",
              "      <td>5</td>\n",
              "      <td>0.357527</td>\n",
              "      <td>0.421607</td>\n",
              "      <td>0.872426</td>\n",
              "      <td>03:01</td>\n",
              "    </tr>\n",
              "    <tr>\n",
              "      <td>6</td>\n",
              "      <td>0.321717</td>\n",
              "      <td>0.412734</td>\n",
              "      <td>0.875414</td>\n",
              "      <td>02:58</td>\n",
              "    </tr>\n",
              "    <tr>\n",
              "      <td>7</td>\n",
              "      <td>0.302479</td>\n",
              "      <td>0.414331</td>\n",
              "      <td>0.874959</td>\n",
              "      <td>02:57</td>\n",
              "    </tr>\n",
              "  </tbody>\n",
              "</table>"
            ],
            "text/plain": [
              "<IPython.core.display.HTML object>"
            ]
          },
          "metadata": {
            "tags": []
          }
        }
      ]
    },
    {
      "cell_type": "code",
      "metadata": {
        "id": "zmljmIKd2Nup",
        "colab_type": "code",
        "colab": {}
      },
      "source": [
        "learn_c_fwd.save('lrn_unf_fwd-8ep-again')"
      ],
      "execution_count": 0,
      "outputs": []
    },
    {
      "cell_type": "code",
      "metadata": {
        "id": "S8O1h83J5oJ7",
        "colab_type": "code",
        "colab": {
          "base_uri": "https://localhost:8080/",
          "height": 331
        },
        "outputId": "eb93f353-a02f-4b85-9ab2-d2d6ce0c838b"
      },
      "source": [
        "learn_c_fwd.lr_find()\n",
        "learn_c_fwd.recorder.plot(suggestion=True)"
      ],
      "execution_count": 73,
      "outputs": [
        {
          "output_type": "display_data",
          "data": {
            "text/html": [
              ""
            ],
            "text/plain": [
              "<IPython.core.display.HTML object>"
            ]
          },
          "metadata": {
            "tags": []
          }
        },
        {
          "output_type": "stream",
          "text": [
            "LR Finder is complete, type {learner_name}.recorder.plot() to see the graph.\n",
            "Min numerical gradient: 1.58E-06\n",
            "Min loss divided by 10: 2.51E-04\n"
          ],
          "name": "stdout"
        },
        {
          "output_type": "display_data",
          "data": {
            "image/png": "[encoded data removed]",
            "text/plain": [
              "<Figure size 432x288 with 1 Axes>"
            ]
          },
          "metadata": {
            "tags": []
          }
        }
      ]
    },
    {
      "cell_type": "code",
      "metadata": {
        "id": "hvvarfWS5poR",
        "colab_type": "code",
        "colab": {
          "base_uri": "https://localhost:8080/",
          "height": 206
        },
        "outputId": "1deaad04-7850-4174-c8fc-c7470a1b30ea"
      },
      "source": [
        "learn_c_fwd.fit_one_cycle(5, slice(9e-7, 2e-02), moms=(0.8,0.7))"
      ],
      "execution_count": 74,
      "outputs": [
        {
          "output_type": "display_data",
          "data": {
            "text/html": [
              "<table border=\"1\" class=\"dataframe\">\n",
              "  <thead>\n",
              "    <tr style=\"text-align: left;\">\n",
              "      <th>epoch</th>\n",
              "      <th>train_loss</th>\n",
              "      <th>valid_loss</th>\n",
              "      <th>accuracy</th>\n",
              "      <th>time</th>\n",
              "    </tr>\n",
              "  </thead>\n",
              "  <tbody>\n",
              "    <tr>\n",
              "      <td>0</td>\n",
              "      <td>0.428837</td>\n",
              "      <td>0.462288</td>\n",
              "      <td>0.859890</td>\n",
              "      <td>03:01</td>\n",
              "    </tr>\n",
              "    <tr>\n",
              "      <td>1</td>\n",
              "      <td>0.426949</td>\n",
              "      <td>0.464285</td>\n",
              "      <td>0.861838</td>\n",
              "      <td>02:49</td>\n",
              "    </tr>\n",
              "    <tr>\n",
              "      <td>2</td>\n",
              "      <td>0.398746</td>\n",
              "      <td>0.450045</td>\n",
              "      <td>0.862683</td>\n",
              "      <td>03:02</td>\n",
              "    </tr>\n",
              "    <tr>\n",
              "      <td>3</td>\n",
              "      <td>0.279826</td>\n",
              "      <td>0.445797</td>\n",
              "      <td>0.872491</td>\n",
              "      <td>03:03</td>\n",
              "    </tr>\n",
              "    <tr>\n",
              "      <td>4</td>\n",
              "      <td>0.253518</td>\n",
              "      <td>0.454282</td>\n",
              "      <td>0.871517</td>\n",
              "      <td>02:54</td>\n",
              "    </tr>\n",
              "  </tbody>\n",
              "</table>"
            ],
            "text/plain": [
              "<IPython.core.display.HTML object>"
            ]
          },
          "metadata": {
            "tags": []
          }
        }
      ]
    },
    {
      "cell_type": "code",
      "metadata": {
        "id": "T7kNqxD0578p",
        "colab_type": "code",
        "colab": {}
      },
      "source": [
        "learn_c_fwd.save('learn_unfr_fwd-10ep')"
      ],
      "execution_count": 0,
      "outputs": []
    },
    {
      "cell_type": "markdown",
      "metadata": {
        "id": "FSNuTe9wB2Fb",
        "colab_type": "text"
      },
      "source": [
        "# Testing"
      ]
    },
    {
      "cell_type": "code",
      "metadata": {
        "id": "-daYnre7-Y01",
        "colab_type": "code",
        "colab": {}
      },
      "source": [
        "data_clas_fwd.add_test(test_df['text'])"
      ],
      "execution_count": 0,
      "outputs": []
    },
    {
      "cell_type": "code",
      "metadata": {
        "id": "ECeDmKc5CkdL",
        "colab_type": "code",
        "colab": {
          "base_uri": "https://localhost:8080/",
          "height": 34
        },
        "outputId": "e71a9901-a637-41c1-82cb-b0f03f6c429d"
      },
      "source": [
        "DatasetType.Train.value"
      ],
      "execution_count": 78,
      "outputs": [
        {
          "output_type": "execute_result",
          "data": {
            "text/plain": [
              "1"
            ]
          },
          "metadata": {
            "tags": []
          },
          "execution_count": 78
        }
      ]
    },
    {
      "cell_type": "code",
      "metadata": {
        "id": "VnLYGxZcCLvr",
        "colab_type": "code",
        "colab": {}
      },
      "source": [
        "preds_fwd = learn_c_fwd.get_preds(DatasetType.Test)"
      ],
      "execution_count": 0,
      "outputs": []
    },
    {
      "cell_type": "code",
      "metadata": {
        "id": "qXZzgJ2VDNC2",
        "colab_type": "code",
        "colab": {}
      },
      "source": [
        "class_labels = np.argmax(preds_fwd[0], 1)"
      ],
      "execution_count": 0,
      "outputs": []
    },
    {
      "cell_type": "code",
      "metadata": {
        "id": "HglUg8XKDXh0",
        "colab_type": "code",
        "colab": {}
      },
      "source": [
        "predictions = [learn_c_fwd.data.classes[i] for i in class_labels]"
      ],
      "execution_count": 0,
      "outputs": []
    },
    {
      "cell_type": "code",
      "metadata": {
        "id": "CSOFe2s5Df-G",
        "colab_type": "code",
        "colab": {
          "base_uri": "https://localhost:8080/",
          "height": 34
        },
        "outputId": "e9963d66-9252-4ed7-f364-a0f06f825a23"
      },
      "source": [
        "len(predictions)"
      ],
      "execution_count": 133,
      "outputs": [
        {
          "output_type": "execute_result",
          "data": {
            "text/plain": [
              "75864"
            ]
          },
          "metadata": {
            "tags": []
          },
          "execution_count": 133
        }
      ]
    },
    {
      "cell_type": "code",
      "metadata": {
        "id": "kqqFmShVC7Um",
        "colab_type": "code",
        "colab": {
          "base_uri": "https://localhost:8080/",
          "height": 206
        },
        "outputId": "d996f055-acb7-4a96-faba-888d99a839d4"
      },
      "source": [
        "pred_df_fwd = pd.DataFrame({'event':predictions})\n",
        "pred_df_fwd.head()"
      ],
      "execution_count": 134,
      "outputs": [
        {
          "output_type": "execute_result",
          "data": {
            "text/html": [
              "<div>\n",
              "<style scoped>\n",
              "    .dataframe tbody tr th:only-of-type {\n",
              "        vertical-align: middle;\n",
              "    }\n",
              "\n",
              "    .dataframe tbody tr th {\n",
              "        vertical-align: top;\n",
              "    }\n",
              "\n",
              "    .dataframe thead th {\n",
              "        text-align: right;\n",
              "    }\n",
              "</style>\n",
              "<table border=\"1\" class=\"dataframe\">\n",
              "  <thead>\n",
              "    <tr style=\"text-align: right;\">\n",
              "      <th></th>\n",
              "      <th>event</th>\n",
              "    </tr>\n",
              "  </thead>\n",
              "  <tbody>\n",
              "    <tr>\n",
              "      <th>0</th>\n",
              "      <td>55</td>\n",
              "    </tr>\n",
              "    <tr>\n",
              "      <th>1</th>\n",
              "      <td>24</td>\n",
              "    </tr>\n",
              "    <tr>\n",
              "      <th>2</th>\n",
              "      <td>71</td>\n",
              "    </tr>\n",
              "    <tr>\n",
              "      <th>3</th>\n",
              "      <td>73</td>\n",
              "    </tr>\n",
              "    <tr>\n",
              "      <th>4</th>\n",
              "      <td>71</td>\n",
              "    </tr>\n",
              "  </tbody>\n",
              "</table>\n",
              "</div>"
            ],
            "text/plain": [
              "   event\n",
              "0  55   \n",
              "1  24   \n",
              "2  71   \n",
              "3  73   \n",
              "4  71   "
            ]
          },
          "metadata": {
            "tags": []
          },
          "execution_count": 134
        }
      ]
    },
    {
      "cell_type": "code",
      "metadata": {
        "id": "kH0tUMa1D_Sm",
        "colab_type": "code",
        "colab": {
          "base_uri": "https://localhost:8080/",
          "height": 424
        },
        "outputId": "ca0522b9-8b82-4c5a-8b55-7d7ea2d22de2"
      },
      "source": [
        "sub_df = pd.concat([test_df, pred_df_fwd], axis=1)\n",
        "sub_df"
      ],
      "execution_count": 135,
      "outputs": [
        {
          "output_type": "execute_result",
          "data": {
            "text/html": [
              "<div>\n",
              "<style scoped>\n",
              "    .dataframe tbody tr th:only-of-type {\n",
              "        vertical-align: middle;\n",
              "    }\n",
              "\n",
              "    .dataframe tbody tr th {\n",
              "        vertical-align: top;\n",
              "    }\n",
              "\n",
              "    .dataframe thead th {\n",
              "        text-align: right;\n",
              "    }\n",
              "</style>\n",
              "<table border=\"1\" class=\"dataframe\">\n",
              "  <thead>\n",
              "    <tr style=\"text-align: right;\">\n",
              "      <th></th>\n",
              "      <th>text</th>\n",
              "      <th>sex</th>\n",
              "      <th>age</th>\n",
              "      <th>event</th>\n",
              "    </tr>\n",
              "  </thead>\n",
              "  <tbody>\n",
              "    <tr>\n",
              "      <th>0</th>\n",
              "      <td>54 Y O F PUNCTURE WOUND OF FIINGER RE ATTACHING A CAP ON AN INSULIN SYRING SHE HAD JUST USED ON HER HOME CARE PATIENT</td>\n",
              "      <td>2</td>\n",
              "      <td>54</td>\n",
              "      <td>55</td>\n",
              "    </tr>\n",
              "    <tr>\n",
              "      <th>1</th>\n",
              "      <td>22 YOM CONTUSION TO LT LOWER LEG S P MVC HIT BY CAR GUIDING IN A CAR GAS PEDAL GOT STUCK PUSHING HIM AGAINST DOOR  WORK YESTERDAY AM</td>\n",
              "      <td>1</td>\n",
              "      <td>22</td>\n",
              "      <td>24</td>\n",
              "    </tr>\n",
              "    <tr>\n",
              "      <th>2</th>\n",
              "      <td>20 YOM PT WORKS IN A QUARRY  WAS ATTEMPTING TO DISLODGE A LARGE ROCK AND DEVELOPED CHEST PAINS  DX CHEST WALL PAIN</td>\n",
              "      <td>1</td>\n",
              "      <td>20</td>\n",
              "      <td>71</td>\n",
              "    </tr>\n",
              "    <tr>\n",
              "      <th>3</th>\n",
              "      <td>38 YOF WAS WALKING AT WORK TWISTED HER LT ANKLE  LATER HER RIGHT KNEE DX LEFT ANKLE AND KNEE SPRAIN</td>\n",
              "      <td>2</td>\n",
              "      <td>38</td>\n",
              "      <td>73</td>\n",
              "    </tr>\n",
              "    <tr>\n",
              "      <th>4</th>\n",
              "      <td>44 YOM C O LOW BACK PAIN AFTER LIFTING A BOX AT WORK TODAY DX LEFT SIDED LOW BACK PAIN</td>\n",
              "      <td>1</td>\n",
              "      <td>44</td>\n",
              "      <td>71</td>\n",
              "    </tr>\n",
              "    <tr>\n",
              "      <th>...</th>\n",
              "      <td>...</td>\n",
              "      <td>...</td>\n",
              "      <td>...</td>\n",
              "      <td>...</td>\n",
              "    </tr>\n",
              "    <tr>\n",
              "      <th>75859</th>\n",
              "      <td>49YOM COACHING FOOTBALL WHEN COLLIDED WITH PLAYER PAIN RT LEG DIFF BREATHING DX FX 1 RIB LEFT SIDE CLD FX SPRAIN RT ANKLE</td>\n",
              "      <td>1</td>\n",
              "      <td>49</td>\n",
              "      <td>12</td>\n",
              "    </tr>\n",
              "    <tr>\n",
              "      <th>75860</th>\n",
              "      <td>33 YO MALE WAS USING WIRE BRUSH AT WORK WHEN PIECE OF IT GOT IN HIS EYE DX FOREIGN BODY IN EYE</td>\n",
              "      <td>1</td>\n",
              "      <td>33</td>\n",
              "      <td>66</td>\n",
              "    </tr>\n",
              "    <tr>\n",
              "      <th>75861</th>\n",
              "      <td>36YOM LIFTING AT WORK BACK PX DX THORACIC STRAIN</td>\n",
              "      <td>1</td>\n",
              "      <td>36</td>\n",
              "      <td>71</td>\n",
              "    </tr>\n",
              "    <tr>\n",
              "      <th>75862</th>\n",
              "      <td>24 YO F PT WAS AT WORK WHEN SHE POKED LT THUMB WTH A NEEDLE AFTER DRAWING BLOOD ON A PATIENT DX PUNCTURE WOUND LT THUMB</td>\n",
              "      <td>2</td>\n",
              "      <td>24</td>\n",
              "      <td>55</td>\n",
              "    </tr>\n",
              "    <tr>\n",
              "      <th>75863</th>\n",
              "      <td>42 YO M PICKING UP A CAR HURT BACK AT WORK DX LOW BACK PAIN</td>\n",
              "      <td>1</td>\n",
              "      <td>42</td>\n",
              "      <td>71</td>\n",
              "    </tr>\n",
              "  </tbody>\n",
              "</table>\n",
              "<p>75864 rows × 4 columns</p>\n",
              "</div>"
            ],
            "text/plain": [
              "                                                                                                                                       text  ...  event\n",
              "0      54 Y O F PUNCTURE WOUND OF FIINGER RE ATTACHING A CAP ON AN INSULIN SYRING SHE HAD JUST USED ON HER HOME CARE PATIENT                 ...  55   \n",
              "1      22 YOM CONTUSION TO LT LOWER LEG S P MVC HIT BY CAR GUIDING IN A CAR GAS PEDAL GOT STUCK PUSHING HIM AGAINST DOOR  WORK YESTERDAY AM  ...  24   \n",
              "2      20 YOM PT WORKS IN A QUARRY  WAS ATTEMPTING TO DISLODGE A LARGE ROCK AND DEVELOPED CHEST PAINS  DX CHEST WALL PAIN                    ...  71   \n",
              "3      38 YOF WAS WALKING AT WORK TWISTED HER LT ANKLE  LATER HER RIGHT KNEE DX LEFT ANKLE AND KNEE SPRAIN                                   ...  73   \n",
              "4      44 YOM C O LOW BACK PAIN AFTER LIFTING A BOX AT WORK TODAY DX LEFT SIDED LOW BACK PAIN                                                ...  71   \n",
              "...                                                                                       ...                                                ...  ..   \n",
              "75859  49YOM COACHING FOOTBALL WHEN COLLIDED WITH PLAYER PAIN RT LEG DIFF BREATHING DX FX 1 RIB LEFT SIDE CLD FX SPRAIN RT ANKLE             ...  12   \n",
              "75860  33 YO MALE WAS USING WIRE BRUSH AT WORK WHEN PIECE OF IT GOT IN HIS EYE DX FOREIGN BODY IN EYE                                        ...  66   \n",
              "75861  36YOM LIFTING AT WORK BACK PX DX THORACIC STRAIN                                                                                      ...  71   \n",
              "75862  24 YO F PT WAS AT WORK WHEN SHE POKED LT THUMB WTH A NEEDLE AFTER DRAWING BLOOD ON A PATIENT DX PUNCTURE WOUND LT THUMB               ...  55   \n",
              "75863  42 YO M PICKING UP A CAR HURT BACK AT WORK DX LOW BACK PAIN                                                                           ...  71   \n",
              "\n",
              "[75864 rows x 4 columns]"
            ]
          },
          "metadata": {
            "tags": []
          },
          "execution_count": 135
        }
      ]
    },
    {
      "cell_type": "code",
      "metadata": {
        "id": "hDyzAwjrEOtJ",
        "colab_type": "code",
        "colab": {}
      },
      "source": [
        "sub_df.to_csv('./models/solution_3_fwd.csv', index=False)"
      ],
      "execution_count": 0,
      "outputs": []
    },
    {
      "cell_type": "code",
      "metadata": {
        "id": "1j4k-1hIEef5",
        "colab_type": "code",
        "colab": {}
      },
      "source": [
        ""
      ],
      "execution_count": 0,
      "outputs": []
    },
    {
      "cell_type": "markdown",
      "metadata": {
        "id": "ZaY6_CBTeY-w",
        "colab_type": "text"
      },
      "source": [
        "# Backwards Language Model"
      ]
    },
    {
      "cell_type": "code",
      "metadata": {
        "id": "KwnlB7xiglZJ",
        "colab_type": "code",
        "colab": {}
      },
      "source": [
        "df_lm = pd.read_csv('./lm_csv.csv')\n",
        "df_lm.drop(['Unnamed: 0'], inplace=True, axis=1)"
      ],
      "execution_count": 0,
      "outputs": []
    },
    {
      "cell_type": "code",
      "metadata": {
        "id": "i0n1nYG-gtIH",
        "colab_type": "code",
        "colab": {}
      },
      "source": [
        ""
      ],
      "execution_count": 0,
      "outputs": []
    },
    {
      "cell_type": "code",
      "metadata": {
        "id": "hGoPKoNKg3PQ",
        "colab_type": "code",
        "colab": {
          "base_uri": "https://localhost:8080/",
          "height": 206
        },
        "outputId": "9a567da1-a8d0-468a-d173-760ae8f28f2a"
      },
      "source": [
        "df_lm.head()"
      ],
      "execution_count": 14,
      "outputs": [
        {
          "output_type": "execute_result",
          "data": {
            "text/html": [
              "<div>\n",
              "<style scoped>\n",
              "    .dataframe tbody tr th:only-of-type {\n",
              "        vertical-align: middle;\n",
              "    }\n",
              "\n",
              "    .dataframe tbody tr th {\n",
              "        vertical-align: top;\n",
              "    }\n",
              "\n",
              "    .dataframe thead th {\n",
              "        text-align: right;\n",
              "    }\n",
              "</style>\n",
              "<table border=\"1\" class=\"dataframe\">\n",
              "  <thead>\n",
              "    <tr style=\"text-align: right;\">\n",
              "      <th></th>\n",
              "      <th>text</th>\n",
              "    </tr>\n",
              "  </thead>\n",
              "  <tbody>\n",
              "    <tr>\n",
              "      <th>0</th>\n",
              "      <td>57YOM WITH CONTUSION TO FACE AFTER STRIKING IT WITH A POST POUNDER WHILE SETTING A FENCE POST</td>\n",
              "    </tr>\n",
              "    <tr>\n",
              "      <th>1</th>\n",
              "      <td>A 45YOM FELL ON ARM WHILE WORKING HAD SLIPPED ON WATER FX WRIST</td>\n",
              "    </tr>\n",
              "    <tr>\n",
              "      <th>2</th>\n",
              "      <td>58YOM WITH CERVICAL STRAIN  BACK PAIN S P RESTRAINED TAXI DRIVER IN LOW SPEED REAR END MVC NO LOC NO AB DEPLOYED</td>\n",
              "    </tr>\n",
              "    <tr>\n",
              "      <th>3</th>\n",
              "      <td>33 YOM LAC TO HAND FROM A RAZOR KNIFE</td>\n",
              "    </tr>\n",
              "    <tr>\n",
              "      <th>4</th>\n",
              "      <td>53YOM AT WORK IN A WAREHOUSE DOING UNSPECIFIED LIFTING AND STRAINED LO WER BACK</td>\n",
              "    </tr>\n",
              "  </tbody>\n",
              "</table>\n",
              "</div>"
            ],
            "text/plain": [
              "                                                                                                               text\n",
              "0  57YOM WITH CONTUSION TO FACE AFTER STRIKING IT WITH A POST POUNDER WHILE SETTING A FENCE POST                   \n",
              "1  A 45YOM FELL ON ARM WHILE WORKING HAD SLIPPED ON WATER FX WRIST                                                 \n",
              "2  58YOM WITH CERVICAL STRAIN  BACK PAIN S P RESTRAINED TAXI DRIVER IN LOW SPEED REAR END MVC NO LOC NO AB DEPLOYED\n",
              "3  33 YOM LAC TO HAND FROM A RAZOR KNIFE                                                                           \n",
              "4  53YOM AT WORK IN A WAREHOUSE DOING UNSPECIFIED LIFTING AND STRAINED LO WER BACK                                 "
            ]
          },
          "metadata": {
            "tags": []
          },
          "execution_count": 14
        }
      ]
    },
    {
      "cell_type": "code",
      "metadata": {
        "id": "ng2KztuyhMpt",
        "colab_type": "code",
        "colab": {}
      },
      "source": [
        "path = Path('./')"
      ],
      "execution_count": 0,
      "outputs": []
    },
    {
      "cell_type": "code",
      "metadata": {
        "id": "27I0scqjecTi",
        "colab_type": "code",
        "colab": {}
      },
      "source": [
        "data_lm_bwd = TextList.from_df(df_lm, path=path).split_by_rand_pct(0.1, seed=42).label_for_lm().databunch(bs=48, backwards=True)"
      ],
      "execution_count": 0,
      "outputs": []
    },
    {
      "cell_type": "code",
      "metadata": {
        "id": "2nsu95wshZVy",
        "colab_type": "code",
        "colab": {}
      },
      "source": [
        "learn_bwd = language_model_learner(data_lm_bwd, AWD_LSTM, drop_mult=0.3)"
      ],
      "execution_count": 0,
      "outputs": []
    },
    {
      "cell_type": "code",
      "metadata": {
        "id": "O5g96QsChy0j",
        "colab_type": "code",
        "colab": {}
      },
      "source": [
        "! mkdir models"
      ],
      "execution_count": 0,
      "outputs": []
    },
    {
      "cell_type": "code",
      "metadata": {
        "id": "HOemLdTnhuTD",
        "colab_type": "code",
        "colab": {}
      },
      "source": [
        "learn_bwd.model_dir = './models'"
      ],
      "execution_count": 0,
      "outputs": []
    },
    {
      "cell_type": "code",
      "metadata": {
        "id": "tG_eNecthsIW",
        "colab_type": "code",
        "colab": {
          "base_uri": "https://localhost:8080/",
          "height": 331
        },
        "outputId": "21a04ad4-530e-4b53-b3e0-cf8a244b9751"
      },
      "source": [
        "learn_bwd.lr_find()\n",
        "learn_bwd.recorder.plot(suggestion=True)"
      ],
      "execution_count": 21,
      "outputs": [
        {
          "output_type": "display_data",
          "data": {
            "text/html": [
              ""
            ],
            "text/plain": [
              "<IPython.core.display.HTML object>"
            ]
          },
          "metadata": {
            "tags": []
          }
        },
        {
          "output_type": "stream",
          "text": [
            "LR Finder is complete, type {learner_name}.recorder.plot() to see the graph.\n",
            "Min numerical gradient: 1.58E-02\n",
            "Min loss divided by 10: 1.10E-01\n"
          ],
          "name": "stdout"
        },
        {
          "output_type": "display_data",
          "data": {
            "image/png": "[encoded data removed]",
            "text/plain": [
              "<Figure size 432x288 with 1 Axes>"
            ]
          },
          "metadata": {
            "tags": []
          }
        }
      ]
    },
    {
      "cell_type": "code",
      "metadata": {
        "id": "B_tnbksFh7yS",
        "colab_type": "code",
        "colab": {
          "base_uri": "https://localhost:8080/",
          "height": 363
        },
        "outputId": "e90802a8-30da-4659-a447-19606383e32d"
      },
      "source": [
        "learn_bwd.fit_one_cycle(10, 7e-2, moms=(0.8,0.7))"
      ],
      "execution_count": 29,
      "outputs": [
        {
          "output_type": "display_data",
          "data": {
            "text/html": [
              "<table border=\"1\" class=\"dataframe\">\n",
              "  <thead>\n",
              "    <tr style=\"text-align: left;\">\n",
              "      <th>epoch</th>\n",
              "      <th>train_loss</th>\n",
              "      <th>valid_loss</th>\n",
              "      <th>accuracy</th>\n",
              "      <th>time</th>\n",
              "    </tr>\n",
              "  </thead>\n",
              "  <tbody>\n",
              "    <tr>\n",
              "      <td>0</td>\n",
              "      <td>1.983491</td>\n",
              "      <td>1.903103</td>\n",
              "      <td>0.650138</td>\n",
              "      <td>03:23</td>\n",
              "    </tr>\n",
              "    <tr>\n",
              "      <td>1</td>\n",
              "      <td>2.118572</td>\n",
              "      <td>2.002623</td>\n",
              "      <td>0.642974</td>\n",
              "      <td>03:23</td>\n",
              "    </tr>\n",
              "    <tr>\n",
              "      <td>2</td>\n",
              "      <td>2.191109</td>\n",
              "      <td>2.037693</td>\n",
              "      <td>0.639324</td>\n",
              "      <td>03:23</td>\n",
              "    </tr>\n",
              "    <tr>\n",
              "      <td>3</td>\n",
              "      <td>2.187355</td>\n",
              "      <td>2.024493</td>\n",
              "      <td>0.641470</td>\n",
              "      <td>03:22</td>\n",
              "    </tr>\n",
              "    <tr>\n",
              "      <td>4</td>\n",
              "      <td>2.119070</td>\n",
              "      <td>1.974500</td>\n",
              "      <td>0.643872</td>\n",
              "      <td>03:23</td>\n",
              "    </tr>\n",
              "    <tr>\n",
              "      <td>5</td>\n",
              "      <td>2.045282</td>\n",
              "      <td>1.924555</td>\n",
              "      <td>0.648838</td>\n",
              "      <td>03:23</td>\n",
              "    </tr>\n",
              "    <tr>\n",
              "      <td>6</td>\n",
              "      <td>1.968151</td>\n",
              "      <td>1.867452</td>\n",
              "      <td>0.653809</td>\n",
              "      <td>03:23</td>\n",
              "    </tr>\n",
              "    <tr>\n",
              "      <td>7</td>\n",
              "      <td>1.897672</td>\n",
              "      <td>1.808767</td>\n",
              "      <td>0.660325</td>\n",
              "      <td>03:23</td>\n",
              "    </tr>\n",
              "    <tr>\n",
              "      <td>8</td>\n",
              "      <td>1.832332</td>\n",
              "      <td>1.766834</td>\n",
              "      <td>0.664566</td>\n",
              "      <td>03:23</td>\n",
              "    </tr>\n",
              "    <tr>\n",
              "      <td>9</td>\n",
              "      <td>1.792102</td>\n",
              "      <td>1.757152</td>\n",
              "      <td>0.665681</td>\n",
              "      <td>03:23</td>\n",
              "    </tr>\n",
              "  </tbody>\n",
              "</table>"
            ],
            "text/plain": [
              "<IPython.core.display.HTML object>"
            ]
          },
          "metadata": {
            "tags": []
          }
        }
      ]
    },
    {
      "cell_type": "code",
      "metadata": {
        "id": "VoOFvCy0pPda",
        "colab_type": "code",
        "colab": {}
      },
      "source": [
        "learn_bwd.save('lm_bwd_head')"
      ],
      "execution_count": 0,
      "outputs": []
    },
    {
      "cell_type": "code",
      "metadata": {
        "id": "LhpNS0t5iuwu",
        "colab_type": "code",
        "colab": {
          "base_uri": "https://localhost:8080/",
          "height": 279
        },
        "outputId": "72c1c2f5-491d-4748-f872-7afb3c76ae9d"
      },
      "source": [
        "learn_bwd.recorder.plot_losses()"
      ],
      "execution_count": 31,
      "outputs": [
        {
          "output_type": "display_data",
          "data": {
            "image/png": "[encoded data removed]",
            "text/plain": [
              "<Figure size 432x288 with 1 Axes>"
            ]
          },
          "metadata": {
            "tags": []
          }
        }
      ]
    },
    {
      "cell_type": "code",
      "metadata": {
        "id": "jjoE33Zpiuk4",
        "colab_type": "code",
        "colab": {
          "base_uri": "https://localhost:8080/",
          "height": 279
        },
        "outputId": "88af76a1-9158-49c0-c3a9-bfa480347d30"
      },
      "source": [
        "learn_bwd.recorder.plot_lr()"
      ],
      "execution_count": 32,
      "outputs": [
        {
          "output_type": "display_data",
          "data": {
            "image/png": "[encoded data removed]",
            "text/plain": [
              "<Figure size 432x288 with 1 Axes>"
            ]
          },
          "metadata": {
            "tags": []
          }
        }
      ]
    },
    {
      "cell_type": "code",
      "metadata": {
        "id": "QbvbXkJDiuhh",
        "colab_type": "code",
        "colab": {}
      },
      "source": [
        "learn_bwd.unfreeze()"
      ],
      "execution_count": 0,
      "outputs": []
    },
    {
      "cell_type": "code",
      "metadata": {
        "id": "hX9-b0YJiude",
        "colab_type": "code",
        "colab": {
          "base_uri": "https://localhost:8080/",
          "height": 331
        },
        "outputId": "938fec12-833e-4a80-d3a1-50d380355b74"
      },
      "source": [
        "learn_bwd.lr_find()\n",
        "learn_bwd.recorder.plot(suggestion=True)"
      ],
      "execution_count": 34,
      "outputs": [
        {
          "output_type": "display_data",
          "data": {
            "text/html": [
              ""
            ],
            "text/plain": [
              "<IPython.core.display.HTML object>"
            ]
          },
          "metadata": {
            "tags": []
          }
        },
        {
          "output_type": "stream",
          "text": [
            "LR Finder is complete, type {learner_name}.recorder.plot() to see the graph.\n",
            "Min numerical gradient: 1.45E-05\n",
            "Min loss divided by 10: 1.10E-07\n"
          ],
          "name": "stdout"
        },
        {
          "output_type": "display_data",
          "data": {
            "image/png": "[encoded data removed]",
            "text/plain": [
              "<Figure size 432x288 with 1 Axes>"
            ]
          },
          "metadata": {
            "tags": []
          }
        }
      ]
    },
    {
      "cell_type": "code",
      "metadata": {
        "id": "NUbPUQa2iuX_",
        "colab_type": "code",
        "colab": {
          "base_uri": "https://localhost:8080/",
          "height": 206
        },
        "outputId": "ba86e55a-f685-423f-8a9b-7f8b183c3080"
      },
      "source": [
        "learn_bwd.fit_one_cycle(5, slice(1e-06, 7e-3), moms=(0.8,0.7))"
      ],
      "execution_count": 35,
      "outputs": [
        {
          "output_type": "display_data",
          "data": {
            "text/html": [
              "<table border=\"1\" class=\"dataframe\">\n",
              "  <thead>\n",
              "    <tr style=\"text-align: left;\">\n",
              "      <th>epoch</th>\n",
              "      <th>train_loss</th>\n",
              "      <th>valid_loss</th>\n",
              "      <th>accuracy</th>\n",
              "      <th>time</th>\n",
              "    </tr>\n",
              "  </thead>\n",
              "  <tbody>\n",
              "    <tr>\n",
              "      <td>0</td>\n",
              "      <td>1.759124</td>\n",
              "      <td>1.723677</td>\n",
              "      <td>0.668205</td>\n",
              "      <td>04:11</td>\n",
              "    </tr>\n",
              "    <tr>\n",
              "      <td>1</td>\n",
              "      <td>1.704841</td>\n",
              "      <td>1.682640</td>\n",
              "      <td>0.673537</td>\n",
              "      <td>04:14</td>\n",
              "    </tr>\n",
              "    <tr>\n",
              "      <td>2</td>\n",
              "      <td>1.662943</td>\n",
              "      <td>1.649143</td>\n",
              "      <td>0.677984</td>\n",
              "      <td>04:13</td>\n",
              "    </tr>\n",
              "    <tr>\n",
              "      <td>3</td>\n",
              "      <td>1.626690</td>\n",
              "      <td>1.629588</td>\n",
              "      <td>0.680680</td>\n",
              "      <td>04:13</td>\n",
              "    </tr>\n",
              "    <tr>\n",
              "      <td>4</td>\n",
              "      <td>1.597539</td>\n",
              "      <td>1.625727</td>\n",
              "      <td>0.681504</td>\n",
              "      <td>04:13</td>\n",
              "    </tr>\n",
              "  </tbody>\n",
              "</table>"
            ],
            "text/plain": [
              "<IPython.core.display.HTML object>"
            ]
          },
          "metadata": {
            "tags": []
          }
        }
      ]
    },
    {
      "cell_type": "code",
      "metadata": {
        "id": "7kFcXRaF4Fih",
        "colab_type": "code",
        "colab": {}
      },
      "source": [
        "learn_bwd.save('lm-bwd-finetuned')"
      ],
      "execution_count": 0,
      "outputs": []
    },
    {
      "cell_type": "code",
      "metadata": {
        "id": "MnPioU9y4Vc0",
        "colab_type": "code",
        "colab": {}
      },
      "source": [
        "learn_bwd.save_encoder('lm-bwd-enc')"
      ],
      "execution_count": 0,
      "outputs": []
    },
    {
      "cell_type": "markdown",
      "metadata": {
        "id": "gRygETyUqR9C",
        "colab_type": "text"
      },
      "source": [
        "# Classifier"
      ]
    },
    {
      "cell_type": "code",
      "metadata": {
        "id": "RMJap8FciuOX",
        "colab_type": "code",
        "colab": {}
      },
      "source": [
        "data_clas_bwd = (TextList.from_df(train_df, path, cols='text', vocab=data_lm_bwd.vocab)\n",
        "             #grab all the text files in path\n",
        "             .split_by_rand_pct(0.10, seed=42)\n",
        "             #split by train and valid folder (that only keeps 'train' and 'test' so no need to filter)\n",
        "             .label_from_df(cols='event')\n",
        "             #label them all with their folders\n",
        "             .databunch(bs=48, num_workers=1, backwards=True))"
      ],
      "execution_count": 0,
      "outputs": []
    },
    {
      "cell_type": "code",
      "metadata": {
        "id": "iULe5_oEit-G",
        "colab_type": "code",
        "colab": {}
      },
      "source": [
        "learn_c_bwd = text_classifier_learner(data_clas_bwd, AWD_LSTM, drop_mult=0.3) #.to_fp16()\n",
        "learn_c_bwd.load_encoder('lm-bwd-enc')\n",
        "learn_c_bwd.freeze()"
      ],
      "execution_count": 0,
      "outputs": []
    },
    {
      "cell_type": "code",
      "metadata": {
        "id": "PIeIitIf4lWk",
        "colab_type": "code",
        "colab": {}
      },
      "source": [
        "learn_c_bwd.model_dir = './models/'"
      ],
      "execution_count": 0,
      "outputs": []
    },
    {
      "cell_type": "code",
      "metadata": {
        "id": "P0SgQDyL4tEH",
        "colab_type": "code",
        "colab": {
          "base_uri": "https://localhost:8080/",
          "height": 331
        },
        "outputId": "f157ec9d-4610-4fea-c1b2-86f93b24849d"
      },
      "source": [
        "learn_c_bwd.lr_find()\n",
        "learn_c_bwd.recorder.plot(suggestion=True)"
      ],
      "execution_count": 42,
      "outputs": [
        {
          "output_type": "display_data",
          "data": {
            "text/html": [
              ""
            ],
            "text/plain": [
              "<IPython.core.display.HTML object>"
            ]
          },
          "metadata": {
            "tags": []
          }
        },
        {
          "output_type": "stream",
          "text": [
            "LR Finder is complete, type {learner_name}.recorder.plot() to see the graph.\n",
            "Min numerical gradient: 1.58E-02\n",
            "Min loss divided by 10: 6.31E-02\n"
          ],
          "name": "stdout"
        },
        {
          "output_type": "display_data",
          "data": {
            "image/png": "[encoded data removed]",
            "text/plain": [
              "<Figure size 432x288 with 1 Axes>"
            ]
          },
          "metadata": {
            "tags": []
          }
        }
      ]
    },
    {
      "cell_type": "code",
      "metadata": {
        "id": "Owp7MDyw4xia",
        "colab_type": "code",
        "colab": {
          "base_uri": "https://localhost:8080/",
          "height": 363
        },
        "outputId": "bb5d341b-7ff6-41e0-db20-0ec2de5fa0db"
      },
      "source": [
        "learn_c_bwd.fit_one_cycle(10, 7e-2, moms=(0.8,0.7))"
      ],
      "execution_count": 44,
      "outputs": [
        {
          "output_type": "display_data",
          "data": {
            "text/html": [
              "<table border=\"1\" class=\"dataframe\">\n",
              "  <thead>\n",
              "    <tr style=\"text-align: left;\">\n",
              "      <th>epoch</th>\n",
              "      <th>train_loss</th>\n",
              "      <th>valid_loss</th>\n",
              "      <th>accuracy</th>\n",
              "      <th>time</th>\n",
              "    </tr>\n",
              "  </thead>\n",
              "  <tbody>\n",
              "    <tr>\n",
              "      <td>0</td>\n",
              "      <td>1.365320</td>\n",
              "      <td>1.020456</td>\n",
              "      <td>0.684378</td>\n",
              "      <td>01:10</td>\n",
              "    </tr>\n",
              "    <tr>\n",
              "      <td>1</td>\n",
              "      <td>1.496263</td>\n",
              "      <td>1.027050</td>\n",
              "      <td>0.683534</td>\n",
              "      <td>01:09</td>\n",
              "    </tr>\n",
              "    <tr>\n",
              "      <td>2</td>\n",
              "      <td>1.475682</td>\n",
              "      <td>1.179648</td>\n",
              "      <td>0.636505</td>\n",
              "      <td>01:12</td>\n",
              "    </tr>\n",
              "    <tr>\n",
              "      <td>3</td>\n",
              "      <td>1.568829</td>\n",
              "      <td>1.085163</td>\n",
              "      <td>0.668724</td>\n",
              "      <td>01:09</td>\n",
              "    </tr>\n",
              "    <tr>\n",
              "      <td>4</td>\n",
              "      <td>1.504902</td>\n",
              "      <td>1.070599</td>\n",
              "      <td>0.663007</td>\n",
              "      <td>01:11</td>\n",
              "    </tr>\n",
              "    <tr>\n",
              "      <td>5</td>\n",
              "      <td>1.372552</td>\n",
              "      <td>0.982523</td>\n",
              "      <td>0.693472</td>\n",
              "      <td>01:08</td>\n",
              "    </tr>\n",
              "    <tr>\n",
              "      <td>6</td>\n",
              "      <td>1.356341</td>\n",
              "      <td>0.915525</td>\n",
              "      <td>0.715557</td>\n",
              "      <td>01:10</td>\n",
              "    </tr>\n",
              "    <tr>\n",
              "      <td>7</td>\n",
              "      <td>1.272299</td>\n",
              "      <td>0.843687</td>\n",
              "      <td>0.734784</td>\n",
              "      <td>01:09</td>\n",
              "    </tr>\n",
              "    <tr>\n",
              "      <td>8</td>\n",
              "      <td>1.159901</td>\n",
              "      <td>0.810428</td>\n",
              "      <td>0.743748</td>\n",
              "      <td>01:13</td>\n",
              "    </tr>\n",
              "    <tr>\n",
              "      <td>9</td>\n",
              "      <td>1.196788</td>\n",
              "      <td>0.787977</td>\n",
              "      <td>0.752777</td>\n",
              "      <td>01:09</td>\n",
              "    </tr>\n",
              "  </tbody>\n",
              "</table>"
            ],
            "text/plain": [
              "<IPython.core.display.HTML object>"
            ]
          },
          "metadata": {
            "tags": []
          }
        }
      ]
    },
    {
      "cell_type": "code",
      "metadata": {
        "id": "b0j1z1WI470N",
        "colab_type": "code",
        "colab": {}
      },
      "source": [
        "learn_c_bwd.save('classifier-bwd-head')"
      ],
      "execution_count": 0,
      "outputs": []
    },
    {
      "cell_type": "code",
      "metadata": {
        "id": "nn0bdYGl_AWF",
        "colab_type": "code",
        "colab": {}
      },
      "source": [
        "learn_c_bwd.unfreeze()"
      ],
      "execution_count": 0,
      "outputs": []
    },
    {
      "cell_type": "code",
      "metadata": {
        "id": "c1SXZR2l_LbP",
        "colab_type": "code",
        "colab": {
          "base_uri": "https://localhost:8080/",
          "height": 331
        },
        "outputId": "31344721-d280-4d3e-f558-6ad71e9515b7"
      },
      "source": [
        "learn_c_bwd.lr_find()\n",
        "learn_c_bwd.recorder.plot(suggestion=True)"
      ],
      "execution_count": 47,
      "outputs": [
        {
          "output_type": "display_data",
          "data": {
            "text/html": [
              ""
            ],
            "text/plain": [
              "<IPython.core.display.HTML object>"
            ]
          },
          "metadata": {
            "tags": []
          }
        },
        {
          "output_type": "stream",
          "text": [
            "LR Finder is complete, type {learner_name}.recorder.plot() to see the graph.\n",
            "Min numerical gradient: 1.20E-05\n",
            "Min loss divided by 10: 1.20E-04\n"
          ],
          "name": "stdout"
        },
        {
          "output_type": "display_data",
          "data": {
            "image/png": "[encoded data removed]",
            "text/plain": [
              "<Figure size 432x288 with 1 Axes>"
            ]
          },
          "metadata": {
            "tags": []
          }
        }
      ]
    },
    {
      "cell_type": "code",
      "metadata": {
        "id": "_IR_qM4B_fLs",
        "colab_type": "code",
        "colab": {
          "base_uri": "https://localhost:8080/",
          "height": 269
        },
        "outputId": "b71afd05-82f3-4dea-dffb-2e17f39e225f"
      },
      "source": [
        "learn_c_bwd.fit_one_cycle(7, slice(1e-05, 7e-3), moms=(0.8,0.7))"
      ],
      "execution_count": 51,
      "outputs": [
        {
          "output_type": "display_data",
          "data": {
            "text/html": [
              "<table border=\"1\" class=\"dataframe\">\n",
              "  <thead>\n",
              "    <tr style=\"text-align: left;\">\n",
              "      <th>epoch</th>\n",
              "      <th>train_loss</th>\n",
              "      <th>valid_loss</th>\n",
              "      <th>accuracy</th>\n",
              "      <th>time</th>\n",
              "    </tr>\n",
              "  </thead>\n",
              "  <tbody>\n",
              "    <tr>\n",
              "      <td>0</td>\n",
              "      <td>0.667476</td>\n",
              "      <td>0.521421</td>\n",
              "      <td>0.836765</td>\n",
              "      <td>03:02</td>\n",
              "    </tr>\n",
              "    <tr>\n",
              "      <td>1</td>\n",
              "      <td>0.557792</td>\n",
              "      <td>0.457474</td>\n",
              "      <td>0.856317</td>\n",
              "      <td>02:44</td>\n",
              "    </tr>\n",
              "    <tr>\n",
              "      <td>2</td>\n",
              "      <td>0.528810</td>\n",
              "      <td>0.445262</td>\n",
              "      <td>0.862098</td>\n",
              "      <td>02:56</td>\n",
              "    </tr>\n",
              "    <tr>\n",
              "      <td>3</td>\n",
              "      <td>0.420384</td>\n",
              "      <td>0.411115</td>\n",
              "      <td>0.872101</td>\n",
              "      <td>02:48</td>\n",
              "    </tr>\n",
              "    <tr>\n",
              "      <td>4</td>\n",
              "      <td>0.355985</td>\n",
              "      <td>0.404457</td>\n",
              "      <td>0.873920</td>\n",
              "      <td>02:52</td>\n",
              "    </tr>\n",
              "    <tr>\n",
              "      <td>5</td>\n",
              "      <td>0.315007</td>\n",
              "      <td>0.410034</td>\n",
              "      <td>0.876453</td>\n",
              "      <td>02:55</td>\n",
              "    </tr>\n",
              "    <tr>\n",
              "      <td>6</td>\n",
              "      <td>0.304612</td>\n",
              "      <td>0.407812</td>\n",
              "      <td>0.877493</td>\n",
              "      <td>02:53</td>\n",
              "    </tr>\n",
              "  </tbody>\n",
              "</table>"
            ],
            "text/plain": [
              "<IPython.core.display.HTML object>"
            ]
          },
          "metadata": {
            "tags": []
          }
        }
      ]
    },
    {
      "cell_type": "code",
      "metadata": {
        "id": "JX2Bl0KF_yiE",
        "colab_type": "code",
        "colab": {}
      },
      "source": [
        "learn_c_bwd.save('cfr-bwd-ft-10ep')"
      ],
      "execution_count": 0,
      "outputs": []
    },
    {
      "cell_type": "code",
      "metadata": {
        "id": "oSmIL5DyNSD8",
        "colab_type": "code",
        "colab": {
          "base_uri": "https://localhost:8080/",
          "height": 331
        },
        "outputId": "ac5de1d9-22b9-49c4-803b-76633779ac48"
      },
      "source": [
        "learn_c_bwd.lr_find()\n",
        "learn_c_bwd.recorder.plot(suggestion=True)"
      ],
      "execution_count": 53,
      "outputs": [
        {
          "output_type": "display_data",
          "data": {
            "text/html": [
              ""
            ],
            "text/plain": [
              "<IPython.core.display.HTML object>"
            ]
          },
          "metadata": {
            "tags": []
          }
        },
        {
          "output_type": "stream",
          "text": [
            "LR Finder is complete, type {learner_name}.recorder.plot() to see the graph.\n",
            "Min numerical gradient: 5.75E-06\n",
            "Min loss divided by 10: 2.09E-04\n"
          ],
          "name": "stdout"
        },
        {
          "output_type": "display_data",
          "data": {
            "image/png": "[encoded data removed]",
            "text/plain": [
              "<Figure size 432x288 with 1 Axes>"
            ]
          },
          "metadata": {
            "tags": []
          }
        }
      ]
    },
    {
      "cell_type": "code",
      "metadata": {
        "id": "qLumnKwXNYV6",
        "colab_type": "code",
        "colab": {
          "base_uri": "https://localhost:8080/",
          "height": 175
        },
        "outputId": "11dc56f4-a07a-42d6-acd8-b0dedcb58029"
      },
      "source": [
        "learn_c_bwd.fit_one_cycle(4, slice(1e-05, 7e-3), moms=(0.8,0.7))"
      ],
      "execution_count": 54,
      "outputs": [
        {
          "output_type": "display_data",
          "data": {
            "text/html": [
              "<table border=\"1\" class=\"dataframe\">\n",
              "  <thead>\n",
              "    <tr style=\"text-align: left;\">\n",
              "      <th>epoch</th>\n",
              "      <th>train_loss</th>\n",
              "      <th>valid_loss</th>\n",
              "      <th>accuracy</th>\n",
              "      <th>time</th>\n",
              "    </tr>\n",
              "  </thead>\n",
              "  <tbody>\n",
              "    <tr>\n",
              "      <td>0</td>\n",
              "      <td>0.388381</td>\n",
              "      <td>0.434116</td>\n",
              "      <td>0.868789</td>\n",
              "      <td>02:45</td>\n",
              "    </tr>\n",
              "    <tr>\n",
              "      <td>1</td>\n",
              "      <td>0.375654</td>\n",
              "      <td>0.435107</td>\n",
              "      <td>0.870023</td>\n",
              "      <td>02:50</td>\n",
              "    </tr>\n",
              "    <tr>\n",
              "      <td>2</td>\n",
              "      <td>0.292952</td>\n",
              "      <td>0.430110</td>\n",
              "      <td>0.876583</td>\n",
              "      <td>02:49</td>\n",
              "    </tr>\n",
              "    <tr>\n",
              "      <td>3</td>\n",
              "      <td>0.231228</td>\n",
              "      <td>0.449792</td>\n",
              "      <td>0.873530</td>\n",
              "      <td>02:51</td>\n",
              "    </tr>\n",
              "  </tbody>\n",
              "</table>"
            ],
            "text/plain": [
              "<IPython.core.display.HTML object>"
            ]
          },
          "metadata": {
            "tags": []
          }
        }
      ]
    },
    {
      "cell_type": "code",
      "metadata": {
        "id": "bsx57Gg2Nt9n",
        "colab_type": "code",
        "colab": {}
      },
      "source": [
        "learn_c_bwd.load('cfr-bwd-ft-10ep')"
      ],
      "execution_count": 0,
      "outputs": []
    },
    {
      "cell_type": "markdown",
      "metadata": {
        "id": "bJmk74B7Rjd1",
        "colab_type": "text"
      },
      "source": [
        "# Test for Backwards model"
      ]
    },
    {
      "cell_type": "code",
      "metadata": {
        "id": "ugFudFmRRpqi",
        "colab_type": "code",
        "colab": {}
      },
      "source": [
        "data_clas_bwd.add_test(test_df['text'])"
      ],
      "execution_count": 0,
      "outputs": []
    },
    {
      "cell_type": "code",
      "metadata": {
        "id": "KJMYP-VJRZZu",
        "colab_type": "code",
        "colab": {}
      },
      "source": [
        "def predict_test(learn, dataset):\n",
        "    preds = learn.get_preds(dataset)\n",
        "    class_labels = np.argmax(preds[0], 1)\n",
        "    predictions = [learn.data.classes[i] for i in class_labels]\n",
        "    pred_df = pd.DataFrame({'event':predictions})\n",
        "    sub_df = pd.concat([test_df, pred_df], axis=1)\n",
        "    return preds, sub_df"
      ],
      "execution_count": 0,
      "outputs": []
    },
    {
      "cell_type": "code",
      "metadata": {
        "id": "Gs6KnewfT_RA",
        "colab_type": "code",
        "colab": {
          "base_uri": "https://localhost:8080/",
          "height": 34
        },
        "outputId": "ce1919f2-efcf-47d1-8ad0-343b6dbbd88f"
      },
      "source": [
        "DatasetType.Test"
      ],
      "execution_count": 60,
      "outputs": [
        {
          "output_type": "execute_result",
          "data": {
            "text/plain": [
              "<DatasetType.Test: 3>"
            ]
          },
          "metadata": {
            "tags": []
          },
          "execution_count": 60
        }
      ]
    },
    {
      "cell_type": "code",
      "metadata": {
        "id": "y45fCWAeSSnk",
        "colab_type": "code",
        "colab": {}
      },
      "source": [
        "preds_bwd, sub_df = predict_test(learn_c_bwd, DatasetType.Test)"
      ],
      "execution_count": 0,
      "outputs": []
    },
    {
      "cell_type": "code",
      "metadata": {
        "id": "SmabAE8lTmxg",
        "colab_type": "code",
        "colab": {
          "base_uri": "https://localhost:8080/",
          "height": 206
        },
        "outputId": "4c75aa87-7fc3-4b37-d01b-603b6fa5e011"
      },
      "source": [
        "sub_df.head()"
      ],
      "execution_count": 62,
      "outputs": [
        {
          "output_type": "execute_result",
          "data": {
            "text/html": [
              "<div>\n",
              "<style scoped>\n",
              "    .dataframe tbody tr th:only-of-type {\n",
              "        vertical-align: middle;\n",
              "    }\n",
              "\n",
              "    .dataframe tbody tr th {\n",
              "        vertical-align: top;\n",
              "    }\n",
              "\n",
              "    .dataframe thead th {\n",
              "        text-align: right;\n",
              "    }\n",
              "</style>\n",
              "<table border=\"1\" class=\"dataframe\">\n",
              "  <thead>\n",
              "    <tr style=\"text-align: right;\">\n",
              "      <th></th>\n",
              "      <th>text</th>\n",
              "      <th>sex</th>\n",
              "      <th>age</th>\n",
              "      <th>event</th>\n",
              "    </tr>\n",
              "  </thead>\n",
              "  <tbody>\n",
              "    <tr>\n",
              "      <th>0</th>\n",
              "      <td>54 Y O F PUNCTURE WOUND OF FIINGER RE ATTACHING A CAP ON AN INSULIN SYRING SHE HAD JUST USED ON HER HOME CARE PATIENT</td>\n",
              "      <td>2</td>\n",
              "      <td>54</td>\n",
              "      <td>55</td>\n",
              "    </tr>\n",
              "    <tr>\n",
              "      <th>1</th>\n",
              "      <td>22 YOM CONTUSION TO LT LOWER LEG S P MVC HIT BY CAR GUIDING IN A CAR GAS PEDAL GOT STUCK PUSHING HIM AGAINST DOOR  WORK YESTERDAY AM</td>\n",
              "      <td>1</td>\n",
              "      <td>22</td>\n",
              "      <td>62</td>\n",
              "    </tr>\n",
              "    <tr>\n",
              "      <th>2</th>\n",
              "      <td>20 YOM PT WORKS IN A QUARRY  WAS ATTEMPTING TO DISLODGE A LARGE ROCK AND DEVELOPED CHEST PAINS  DX CHEST WALL PAIN</td>\n",
              "      <td>1</td>\n",
              "      <td>20</td>\n",
              "      <td>71</td>\n",
              "    </tr>\n",
              "    <tr>\n",
              "      <th>3</th>\n",
              "      <td>38 YOF WAS WALKING AT WORK TWISTED HER LT ANKLE  LATER HER RIGHT KNEE DX LEFT ANKLE AND KNEE SPRAIN</td>\n",
              "      <td>2</td>\n",
              "      <td>38</td>\n",
              "      <td>73</td>\n",
              "    </tr>\n",
              "    <tr>\n",
              "      <th>4</th>\n",
              "      <td>44 YOM C O LOW BACK PAIN AFTER LIFTING A BOX AT WORK TODAY DX LEFT SIDED LOW BACK PAIN</td>\n",
              "      <td>1</td>\n",
              "      <td>44</td>\n",
              "      <td>71</td>\n",
              "    </tr>\n",
              "  </tbody>\n",
              "</table>\n",
              "</div>"
            ],
            "text/plain": [
              "                                                                                                                                   text  ...  event\n",
              "0  54 Y O F PUNCTURE WOUND OF FIINGER RE ATTACHING A CAP ON AN INSULIN SYRING SHE HAD JUST USED ON HER HOME CARE PATIENT                 ...  55   \n",
              "1  22 YOM CONTUSION TO LT LOWER LEG S P MVC HIT BY CAR GUIDING IN A CAR GAS PEDAL GOT STUCK PUSHING HIM AGAINST DOOR  WORK YESTERDAY AM  ...  62   \n",
              "2  20 YOM PT WORKS IN A QUARRY  WAS ATTEMPTING TO DISLODGE A LARGE ROCK AND DEVELOPED CHEST PAINS  DX CHEST WALL PAIN                    ...  71   \n",
              "3  38 YOF WAS WALKING AT WORK TWISTED HER LT ANKLE  LATER HER RIGHT KNEE DX LEFT ANKLE AND KNEE SPRAIN                                   ...  73   \n",
              "4  44 YOM C O LOW BACK PAIN AFTER LIFTING A BOX AT WORK TODAY DX LEFT SIDED LOW BACK PAIN                                                ...  71   \n",
              "\n",
              "[5 rows x 4 columns]"
            ]
          },
          "metadata": {
            "tags": []
          },
          "execution_count": 62
        }
      ]
    },
    {
      "cell_type": "code",
      "metadata": {
        "id": "e_r9WApiUn8I",
        "colab_type": "code",
        "colab": {}
      },
      "source": [
        "sub_df.to_csv('./solution_bwd.csv', index=False)"
      ],
      "execution_count": 0,
      "outputs": []
    },
    {
      "cell_type": "code",
      "metadata": {
        "id": "BBmQ-ItoUx0I",
        "colab_type": "code",
        "colab": {}
      },
      "source": [
        "from IPython.display import FileLink"
      ],
      "execution_count": 0,
      "outputs": []
    },
    {
      "cell_type": "code",
      "metadata": {
        "id": "APx73wPPbxxE",
        "colab_type": "code",
        "colab": {
          "base_uri": "https://localhost:8080/",
          "height": 34
        },
        "outputId": "e9e942e9-c317-462c-fac4-341d6eec66b5"
      },
      "source": [
        "FileLink('./models/cfr-bwd-ft-10ep.pth')"
      ],
      "execution_count": 67,
      "outputs": [
        {
          "output_type": "execute_result",
          "data": {
            "text/html": [
              "<a href='./models/cfr-bwd-ft-10ep.pth' target='_blank'>./models/cfr-bwd-ft-10ep.pth</a><br>"
            ],
            "text/plain": [
              "/content/models/cfr-bwd-ft-10ep.pth"
            ]
          },
          "metadata": {
            "tags": []
          },
          "execution_count": 67
        }
      ]
    },
    {
      "cell_type": "markdown",
      "metadata": {
        "id": "tABUz6jtmZlS",
        "colab_type": "text"
      },
      "source": [
        "# Ensembling Forward and Backward model"
      ]
    },
    {
      "cell_type": "code",
      "metadata": {
        "id": "niiccadPcsjM",
        "colab_type": "code",
        "colab": {
          "base_uri": "https://localhost:8080/",
          "height": 34
        },
        "outputId": "1218b016-19d2-4ec9-e1e4-5ef3f5df5908"
      },
      "source": [
        "len(preds_bwd[0])"
      ],
      "execution_count": 137,
      "outputs": [
        {
          "output_type": "execute_result",
          "data": {
            "text/plain": [
              "75864"
            ]
          },
          "metadata": {
            "tags": []
          },
          "execution_count": 137
        }
      ]
    },
    {
      "cell_type": "code",
      "metadata": {
        "id": "6Fk5ZAeiFoYR",
        "colab_type": "code",
        "colab": {
          "base_uri": "https://localhost:8080/",
          "height": 34
        },
        "outputId": "df0fc742-afc4-4bff-abfd-58f7ced5999b"
      },
      "source": [
        "len(preds_fwd[0])"
      ],
      "execution_count": 138,
      "outputs": [
        {
          "output_type": "execute_result",
          "data": {
            "text/plain": [
              "75864"
            ]
          },
          "metadata": {
            "tags": []
          },
          "execution_count": 138
        }
      ]
    },
    {
      "cell_type": "code",
      "metadata": {
        "id": "FMTBXoMfISbY",
        "colab_type": "code",
        "colab": {}
      },
      "source": [
        "scores_ensembles = []\n",
        "scores_ensembles.append(preds_fwd[0])\n",
        "scores_ensembles.append(preds_bwd[0])\n",
        "ensemble_scores = sum(scores_ensembles)/len(scores_ensembles)\n",
        "ensemble_preds = np.argmax(ensemble_scores,1)\n",
        "emsemble_pred_classes = [learn_c_fwd.data.classes[x] for x in ensemble_preds]"
      ],
      "execution_count": 0,
      "outputs": []
    },
    {
      "cell_type": "code",
      "metadata": {
        "id": "wnFAVlhhJMmK",
        "colab_type": "code",
        "colab": {}
      },
      "source": [
        "ensemble_pred_df = pd.DataFrame({'event':emsemble_pred_classes})\n",
        "ensemble_sub_df = pd.concat([test_df, ensemble_pred_df], axis=1)"
      ],
      "execution_count": 0,
      "outputs": []
    },
    {
      "cell_type": "code",
      "metadata": {
        "id": "JfjIAV2JKPqy",
        "colab_type": "code",
        "colab": {}
      },
      "source": [
        "ensemble_sub_df.to_csv('./ensemble_fwd_bwd-2.csv', index=False)"
      ],
      "execution_count": 0,
      "outputs": []
    },
    {
      "cell_type": "code",
      "metadata": {
        "id": "pHEWhtItKV8u",
        "colab_type": "code",
        "colab": {
          "base_uri": "https://localhost:8080/",
          "height": 34
        },
        "outputId": "4dbb4e3a-8a3e-4022-e7cc-5785197b9137"
      },
      "source": [
        "len(ensemble_scores)"
      ],
      "execution_count": 143,
      "outputs": [
        {
          "output_type": "execute_result",
          "data": {
            "text/plain": [
              "75864"
            ]
          },
          "metadata": {
            "tags": []
          },
          "execution_count": 143
        }
      ]
    },
    {
      "cell_type": "code",
      "metadata": {
        "id": "v0380caxV-_H",
        "colab_type": "code",
        "colab": {}
      },
      "source": [
        "ensemble_numpy = np.array(ensemble_scores)"
      ],
      "execution_count": 0,
      "outputs": []
    },
    {
      "cell_type": "code",
      "metadata": {
        "id": "HRwx2ryQWzHC",
        "colab_type": "code",
        "colab": {}
      },
      "source": [
        "f = io.BytesIO()"
      ],
      "execution_count": 0,
      "outputs": []
    },
    {
      "cell_type": "code",
      "metadata": {
        "id": "OqPJE9lqWgzi",
        "colab_type": "code",
        "colab": {}
      },
      "source": [
        "np.save(f, ensemble_numpy)"
      ],
      "execution_count": 0,
      "outputs": []
    },
    {
      "cell_type": "code",
      "metadata": {
        "id": "45F9UFBTW64b",
        "colab_type": "code",
        "colab": {
          "base_uri": "https://localhost:8080/",
          "height": 69
        },
        "outputId": "448159f4-50ab-4fbe-8ac2-a836ce8cfa1f"
      },
      "source": [
        "ls"
      ],
      "execution_count": 147,
      "outputs": [
        {
          "output_type": "stream",
          "text": [
            "ensemble_fwd_bwd-2.csv  learn_unfr_fwd-10ep.pth  \u001b[0m\u001b[01;34msample_data\u001b[0m/      train.csv\n",
            "ensemble_fwd_bwd.csv    lm_csv.csv               solution_bwd.csv\n",
            "fine_tuned_fwd_enc.pth  \u001b[01;34mmodels\u001b[0m/                  test.csv\n"
          ],
          "name": "stdout"
        }
      ]
    },
    {
      "cell_type": "code",
      "metadata": {
        "id": "lnnW5Pg1XE1W",
        "colab_type": "code",
        "colab": {
          "base_uri": "https://localhost:8080/",
          "height": 34
        },
        "outputId": "946883e6-be2b-4832-b127-272b523991d9"
      },
      "source": [
        "type(ensemble_scores)"
      ],
      "execution_count": 148,
      "outputs": [
        {
          "output_type": "execute_result",
          "data": {
            "text/plain": [
              "torch.Tensor"
            ]
          },
          "metadata": {
            "tags": []
          },
          "execution_count": 148
        }
      ]
    },
    {
      "cell_type": "code",
      "metadata": {
        "id": "IwwZdhebXXlu",
        "colab_type": "code",
        "colab": {}
      },
      "source": [
        "torch.save(preds_fwd, 'pred_fwd_tensor.pt')"
      ],
      "execution_count": 0,
      "outputs": []
    },
    {
      "cell_type": "code",
      "metadata": {
        "id": "Z6SwXplFXjgA",
        "colab_type": "code",
        "colab": {}
      },
      "source": [
        ""
      ],
      "execution_count": 0,
      "outputs": []
    }
  ]
}